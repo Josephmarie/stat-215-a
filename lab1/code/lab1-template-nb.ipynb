{
 "cells": [
  {
   "cell_type": "raw",
   "metadata": {
    "vscode": {
     "languageId": "raw"
    }
   },
   "source": [
    "---\n",
    "title: Lab 1 - PECARN TBI Data, Stat 215A, Fall 2024\n",
    "date: today\n",
    "execute:\n",
    "    echo: false\n",
    "format:\n",
    "    pdf:\n",
    "        geometry: margin=1in\n",
    "        documentclass: article\n",
    "        fontsize: 10pt\n",
    "---"
   ]
  },
  {
   "cell_type": "markdown",
   "metadata": {
    "vscode": {
     "languageId": "raw"
    }
   },
   "source": [
    "Please use this structure for your report, but you do not have to\n",
    "slavishly follow this template. All bullet points are merely suggestions\n",
    "and potential points to discuss in your writeup. Your report should be\n",
    "no more than 12 pages, including figures. Do not include *any* code or\n",
    "code output in your report. Indicate your informal collaborators on the\n",
    "assignment, if you had any."
   ]
  },
  {
   "cell_type": "markdown",
   "metadata": {
    "vscode": {
     "languageId": "raw"
    }
   },
   "source": [
    "# Introduction\n",
    "\n",
    "Things to potentially include in your introduction:\n",
    "\n",
    "-   Describe the premise of your exploratory data analysis and put your\n",
    "    analysis in the domain context\n",
    "\n",
    "-   Explain why studying the TBI data is interesting and/or important\n",
    "\n",
    "-   What are the implications of better understanding this data?\n",
    "\n",
    "-   What is the purpose of your exploratory data analysis?\n",
    "\n",
    "-   Outline what you will be doing in the rest of the report/analysis\n",
    "\n",
    "\n",
    "The premise of my EDA is investigating Traumatic Brain Injury (TBI), which is a major public health concern, particularly for children, where it is a leading cause of death and disability. This report I created should try to present my attempt of exploratory data analysis (EDA) of pediatric TBI data from a significant study published in The Lancet by Nathan Kuppermann et al. (2009). I don't have much programming expertise but would love to learn if I made any mistakes in putting together this lab. Can you please send me feedback.\n",
    "\n",
    "Studying TBI data is interesting because in the United States, head trauma in individuals under 18 leads to approximately 7,400 deaths, over 60,000 hospital admissions, and more than 600,000 emergency department visits each year. Effective management of pediatric TBI is crucial to reducing both immediate and long-term health impacts.\n",
    "\n",
    "Understanding the implications of TBI data is vital for several reasons. It helps identify key factors and predictors associated with serious brain injuries in children, improves clinical decision-making to reduce unnecessary CT scans, and leads to better treatment protocols and preventive measures.\n",
    "\n",
    "The study's goal was to identify children at very low risk of clinically important traumatic brain injuries (ciTBIs) to avoid unnecessary CT scans, which carry the risk of radiation-induced malignancies.\n",
    "\n",
    "\n",
    "Please correct me if I have gone wrong somewhere in this attempt.\n",
    "The report will cover:\n",
    "\n",
    "Data Overview: Description of the dataset and its variables.\n",
    "Data Cleaning and Preparation: Steps taken to clean and preprocess the data.\n",
    "Exploratory Data Analysis: Examination of trends and relationships in the data.\n",
    "Predictive Modeling: Implementation and evaluation of predictive models for ciTBI.\n",
    "Discussion and Implications: Interpretation of findings and their clinical implications.\n",
    "Conclusion: Summary of key insights and future research directions.\n",
    "Through this analysis, we aim to contribute to the understanding of pediatric TBI and support efforts to optimize diagnostic imaging in emergency settings.\n"
   ]
  },
  {
   "cell_type": "markdown",
   "metadata": {
    "vscode": {
     "languageId": "raw"
    }
   },
   "source": [
    "# Data\n",
    "\n",
    "-   What is the data that you will be looking at?\n",
    "\n",
    "\n",
    "-   Provide a brief overview of the data\n",
    "\n",
    "\n",
    "-   How is this data relevant to the problem of interest? In other\n",
    "    words, make the link between the data and the domain problem"
   ]
  },
  {
   "cell_type": "markdown",
   "metadata": {},
   "source": [
    "## What is the data we are looking at\n",
    "The data being analyzed in this lab comes from the Pediatric Emergency Care Applied Research Network (PECARN), specifically focused on detecting the risk of traumatic brain injuries (TBI) in children younger than 18 years. This data is important because TBI is a leading cause of death among this age group, and timely identification of high-risk patients is critical to administering appropriate interventions. The dataset includes patient-level features, gathered during emergency care, which can help in developing risk scores for determining whether a computed tomography (CT) scan is necessary. The goal is to avoid unnecessary scans due to the associated risks of ionizing radiation while ensuring high sensitivity in detecting potential brain injuries.\n",
    "\n",
    "## Brief Overview of the Data:\n",
    "Source: PECARN, focusing on acute injuries and illnesses in children.\n",
    "Context: The data set is aimed at evaluating the risk of traumatic brain injuries in children.\n",
    "Structure: It includes both raw data (TBI PUD 10-08-2013.csv) and a documentation sheet (TBI PUD Documentation 10-08-2013.xlsx) explaining each feature.\n",
    "Variables: These features include clinical characteristics that can help in determining the risk of TBI and the necessity of a CT scan.\n",
    "Focus: The aim is to clean, explore, and analyze the dataset to improve clinical decision rules for identifying patients needing a CT scan.\n",
    "\n",
    "## How is this data relevant to the problem of interest? In other words, make the link between the data and the domain problem\n",
    "The data is highly relevant to the problem of interest, which is developing clinical decision rules for identifying children at high risk of traumatic brain injuries (TBI) after blunt head trauma. The data includes critical patient-level features gathered during emergency care, such as clinical characteristics that clinicians can use to evaluate the likelihood of a TBI.\n",
    "\n",
    "Link Between the Data and the Domain Problem:\n",
    "Predicting TBI Risk: The core problem is to determine which children need a CT scan to diagnose a TBI while minimizing unnecessary scans due to the risks of ionizing radiation. The dataset contains the kind of clinical data that would be available to emergency room clinicians, such as Glasgow Coma Scale scores, the nature of the trauma, and other physical and neurological signs. These variables are key for developing a risk score that predicts which patients are at low or high risk for TBI.\n",
    "\n",
    "Avoiding Unnecessary CT Scans: The decision-making process in the emergency room involves weighing the benefits of early detection of TBI against the harms of exposing children to radiation from CT scans. The dataset enables the development of algorithms or clinical decision rules that can predict risk based on the available features, thereby reducing unnecessary scans and focusing on high-risk cases.\n",
    "\n",
    "Domain Relevance: Since TBI is a leading cause of death in children, developing a high-sensitivity rule is critical. The dataset allows for the exploration of which clinical characteristics most strongly correlate with TBIs, making it easier for clinicians to apply these rules in practice. This can lead to a more efficient, accurate, and safer diagnostic process, aligning with the domain problem of improving patient outcomes without overburdening them with unnecessary interventions.\n",
    "\n",
    "\n"
   ]
  },
  {
   "cell_type": "markdown",
   "metadata": {
    "vscode": {
     "languageId": "raw"
    }
   },
   "source": [
    "## Data Collection\n",
    "\n",
    "-   How was the data generated?\n",
    "\n",
    "The data was generated by the Pediatric Emergency Care Applied Research Network (PECARN) through its research into acute injuries and illnesses among children. It specifically focuses on traumatic brain injuries (TBI) in patients under the age of 18. The data was collected from multiple emergency departments across various institutions, reflecting a wide demographic and clinical variation. Each patient’s data captures clinical characteristics and outcomes during emergency care visits for blunt head trauma. The data was gathered to aid in developing clinical decision rules that guide clinicians in deciding whether a CT scan is necessary for detecting a TBI.\n",
    "\n",
    "The dataset used in this lab is derived from the study conducted by Kuppermann et al., which aimed to create a risk prediction model to assess TBI risk in pediatric patients. The data represents a real-world scenario in which children are brought to emergency departments after suffering head injuries, and clinicians must decide whether to conduct CT scans based on the patient’s condition.\n",
    "\n",
    "-   Discuss how the measurements of each variable in the data vary\n",
    "\n",
    "  \n",
    "The purpose of my EDA is to \\textbf{examine the pediatric TBI dataset to uncover patterns and significant predictors of ciTBI}. \\newline This analysis aims to validate and potentially enhance the clinical prediction rules from the original study, highlighting areas for further research and providing recommendations for clinical practice.\n"
   ]
  },
  {
   "cell_type": "markdown",
   "metadata": {
    "vscode": {
     "languageId": "raw"
    }
   },
   "source": [
    "## Data Cleaning\n",
    "\n",
    "-   Discuss all inconsistencies, problems, oddities in the data\n",
    "    (e.g. missing data, errors in data, outliers, etc)\n",
    "\n",
    "-   What steps did you take to clean the data, and why did you clean the\n",
    "    data in that way?\n",
    "\n",
    "-   Record your preprocessing steps in a way such that if someone else\n",
    "    were to reproduce your analysis, they could easily replicate and\n",
    "    understand your preprocessing\n",
    "\n",
    "-   You may find it helpful to include relevant plots that help to\n",
    "    explain the choices you made when cleaning the data\n",
    "\n",
    "-   Be transparent! This allows for others to read your work and make\n",
    "    their own educated decisions on how best to preprocess the data.\n"
   ]
  },
  {
   "cell_type": "code",
   "execution_count": 1,
   "metadata": {},
   "outputs": [],
   "source": [
    "import pandas as pd"
   ]
  },
  {
   "cell_type": "code",
   "execution_count": 2,
   "metadata": {},
   "outputs": [],
   "source": [
    "import os"
   ]
  },
  {
   "cell_type": "code",
   "execution_count": 3,
   "metadata": {},
   "outputs": [],
   "source": [
    "import matplotlib.pyplot as plt"
   ]
  },
  {
   "cell_type": "code",
   "execution_count": 4,
   "metadata": {},
   "outputs": [
    {
     "data": {
      "text/plain": [
       "'/Users/user/Desktop/stat-215-a/lab1/code'"
      ]
     },
     "execution_count": 4,
     "metadata": {},
     "output_type": "execute_result"
    }
   ],
   "source": [
    "os.getcwd()"
   ]
  },
  {
   "cell_type": "code",
   "execution_count": 5,
   "metadata": {},
   "outputs": [],
   "source": [
    "# Load the CSV file into a DataFrame\n",
    "df = pd.read_csv('../data/TBI PUD 10-08-2013.csv')"
   ]
  },
  {
   "cell_type": "code",
   "execution_count": 6,
   "metadata": {
    "scrolled": true
   },
   "outputs": [
    {
     "name": "stdout",
     "output_type": "stream",
     "text": [
      "48\n",
      "<class 'pandas.core.frame.DataFrame'>\n",
      "RangeIndex: 43399 entries, 0 to 43398\n",
      "Columns: 125 entries, PatNum to PosIntFinal\n",
      "dtypes: float64(48), int64(77)\n",
      "memory usage: 41.4 MB\n"
     ]
    }
   ],
   "source": [
    "c = 0\n",
    "for column_name in df.columns:\n",
    "    # Check if the column has any NaNs\n",
    "    if df[column_name].isna().any():\n",
    "        c +=1\n",
    "\n",
    "print(c)\n",
    "df.info()"
   ]
  },
  {
   "cell_type": "markdown",
   "metadata": {},
   "source": [
    "# 1: 48/125 columns have missing values. Lets drop the NAs"
   ]
  },
  {
   "cell_type": "code",
   "execution_count": 7,
   "metadata": {},
   "outputs": [
    {
     "data": {
      "text/plain": [
       "PatNum                  0\n",
       "EmplType               18\n",
       "Certification           0\n",
       "InjuryMech            301\n",
       "High_impact_InjSev    334\n",
       "                     ... \n",
       "HospHead                3\n",
       "HospHeadPosCT           0\n",
       "Intub24Head             4\n",
       "Neurosurgery            1\n",
       "PosIntFinal            20\n",
       "Length: 125, dtype: int64"
      ]
     },
     "execution_count": 7,
     "metadata": {},
     "output_type": "execute_result"
    }
   ],
   "source": [
    "nas_per_column = df.isnull().sum() # Count missing values per column\n",
    "nas_per_column"
   ]
  },
  {
   "cell_type": "code",
   "execution_count": 8,
   "metadata": {},
   "outputs": [
    {
     "data": {
      "text/plain": [
       "524.672"
      ]
     },
     "execution_count": 8,
     "metadata": {},
     "output_type": "execute_result"
    }
   ],
   "source": [
    "# The average number of missing values per column\n",
    "avg_na_per_column = nas_per_column.mean()\n",
    "avg_na_per_column"
   ]
  },
  {
   "cell_type": "code",
   "execution_count": 9,
   "metadata": {},
   "outputs": [
    {
     "data": {
      "text/plain": [
       "<Axes: >"
      ]
     },
     "execution_count": 9,
     "metadata": {},
     "output_type": "execute_result"
    },
    {
     "data": {
      "image/png": "[encoded data removed]",
      "text/plain": [
       "<Figure size 640x480 with 1 Axes>"
      ]
     },
     "metadata": {},
     "output_type": "display_data"
    }
   ],
   "source": [
    "# The percentage of missing values per column\n",
    "percentage_missing_per_column = (nas_per_column / len(df)) * 100\n",
    "percentage_missing_per_column.plot()"
   ]
  },
  {
   "cell_type": "markdown",
   "metadata": {},
   "source": [
    "# 2. Checking Datatypes of each column to change numbers stored as strings to numeric values"
   ]
  },
  {
   "cell_type": "code",
   "execution_count": 10,
   "metadata": {
    "scrolled": true
   },
   "outputs": [
    {
     "name": "stdout",
     "output_type": "stream",
     "text": [
      "Original Data Types:\n",
      "PatNum                  int64\n",
      "EmplType              float64\n",
      "Certification           int64\n",
      "InjuryMech            float64\n",
      "High_impact_InjSev    float64\n",
      "                       ...   \n",
      "HospHead              float64\n",
      "HospHeadPosCT           int64\n",
      "Intub24Head           float64\n",
      "Neurosurgery          float64\n",
      "PosIntFinal           float64\n",
      "Length: 125, dtype: object\n",
      "\n",
      "Columns that might store numbers as text:\n",
      "Index([], dtype='object')\n",
      "\n",
      "Updated Data Types after conversion:\n",
      "PatNum                  int64\n",
      "EmplType              float64\n",
      "Certification           int64\n",
      "InjuryMech            float64\n",
      "High_impact_InjSev    float64\n",
      "                       ...   \n",
      "HospHead              float64\n",
      "HospHeadPosCT           int64\n",
      "Intub24Head           float64\n",
      "Neurosurgery          float64\n",
      "PosIntFinal           float64\n",
      "Length: 125, dtype: object\n"
     ]
    }
   ],
   "source": [
    "# Check the data types of all columns\n",
    "print(\"Original Data Types:\")\n",
    "print(df.dtypes)\n",
    "\n",
    "# Identify columns of type 'object' (which might store numbers as text)\n",
    "object_cols = df.select_dtypes(include=['object']).columns\n",
    "print(\"\\nColumns that might store numbers as text:\")\n",
    "print(object_cols)\n",
    "\n",
    "# Check for numeric values stored as text in those columns\n",
    "for col in object_cols:\n",
    "    mask = df[col].apply(lambda x: x.isdigit() if isinstance(x, str) else False)\n",
    "    if mask.any():\n",
    "        print(f\"\\nNumbers stored as text in column: {col}\")\n",
    "        print(df[col][mask])\n",
    "\n",
    "# Convert columns with numeric strings to proper numeric types\n",
    "for col in object_cols:\n",
    "    df[col] = pd.to_numeric(df[col], errors='coerce')\n",
    "\n",
    "# Verify the conversion\n",
    "print(\"\\nUpdated Data Types after conversion:\")\n",
    "print(df.dtypes)\n"
   ]
  },
  {
   "cell_type": "code",
   "execution_count": 11,
   "metadata": {},
   "outputs": [],
   "source": [
    "df = df.dropna()"
   ]
  },
  {
   "cell_type": "markdown",
   "metadata": {},
   "source": [
    "# 2. Lets make sure all the numbers are of the correct data type. If they are not of int64 / float64 datatypes and stored as an object instead we will convert them to numeric data"
   ]
  },
  {
   "cell_type": "markdown",
   "metadata": {
    "vscode": {
     "languageId": "raw"
    }
   },
   "source": [
    "## Data Exploration\n",
    "\n",
    "-   The main goal of this section is to give the reader a feel for what\n",
    "    the data \"looks like' ' at a basic level\n",
    "\n",
    "-   Think about plots that summarize the data, plots that convey some\n",
    "    smaller findings which ultimately motivate your main findings\n",
    "\n",
    "-   A good report will tie everything together so that there is a reason\n",
    "    for every figure in the story"
   ]
  },
  {
   "cell_type": "markdown",
   "metadata": {},
   "source": [
    "# 1. Summary"
   ]
  },
  {
   "cell_type": "code",
   "execution_count": 12,
   "metadata": {},
   "outputs": [],
   "source": [
    "import pandas as pd\n",
    "import statsmodels.api as sm\n",
    "import matplotlib.pyplot as plt\n",
    "import seaborn as sns"
   ]
  },
  {
   "cell_type": "code",
   "execution_count": 13,
   "metadata": {},
   "outputs": [
    {
     "name": "stdout",
     "output_type": "stream",
     "text": [
      "<class 'pandas.core.frame.DataFrame'>\n",
      "Index: 10529 entries, 0 to 43397\n",
      "Columns: 125 entries, PatNum to PosIntFinal\n",
      "dtypes: float64(48), int64(77)\n",
      "memory usage: 10.1 MB\n"
     ]
    }
   ],
   "source": [
    "df.info()"
   ]
  },
  {
   "cell_type": "code",
   "execution_count": 14,
   "metadata": {},
   "outputs": [
    {
     "data": {
      "text/plain": [
       "524.672"
      ]
     },
     "execution_count": 14,
     "metadata": {},
     "output_type": "execute_result"
    }
   ],
   "source": [
    "# The average number of missing values per column\n",
    "avg_na_per_column = nas_per_column.mean()\n",
    "avg_na_per_column"
   ]
  },
  {
   "cell_type": "code",
   "execution_count": 15,
   "metadata": {},
   "outputs": [
    {
     "name": "stdout",
     "output_type": "stream",
     "text": [
      "<class 'pandas.core.frame.DataFrame'>\n",
      "Index: 10529 entries, 0 to 43397\n",
      "Columns: 125 entries, PatNum to PosIntFinal\n",
      "dtypes: float64(48), int64(77)\n",
      "memory usage: 10.1 MB\n"
     ]
    }
   ],
   "source": [
    "df_no_nas= df.dropna()\n",
    "df_no_nas.info()"
   ]
  },
  {
   "cell_type": "code",
   "execution_count": 16,
   "metadata": {},
   "outputs": [
    {
     "data": {
      "text/plain": [
       "PatNum                0.000000\n",
       "EmplType              0.170956\n",
       "Certification         0.000000\n",
       "InjuryMech            2.858771\n",
       "High_impact_InjSev    3.172191\n",
       "                        ...   \n",
       "HospHead              0.028493\n",
       "HospHeadPosCT         0.000000\n",
       "Intub24Head           0.037990\n",
       "Neurosurgery          0.009498\n",
       "PosIntFinal           0.189952\n",
       "Length: 125, dtype: float64"
      ]
     },
     "execution_count": 16,
     "metadata": {},
     "output_type": "execute_result"
    }
   ],
   "source": [
    "# The percentage of missing values per column\n",
    "percentage_missing_per_column = (nas_per_column / len(df)) * 100\n",
    "percentage_missing_per_column"
   ]
  },
  {
   "cell_type": "code",
   "execution_count": 17,
   "metadata": {},
   "outputs": [],
   "source": [
    "# Since the percentage of missing values are low I will keep all the variables"
   ]
  },
  {
   "cell_type": "code",
   "execution_count": 18,
   "metadata": {},
   "outputs": [],
   "source": [
    "df = df.dropna()"
   ]
  },
  {
   "cell_type": "markdown",
   "metadata": {
    "vscode": {
     "languageId": "raw"
    }
   },
   "source": [
    "# Findings\n",
    "\n",
    "-   Present three interesting findings and produce a publication quality\n",
    "    graphic for each along with a short caption of what each shows.\n",
    "\n",
    "-   Don't forget to appropriate label axes, titles\n",
    "\n",
    "-   Think carefully about use of color, labeling, shading, transparency,\n",
    "    etc.\n",
    "\n",
    "-   Also interpret and provide an insightful discussion of what your\n",
    "    figures show"
   ]
  },
  {
   "cell_type": "markdown",
   "metadata": {},
   "source": [
    "# Finding 1:\n",
    "\n",
    "#### This finding shows that even for High Impact Injuries rated 3.0, when CT is Done, only 13% required surgeries. In fact 86% of the time when CT is done and HigImpactInjSev is 3.0, there is no surgery required. "
   ]
  },
  {
   "cell_type": "code",
   "execution_count": 19,
   "metadata": {},
   "outputs": [
    {
     "name": "stdout",
     "output_type": "stream",
     "text": [
      "CT done Frequency by Risk Level:\n",
      " CTDone                     0         1\n",
      "High_impact_InjSev                    \n",
      "1.0                 0.796107  0.203893\n",
      "2.0                 0.752490  0.247510\n",
      "3.0                 0.657367  0.342633\n"
     ]
    }
   ],
   "source": [
    "# the frequency of CT done in each risk category\n",
    "CT_done_frequency = df.groupby('High_impact_InjSev')['CTDone'].value_counts(normalize=True).unstack().fillna(0)\n",
    "print(\"CT done Frequency by Risk Level:\\n\", CT_done_frequency)"
   ]
  },
  {
   "cell_type": "code",
   "execution_count": 20,
   "metadata": {},
   "outputs": [
    {
     "name": "stdout",
     "output_type": "stream",
     "text": [
      "ciTBI Frequency by Risk Level:\n",
      " PosCT                     0         1         92\n",
      "High_impact_InjSev                              \n",
      "1.0                 0.198770  0.005123  0.796107\n",
      "2.0                 0.240377  0.007133  0.752490\n",
      "3.0                 0.325196  0.017437  0.657367\n"
     ]
    }
   ],
   "source": [
    "# the frequency of ciTBI needed in each risk category\n",
    "ciTBI_frequency = df.groupby('High_impact_InjSev')['PosCT'].value_counts(normalize=True).unstack().fillna(0)\n",
    "print(\"ciTBI Frequency by Risk Level:\\n\", ciTBI_frequency)"
   ]
  },
  {
   "cell_type": "code",
   "execution_count": 21,
   "metadata": {},
   "outputs": [
    {
     "name": "stdout",
     "output_type": "stream",
     "text": [
      "Combined CT done and ciTBI Frequency by Risk Level:\n",
      " PosCT                            0         1    92\n",
      "High_impact_InjSev CTDone                         \n",
      "1.0                0       0.000000  0.000000  1.0\n",
      "                   1       0.974874  0.025126  0.0\n",
      "2.0                0       0.000000  0.000000  1.0\n",
      "                   1       0.971180  0.028820  0.0\n",
      "3.0                0       0.000000  0.000000  1.0\n",
      "                   1       0.949109  0.050891  0.0\n"
     ]
    }
   ],
   "source": [
    "combined_frequency = df.groupby(['High_impact_InjSev', 'CTDone'])['PosCT'].value_counts(normalize=True).unstack().fillna(0)\n",
    "print(\"Combined CT done and ciTBI Frequency by Risk Level:\\n\", combined_frequency)\n"
   ]
  },
  {
   "cell_type": "code",
   "execution_count": 22,
   "metadata": {},
   "outputs": [
    {
     "data": {
      "image/png": "[encoded data removed]",
      "text/plain": [
       "<Figure size 640x480 with 1 Axes>"
      ]
     },
     "metadata": {},
     "output_type": "display_data"
    }
   ],
   "source": [
    "combined_frequency.plot(kind='bar', stacked=False)\n",
    "plt.title('CT Done and ciTBI Frequency by Risk Level')\n",
    "plt.xlabel('Risk Level and CT Done')\n",
    "plt.ylabel('Frequency')\n",
    "plt.xticks(rotation=45, ha='right')\n",
    "plt.tight_layout()\n",
    "plt.show()"
   ]
  },
  {
   "cell_type": "markdown",
   "metadata": {
    "vscode": {
     "languageId": "raw"
    }
   },
   "source": [
    "# Finding 2: \n",
    "\n",
    "#### The table below shows that when CT was Done, most of the times it was not necessary Clinically Important TBI as PostIntFinal was never more than 8% in even the worst case that we can see above."
   ]
  },
  {
   "cell_type": "code",
   "execution_count": 23,
   "metadata": {},
   "outputs": [
    {
     "data": {
      "text/html": [
       "<div>\n",
       "<style scoped>\n",
       "    .dataframe tbody tr th:only-of-type {\n",
       "        vertical-align: middle;\n",
       "    }\n",
       "\n",
       "    .dataframe tbody tr th {\n",
       "        vertical-align: top;\n",
       "    }\n",
       "\n",
       "    .dataframe thead th {\n",
       "        text-align: right;\n",
       "    }\n",
       "</style>\n",
       "<table border=\"1\" class=\"dataframe\">\n",
       "  <thead>\n",
       "    <tr style=\"text-align: right;\">\n",
       "      <th></th>\n",
       "      <th>PosIntFinal</th>\n",
       "      <th>0.0</th>\n",
       "      <th>1.0</th>\n",
       "    </tr>\n",
       "    <tr>\n",
       "      <th>High_impact_InjSev</th>\n",
       "      <th>CTDone</th>\n",
       "      <th></th>\n",
       "      <th></th>\n",
       "    </tr>\n",
       "  </thead>\n",
       "  <tbody>\n",
       "    <tr>\n",
       "      <th rowspan=\"2\" valign=\"top\">1.0</th>\n",
       "      <th>0</th>\n",
       "      <td>1.000000</td>\n",
       "      <td>0.000000</td>\n",
       "    </tr>\n",
       "    <tr>\n",
       "      <th>1</th>\n",
       "      <td>0.992462</td>\n",
       "      <td>0.007538</td>\n",
       "    </tr>\n",
       "    <tr>\n",
       "      <th rowspan=\"2\" valign=\"top\">2.0</th>\n",
       "      <th>0</th>\n",
       "      <td>1.000000</td>\n",
       "      <td>0.000000</td>\n",
       "    </tr>\n",
       "    <tr>\n",
       "      <th>1</th>\n",
       "      <td>0.985862</td>\n",
       "      <td>0.014138</td>\n",
       "    </tr>\n",
       "    <tr>\n",
       "      <th rowspan=\"2\" valign=\"top\">3.0</th>\n",
       "      <th>0</th>\n",
       "      <td>1.000000</td>\n",
       "      <td>0.000000</td>\n",
       "    </tr>\n",
       "    <tr>\n",
       "      <th>1</th>\n",
       "      <td>0.982188</td>\n",
       "      <td>0.017812</td>\n",
       "    </tr>\n",
       "  </tbody>\n",
       "</table>\n",
       "</div>"
      ],
      "text/plain": [
       "PosIntFinal                     0.0       1.0\n",
       "High_impact_InjSev CTDone                    \n",
       "1.0                0       1.000000  0.000000\n",
       "                   1       0.992462  0.007538\n",
       "2.0                0       1.000000  0.000000\n",
       "                   1       0.985862  0.014138\n",
       "3.0                0       1.000000  0.000000\n",
       "                   1       0.982188  0.017812"
      ]
     },
     "execution_count": 23,
     "metadata": {},
     "output_type": "execute_result"
    }
   ],
   "source": [
    "PosIntFinal_frequency = df.groupby(['High_impact_InjSev', 'CTDone'])['PosIntFinal'].value_counts(normalize=True).unstack().fillna(0)\n",
    "# print(\"Combined PosIntFinal, CT done and ciTBI by Risk Level :\\n\", PosIntFinal_frequency)\n",
    "PosIntFinal_frequency"
   ]
  },
  {
   "cell_type": "code",
   "execution_count": 24,
   "metadata": {},
   "outputs": [
    {
     "data": {
      "text/plain": [
       "<Figure size 1000x600 with 0 Axes>"
      ]
     },
     "metadata": {},
     "output_type": "display_data"
    },
    {
     "data": {
      "image/png": "[encoded data removed]",
      "text/plain": [
       "<Figure size 640x480 with 1 Axes>"
      ]
     },
     "metadata": {},
     "output_type": "display_data"
    }
   ],
   "source": [
    "plt.figure(figsize=(10,6))\n",
    "PosIntFinal_frequency.plot(kind='bar', stacked=False)\n",
    "plt.title('Combined PosIntFinal, CT Done and ciTBI by Risk Level')\n",
    "plt.xlabel('Risk Level and CT Done')\n",
    "plt.ylabel('Frequency')\n",
    "plt.xticks(rotation=45, ha='right')\n",
    "plt.tight_layout()\n",
    "plt.show()\n"
   ]
  },
  {
   "cell_type": "markdown",
   "metadata": {
    "vscode": {
     "languageId": "raw"
    }
   },
   "source": [
    "# Finding 3\n",
    "#### This shows how most of the times there is CT done, there is no Surgery Done. When we examine professions who recommned the CT, the highest rate is shown to be 2.0 [Physician Assistant]. We find that 98% of the time a Physician Assistant recommends CT, 98% of the time it does lead to a surgery. The best rate is 90% and it is for a Fellow."
   ]
  },
  {
   "cell_type": "code",
   "execution_count": 25,
   "metadata": {},
   "outputs": [
    {
     "data": {
      "text/html": [
       "<div>\n",
       "<style scoped>\n",
       "    .dataframe tbody tr th:only-of-type {\n",
       "        vertical-align: middle;\n",
       "    }\n",
       "\n",
       "    .dataframe tbody tr th {\n",
       "        vertical-align: top;\n",
       "    }\n",
       "\n",
       "    .dataframe thead th {\n",
       "        text-align: right;\n",
       "    }\n",
       "</style>\n",
       "<table border=\"1\" class=\"dataframe\">\n",
       "  <thead>\n",
       "    <tr style=\"text-align: right;\">\n",
       "      <th></th>\n",
       "      <th>PosCT</th>\n",
       "      <th>0</th>\n",
       "      <th>1</th>\n",
       "      <th>92</th>\n",
       "    </tr>\n",
       "    <tr>\n",
       "      <th>EmplType</th>\n",
       "      <th>CTDone</th>\n",
       "      <th></th>\n",
       "      <th></th>\n",
       "      <th></th>\n",
       "    </tr>\n",
       "  </thead>\n",
       "  <tbody>\n",
       "    <tr>\n",
       "      <th rowspan=\"2\" valign=\"top\">1.0</th>\n",
       "      <th>0</th>\n",
       "      <td>0.000000</td>\n",
       "      <td>0.000000</td>\n",
       "      <td>1.0</td>\n",
       "    </tr>\n",
       "    <tr>\n",
       "      <th>1</th>\n",
       "      <td>0.972222</td>\n",
       "      <td>0.027778</td>\n",
       "      <td>0.0</td>\n",
       "    </tr>\n",
       "    <tr>\n",
       "      <th rowspan=\"2\" valign=\"top\">2.0</th>\n",
       "      <th>0</th>\n",
       "      <td>0.000000</td>\n",
       "      <td>0.000000</td>\n",
       "      <td>1.0</td>\n",
       "    </tr>\n",
       "    <tr>\n",
       "      <th>1</th>\n",
       "      <td>0.963855</td>\n",
       "      <td>0.036145</td>\n",
       "      <td>0.0</td>\n",
       "    </tr>\n",
       "    <tr>\n",
       "      <th rowspan=\"2\" valign=\"top\">3.0</th>\n",
       "      <th>0</th>\n",
       "      <td>0.000000</td>\n",
       "      <td>0.000000</td>\n",
       "      <td>1.0</td>\n",
       "    </tr>\n",
       "    <tr>\n",
       "      <th>1</th>\n",
       "      <td>0.971816</td>\n",
       "      <td>0.028184</td>\n",
       "      <td>0.0</td>\n",
       "    </tr>\n",
       "    <tr>\n",
       "      <th rowspan=\"2\" valign=\"top\">4.0</th>\n",
       "      <th>0</th>\n",
       "      <td>0.000000</td>\n",
       "      <td>0.000000</td>\n",
       "      <td>1.0</td>\n",
       "    </tr>\n",
       "    <tr>\n",
       "      <th>1</th>\n",
       "      <td>0.955882</td>\n",
       "      <td>0.044118</td>\n",
       "      <td>0.0</td>\n",
       "    </tr>\n",
       "    <tr>\n",
       "      <th rowspan=\"2\" valign=\"top\">5.0</th>\n",
       "      <th>0</th>\n",
       "      <td>0.000000</td>\n",
       "      <td>0.000000</td>\n",
       "      <td>1.0</td>\n",
       "    </tr>\n",
       "    <tr>\n",
       "      <th>1</th>\n",
       "      <td>0.968012</td>\n",
       "      <td>0.031988</td>\n",
       "      <td>0.0</td>\n",
       "    </tr>\n",
       "  </tbody>\n",
       "</table>\n",
       "</div>"
      ],
      "text/plain": [
       "PosCT                  0         1    92\n",
       "EmplType CTDone                         \n",
       "1.0      0       0.000000  0.000000  1.0\n",
       "         1       0.972222  0.027778  0.0\n",
       "2.0      0       0.000000  0.000000  1.0\n",
       "         1       0.963855  0.036145  0.0\n",
       "3.0      0       0.000000  0.000000  1.0\n",
       "         1       0.971816  0.028184  0.0\n",
       "4.0      0       0.000000  0.000000  1.0\n",
       "         1       0.955882  0.044118  0.0\n",
       "5.0      0       0.000000  0.000000  1.0\n",
       "         1       0.968012  0.031988  0.0"
      ]
     },
     "execution_count": 25,
     "metadata": {},
     "output_type": "execute_result"
    }
   ],
   "source": [
    "ans = df.groupby(['EmplType', 'CTDone'])['PosCT'].value_counts(normalize=True).unstack().fillna(0)\n",
    "ans"
   ]
  },
  {
   "cell_type": "code",
   "execution_count": 26,
   "metadata": {},
   "outputs": [
    {
     "data": {
      "text/plain": [
       "<Figure size 1000x600 with 0 Axes>"
      ]
     },
     "metadata": {},
     "output_type": "display_data"
    },
    {
     "data": {
      "image/png": "[encoded data removed]",
      "text/plain": [
       "<Figure size 640x480 with 1 Axes>"
      ]
     },
     "metadata": {},
     "output_type": "display_data"
    }
   ],
   "source": [
    "plt.figure(figsize=(10,6))\n",
    "ans.plot(kind='bar', stacked=False)\n",
    "plt.title('PosCT Frequency by Employment Type and CT Done')\n",
    "plt.xlabel('Employment Type and CT Done')\n",
    "plt.ylabel('Frequency')\n",
    "plt.xticks(rotation=45, ha='right')\n",
    "plt.tight_layout()\n",
    "plt.show()"
   ]
  },
  {
   "cell_type": "markdown",
   "metadata": {
    "vscode": {
     "languageId": "raw"
    }
   },
   "source": [
    "## Reality Check\n",
    "\n",
    "-   Do a reality check. What reality could you compare your cleaned data\n",
    "    to?\n",
    "\n",
    "-   Clearly state your assumptions and explain why this reality check is\n",
    "    useful.\n",
    "\n",
    "-   Does your cleaned data pass the reality check or are there issues?\n",
    "    Discuss.\n",
    "\n",
    "\n",
    "\n",
    "In my findings, I noted that a significant percentage of CT scans performed in cases of high-impact injuries did not result in surgeries and that even when CT scans were done, the rate of clinically important traumatic brain injuries (ciTBI) was quite low. Additionally, I highlighted that specific medical professionals, such as Physician Assistants, recommend CT scans more frequently, yet these recommendations do not always correlate with a high necessity for surgery.\n",
    "\n",
    "Connecting these findings to the discussions in the Kuppermann et al. (2009) paper, we can see a clear alignment with their focus on identifying cases where CT scans may be unnecessary. The study emphasizes the importance of reducing unnecessary CT scans, especially given the associated risks of radiation exposure in children. The paper's findings suggest that a substantial number of children who receive CT scans for head trauma do not have clinically important injuries, which correlates with your observation that CT scans often do not lead to surgeries or reveal critical injuries.\n",
    "\n",
    "Moreover, the data on the overuse of CT scans by certain professionals aligns with the paper's discussion on the variability of CT scan usage and the need for better clinical decision-making tools. Kuppermann et al. (2009) advocate for the use of predictive rules to identify patients at very low risk of ciTBI, which could help mitigate the overuse of CT scans—precisely the issue my findings touch upon regarding the high rate of CT scan recommendations not leading to surgery.\n",
    "\n",
    "This connection underscores the importance of critical evaluation and judicious use of CT scans, particularly by professionals whose practices may contribute to overuse, as identified in your analysis. The reality check here is that while CT scans are a valuable diagnostic tool, their application must be carefully considered to avoid unnecessary procedures that do not contribute to better patient outcomes."
   ]
  },
  {
   "cell_type": "markdown",
   "metadata": {
    "vscode": {
     "languageId": "raw"
    }
   },
   "source": [
    "## Stability Check\n",
    "\n",
    "Take one of your findings and present a perturbed version. How does this\n",
    "affect your finding? Add a before and after plot here."
   ]
  },
  {
   "cell_type": "code",
   "execution_count": 27,
   "metadata": {},
   "outputs": [
    {
     "data": {
      "image/png": "[encoded data removed]",
      "text/plain": [
       "<Figure size 1200x600 with 2 Axes>"
      ]
     },
     "metadata": {},
     "output_type": "display_data"
    }
   ],
   "source": [
    "import matplotlib.pyplot as plt\n",
    "import pandas as pd\n",
    "import numpy as np\n",
    "\n",
    "# Assuming 'df' is your original DataFrame\n",
    "\n",
    "# Original analysis - group by EmplType and CTDone, calculate normalized PosCT value counts\n",
    "original_ans = df.groupby(['EmplType', 'CTDone'])['PosCT'].value_counts(normalize=True).unstack().fillna(0)\n",
    "\n",
    "# Perturbed analysis - shuffle PosCT values within each group\n",
    "df_perturbed = df.copy()\n",
    "df_perturbed['PosCT'] = df.groupby(['EmplType', 'CTDone'])['PosCT'].transform(np.random.permutation)\n",
    "\n",
    "perturbed_ans = df_perturbed.groupby(['EmplType', 'CTDone'])['PosCT'].value_counts(normalize=True).unstack().fillna(0)\n",
    "\n",
    "# Plot original findings\n",
    "plt.figure(figsize=(12,6))\n",
    "plt.subplot(1, 2, 1)\n",
    "original_ans.plot(kind='bar', ax=plt.gca(), stacked=False)\n",
    "plt.title('Original PosCT Frequency by Employment Type and CT Done')\n",
    "plt.xlabel('Employment Type and CT Done')\n",
    "plt.ylabel('Frequency')\n",
    "plt.xticks(rotation=45, ha='right')\n",
    "\n",
    "# Plot perturbed findings\n",
    "plt.subplot(1, 2, 2)\n",
    "perturbed_ans.plot(kind='bar', ax=plt.gca(), stacked=False)\n",
    "plt.title('Perturbed PosCT Frequency by Employment Type and CT Done')\n",
    "plt.xlabel('Employment Type and CT Done')\n",
    "plt.ylabel('Frequency')\n",
    "plt.xticks(rotation=45, ha='right')\n",
    "\n",
    "plt.tight_layout()\n",
    "plt.show()\n"
   ]
  },
  {
   "cell_type": "markdown",
   "metadata": {},
   "source": [
    "# To demonstrate how a perturbation might affect these findings, let's say we randomly shuffle the PosCT values within each EmplType and CTDone group to perturb the relationship between employment type and CT result. This would introduce noise and break the original pattern of higher/lower PosCT frequencies for specific group but there was no visible change after pertubation for this finding"
   ]
  },
  {
   "cell_type": "markdown",
   "metadata": {
    "vscode": {
     "languageId": "raw"
    }
   },
   "source": [
    "# Discussion\n",
    "\n",
    "-   Did the data size restrict you in any way? Discuss some challenges\n",
    "    that you faced as a result of the data size.\n",
    "\n",
    "-   Address the three realms: data / reality, algorithms / models, and\n",
    "    future data / reality.\n",
    "\n",
    "-   Where do the parts of the lab fit into those three realms?\n",
    "\n",
    "-   Do you think there is a one-to-one correspondence of the data and\n",
    "    reality?\n",
    "\n",
    "-   What about reality and data visualization?"
   ]
  },
  {
   "cell_type": "markdown",
   "metadata": {},
   "source": [
    "In our research, the extensive data size we worked with presented both opportunities and challenges. The dataset, encompassing over 42,000 children presenting with head trauma across 25 North American emergency departments, allowed for robust statistical analysis and the derivation of highly sensitive clinical prediction rules. However, the sheer volume of data also posed challenges, particularly in terms of processing and managing it effectively. We encountered issues with data integration, ensuring consistency across various sources, and the computational resources needed for analysis.\n",
    "\n",
    "Data / Reality\n",
    "The relationship between data and reality is complex. While our dataset offers a broad representation of pediatric head trauma cases, it may not encompass all nuances of individual patient circumstances. This limitation raises questions about whether our findings can be universally applied. Moreover, factors like regional practice variations or differences in healthcare access might influence outcomes that our dataset does not capture. Thus, while data provides valuable insights, it does not fully encapsulate the reality of every clinical situation.\n",
    "\n",
    "Future Data / Reality\n",
    "Looking ahead, we recognize the importance of incorporating future data that reflects evolving clinical practices and advancements in technology. As we collect more data, we should also consider the diversity of patient populations and their specific characteristics. This will enhance our models and improve their applicability in varied healthcare settings. The ongoing collection of real-world data will help bridge the gap between our predictive models and the realities faced by clinicians on the ground.\n",
    "\n",
    "Fit within the Three Realms\n",
    "In our lab work, the parts of our study fit neatly into these three realms. The data we analyzed provided the foundation for our algorithms, allowing us to derive meaningful models. As we transition from our findings to their application in clinical settings, we must ensure that our models align with the real-world complexities that healthcare professionals encounter.\n",
    "\n",
    "One-to-One Correspondence\n",
    "We believe there isn't a one-to-one correspondence between data and reality. While data can highlight trends and patterns, it often fails to account for the intricacies of individual patient experiences. This disconnect can lead to oversimplifications if not approached with caution.\n",
    "\n",
    "Reality and Data Visualization\n",
    "Data visualization plays a crucial role in bridging the gap between reality and data. Effective visualization helps convey our findings clearly and can highlight areas where further exploration is needed. By presenting data in an accessible manner, we can foster better understanding and facilitate discussions among clinicians, ultimately improving decision-making in pediatric head trauma cases.\n",
    "\n",
    "In conclusion, while our research has provided valuable insights into reducing unnecessary CT scans in children with head trauma, we must remain aware of the limitations posed by data size and strive to continuously align our findings with the complexities of clinical reality."
   ]
  },
  {
   "cell_type": "markdown",
   "metadata": {},
   "source": [
    "### Data Size and Its Impact:\n",
    "\n",
    "#### 1. **Data/Reality Realm:**\n",
    "The size of the dataset can impact how accurately the data reflects reality. In a smaller dataset:\n",
    "- **Challenges**:\n",
    "  - **Bias**: The dataset might not represent the entire population or scenario well enough, leading to biased findings.\n",
    "  - **Outliers**: With fewer data points, outliers might have a larger impact, skewing results.\n",
    "  - **Granularity**: A smaller sample limits the level of detail you can extract from the data, potentially missing key insights.\n",
    "- **Effect on this lab**: If our dataset was small, the statistical strength of the findings might be weak, making it harder to generalize results to the larger population. For example, grouping by categories such as `EmplType` or `CTDone` might result in some categories having very few observations, leading to less reliable conclusions.\n",
    "\n",
    "#### 2. **Algorithms/Models Realm:**\n",
    "The size of the data can also affect how well algorithms or models perform.\n",
    "- **Challenges**:\n",
    "  - **Overfitting**: With limited data, models might overfit to noise or patterns specific to the small dataset, reducing generalization to future data.\n",
    "  - **Limited Training**: For complex models, smaller data provides less information to train on, leading to poorer predictions.\n",
    "  - **Handling sparse data**: If certain combinations of categories like `EmplType` and `CTDone` are rare, the models may struggle to make accurate predictions or fail to find meaningful patterns.\n",
    "- **Effect on this lab**: In the grouping example, you may find that the `value_counts(normalize=True)` operation returns uneven proportions across categories, which could lead to skewed bar plots or patterns that are misleading. The algorithm’s ability to find meaningful group differences would be hampered.\n",
    "\n",
    "#### 3. **Future Data/Reality Realm:**\n",
    "If your data size is small or not representative, it may not generalize well to future data or unseen situations.\n",
    "- **Challenges**:\n",
    "  - **Inaccurate Predictions**: Small datasets can lead to conclusions that are less likely to hold up in future observations.\n",
    "  - **Changing Reality**: If the data is too sparse or old, it may not reflect current trends and realities, leading to misleading future inferences.\n",
    "- **Effect on this lab**: If you're making decisions or predictions based on this data (e.g., predicting who might need a CT scan based on risk factors), the limited size could affect how well these predictions work on future cases. Future data might have more variety and complexity than the dataset used.\n",
    "\n",
    "### Lab Components and the Three Realms:\n",
    "- **Data/Reality**: The part of the lab where you analyzed actual clinical data (`EmplType`, `CTDone`, `PosCT`, etc.) fits in this realm. The extent to which this data mirrors real-world medical trends affects the validity of the conclusions.\n",
    "- **Algorithms/Models**: The methods you used to analyze the data, such as calculating value counts or grouping by different variables, fit here. If the data size restricted these analyses, it could lead to unreliable or overfitted models.\n",
    "- **Future Data/Reality**: Any conclusions you derive about how `PosCT` outcomes are influenced by factors like employment type or CT decisions may not generalize to future data unless the dataset is robust enough.\n",
    "\n",
    "### One-to-One Correspondence of Data and Reality:\n",
    "- **No, there isn’t a perfect one-to-one correspondence**. Data is a simplified representation of reality, filtered through the variables and measurements we choose to record. There are often unmeasured factors influencing the outcomes, and data collection errors or biases may introduce noise. In this context, variables like `EmplType` and `CTDone` may capture only a fraction of the complex reality that determines `PosCT` outcomes (e.g., patient health factors, environmental variables).\n",
    "\n",
    "### Reality and Data Visualization:\n",
    "- **Visualizations simplify and abstract reality even further**. While visualizations like bar plots are powerful tools for understanding trends, they often hide nuances and may create misleading impressions if the underlying data is sparse or biased. For example:\n",
    "  - Bar plots might emphasize differences between categories (like `EmplType` and `PosCT`) that are not statistically significant in reality.\n",
    "  - Overlapping categories or uncertainties may not be fully visible in a bar plot, leading to oversimplified interpretations.\n",
    "  \n",
    "In summary, while data visualization is valuable for insight, it can distort the underlying reality if the data is too limited, unbalanced, or unrepresentative. Data size and quality are crucial to ensure that the visualized trends are meaningful and reliable."
   ]
  },
  {
   "cell_type": "markdown",
   "metadata": {
    "vscode": {
     "languageId": "raw"
    }
   },
   "source": [
    "# Conclusion\n",
    "\n",
    "In summary, our study underscores the critical need for judicious use of CT scans in pediatric head trauma cases. By leveraging a substantial dataset of over 42,000 children, we successfully developed and validated age-specific clinical prediction rules that identify those at very low risk for clinically important traumatic brain injuries (ciTBI). This not only has the potential to reduce unnecessary radiation exposure but also empowers clinicians to make more informed decisions in emergency settings.\n",
    "\n",
    "However, our findings also reveal the complexities inherent in translating data into clinical practice. The relationship between data and reality is nuanced, and while our algorithms provide valuable insights, they cannot fully encapsulate the unique circumstances of each patient. As we move forward, it is essential to refine our models with ongoing data collection that reflects diverse patient populations and evolving healthcare practices.\n",
    "\n",
    "Moreover, the role of data visualization cannot be overstated; it serves as a vital tool in bridging the gap between our findings and clinical reality. By effectively communicating our results, we can foster collaboration among healthcare professionals, enhancing patient care.\n",
    "\n",
    "Ultimately, our research contributes to a growing body of evidence advocating for a more thoughtful and evidence-based approach to diagnostic imaging in children. By prioritizing the reduction of unnecessary CT scans, we aim to improve patient outcomes while safeguarding the well-being of vulnerable populations. As we continue this vital work, we remain committed to aligning our predictive models with the realities faced by clinicians, ensuring that our findings translate into meaningful improvements in pediatric healthcare."
   ]
  },
  {
   "cell_type": "markdown",
   "metadata": {
    "vscode": {
     "languageId": "raw"
    }
   },
   "source": [
    "# Academic honesty statement"
   ]
  },
  {
   "cell_type": "markdown",
   "metadata": {
    "vscode": {
     "languageId": "raw"
    }
   },
   "source": [
    "# Collaborators"
   ]
  },
  {
   "cell_type": "markdown",
   "metadata": {
    "vscode": {
     "languageId": "raw"
    }
   },
   "source": [
    "# Bibliography"
   ]
  }
 ],
 "metadata": {
  "kernelspec": {
   "display_name": "Python 3 (ipykernel)",
   "language": "python",
   "name": "python3"
  },
  "language_info": {
   "codemirror_mode": {
    "name": "ipython",
    "version": 3
   },
   "file_extension": ".py",
   "mimetype": "text/x-python",
   "name": "python",
   "nbconvert_exporter": "python",
   "pygments_lexer": "ipython3",
   "version": "3.12.5"
  }
 },
 "nbformat": 4,
 "nbformat_minor": 4
}
