{
 "cells": [
  {
   "cell_type": "code",
   "execution_count": null,
   "id": "0",
   "metadata": {},
   "outputs": [],
   "source": [
    "import sys\n",
    "import pandas as pd\n",
    "import numpy as np\n",
    "import matplotlib.pyplot as plt\n",
    "import seaborn as sns\n",
    "from scipy import stats"
   ]
  },
  {
   "cell_type": "raw",
   "id": "1",
   "metadata": {},
   "source": [
    "---\n",
    "title: Lab 1 - PECARN TBI Data, Stat 215A, Fall 2024\n",
    "date: today\n",
    "execute:\n",
    "    echo: false\n",
    "format:\n",
    "    pdf:\n",
    "        geometry: margin=1in\n",
    "        documentclass: article\n",
    "        fontsize: 10pt\n",
    "---"
   ]
  },
  {
   "cell_type": "code",
   "execution_count": null,
   "id": "2",
   "metadata": {},
   "outputs": [],
   "source": [
    "print(sys.executable)"
   ]
  },
  {
   "cell_type": "raw",
   "id": "3",
   "metadata": {},
   "source": [
    "---\n",
    "title: Lab 1 - PECARN TBI Data, Stat 215A, Fall 2024\n",
    "date: today\n",
    "execute:\n",
    "    echo: false\n",
    "format:\n",
    "    pdf:\n",
    "        geometry: margin=1in\n",
    "        documentclass: article\n",
    "        fontsize: 10pt\n",
    "---"
   ]
  },
  {
   "cell_type": "markdown",
   "id": "4",
   "metadata": {},
   "source": [
    "<center> \n",
    "    <h1> Lab 1 - PECARN TBI Data</h1>\n",
    "    <h4>Stat 215A, Fall 2024</h4>\n",
    "</center>"
   ]
  },
  {
   "cell_type": "markdown",
   "id": "5",
   "metadata": {
    "vscode": {
     "languageId": "raw"
    }
   },
   "source": [
    "# Introduction\n",
    "Traumatic Brain Injury (TBI) is a signficant concern in pediatric healthcare, particulary when evaluatong childern who have head trauma. Identifying clinically important TBIs (ciTBI) is helpful for taking necessary futher medical intervention such as neurosurgical treatment or CT scans. The data we are using is from Pediatric Emergency Care Applied Research Network (PECARN), which is a dataset used to research acute injuries and illnesses among children in a wide range of demographics and institutions. In this lab, we aim to study this dataset and perform Exploratory Data Analysis to discover any patterns and insights for detecting the risk of Traumatic Brain Injuries in patients younger than 18. To diagnose patients with TBI, doctors must perform Computed Tomogorpahy (CT) scan. However, according to many studies, CT imaging of head-injured children has risks of radiation-induced malignancy. Most of patients with Minor Head Trauma (based on the Glasgow Coma Scale scores of 14-15) accounts for 40-60% of assessments, yet, less than 10% show signs of actual TBI. Therefore, creating a decision rule for identifying ciTBIs without excessive use of CT scans is the goal of this study.\n",
    "\n",
    "We will first start with understanding the datasets and patterns in the features. Then, we will analyze the data cleaning process, as well as, justify the judgment calls made in this report."
   ]
  },
  {
   "cell_type": "markdown",
   "id": "6",
   "metadata": {
    "vscode": {
     "languageId": "raw"
    }
   },
   "source": [
    "# Data\n",
    "The dataset includes children under 18 years who presented with minor head trauma in emergency departments within 24 hours of injury and had Glasgow Coma Scale (GCS) scores of 14-15."
   ]
  },
  {
   "cell_type": "code",
   "execution_count": null,
   "id": "7",
   "metadata": {},
   "outputs": [],
   "source": [
    "data = pd.read_csv(\"../data/TBI PUD 10-08-2013.csv\")"
   ]
  },
  {
   "cell_type": "code",
   "execution_count": null,
   "id": "8",
   "metadata": {},
   "outputs": [
    {
     "data": {
      "text/html": [
       "<div>\n",
       "<style scoped>\n",
       "    .dataframe tbody tr th:only-of-type {\n",
       "        vertical-align: middle;\n",
       "    }\n",
       "\n",
       "    .dataframe tbody tr th {\n",
       "        vertical-align: top;\n",
       "    }\n",
       "\n",
       "    .dataframe thead th {\n",
       "        text-align: right;\n",
       "    }\n",
       "</style>\n",
       "<table border=\"1\" class=\"dataframe\">\n",
       "  <thead>\n",
       "    <tr style=\"text-align: right;\">\n",
       "      <th></th>\n",
       "      <th>PatNum</th>\n",
       "      <th>EmplType</th>\n",
       "      <th>Certification</th>\n",
       "      <th>InjuryMech</th>\n",
       "      <th>High_impact_InjSev</th>\n",
       "      <th>Amnesia_verb</th>\n",
       "      <th>LOCSeparate</th>\n",
       "      <th>LocLen</th>\n",
       "      <th>Seiz</th>\n",
       "      <th>SeizOccur</th>\n",
       "      <th>...</th>\n",
       "      <th>Finding20</th>\n",
       "      <th>Finding21</th>\n",
       "      <th>Finding22</th>\n",
       "      <th>Finding23</th>\n",
       "      <th>DeathTBI</th>\n",
       "      <th>HospHead</th>\n",
       "      <th>HospHeadPosCT</th>\n",
       "      <th>Intub24Head</th>\n",
       "      <th>Neurosurgery</th>\n",
       "      <th>PosIntFinal</th>\n",
       "    </tr>\n",
       "  </thead>\n",
       "  <tbody>\n",
       "    <tr>\n",
       "      <th>0</th>\n",
       "      <td>1</td>\n",
       "      <td>3.0</td>\n",
       "      <td>3</td>\n",
       "      <td>11.0</td>\n",
       "      <td>2.0</td>\n",
       "      <td>0.0</td>\n",
       "      <td>0.0</td>\n",
       "      <td>92.0</td>\n",
       "      <td>0.0</td>\n",
       "      <td>92.0</td>\n",
       "      <td>...</td>\n",
       "      <td>92</td>\n",
       "      <td>92</td>\n",
       "      <td>92</td>\n",
       "      <td>92</td>\n",
       "      <td>0.0</td>\n",
       "      <td>0.0</td>\n",
       "      <td>0</td>\n",
       "      <td>0.0</td>\n",
       "      <td>0.0</td>\n",
       "      <td>0.0</td>\n",
       "    </tr>\n",
       "    <tr>\n",
       "      <th>1</th>\n",
       "      <td>2</td>\n",
       "      <td>5.0</td>\n",
       "      <td>3</td>\n",
       "      <td>8.0</td>\n",
       "      <td>2.0</td>\n",
       "      <td>0.0</td>\n",
       "      <td>0.0</td>\n",
       "      <td>92.0</td>\n",
       "      <td>0.0</td>\n",
       "      <td>92.0</td>\n",
       "      <td>...</td>\n",
       "      <td>0</td>\n",
       "      <td>0</td>\n",
       "      <td>0</td>\n",
       "      <td>0</td>\n",
       "      <td>0.0</td>\n",
       "      <td>0.0</td>\n",
       "      <td>0</td>\n",
       "      <td>0.0</td>\n",
       "      <td>0.0</td>\n",
       "      <td>0.0</td>\n",
       "    </tr>\n",
       "    <tr>\n",
       "      <th>2</th>\n",
       "      <td>3</td>\n",
       "      <td>5.0</td>\n",
       "      <td>3</td>\n",
       "      <td>5.0</td>\n",
       "      <td>2.0</td>\n",
       "      <td>NaN</td>\n",
       "      <td>NaN</td>\n",
       "      <td>92.0</td>\n",
       "      <td>NaN</td>\n",
       "      <td>92.0</td>\n",
       "      <td>...</td>\n",
       "      <td>0</td>\n",
       "      <td>0</td>\n",
       "      <td>0</td>\n",
       "      <td>0</td>\n",
       "      <td>0.0</td>\n",
       "      <td>1.0</td>\n",
       "      <td>0</td>\n",
       "      <td>0.0</td>\n",
       "      <td>0.0</td>\n",
       "      <td>0.0</td>\n",
       "    </tr>\n",
       "    <tr>\n",
       "      <th>3</th>\n",
       "      <td>4</td>\n",
       "      <td>5.0</td>\n",
       "      <td>3</td>\n",
       "      <td>6.0</td>\n",
       "      <td>1.0</td>\n",
       "      <td>91.0</td>\n",
       "      <td>0.0</td>\n",
       "      <td>92.0</td>\n",
       "      <td>0.0</td>\n",
       "      <td>92.0</td>\n",
       "      <td>...</td>\n",
       "      <td>92</td>\n",
       "      <td>92</td>\n",
       "      <td>92</td>\n",
       "      <td>92</td>\n",
       "      <td>0.0</td>\n",
       "      <td>0.0</td>\n",
       "      <td>0</td>\n",
       "      <td>0.0</td>\n",
       "      <td>0.0</td>\n",
       "      <td>0.0</td>\n",
       "    </tr>\n",
       "    <tr>\n",
       "      <th>4</th>\n",
       "      <td>5</td>\n",
       "      <td>3.0</td>\n",
       "      <td>3</td>\n",
       "      <td>12.0</td>\n",
       "      <td>2.0</td>\n",
       "      <td>91.0</td>\n",
       "      <td>0.0</td>\n",
       "      <td>92.0</td>\n",
       "      <td>0.0</td>\n",
       "      <td>92.0</td>\n",
       "      <td>...</td>\n",
       "      <td>0</td>\n",
       "      <td>0</td>\n",
       "      <td>0</td>\n",
       "      <td>0</td>\n",
       "      <td>0.0</td>\n",
       "      <td>0.0</td>\n",
       "      <td>0</td>\n",
       "      <td>0.0</td>\n",
       "      <td>0.0</td>\n",
       "      <td>0.0</td>\n",
       "    </tr>\n",
       "    <tr>\n",
       "      <th>...</th>\n",
       "      <td>...</td>\n",
       "      <td>...</td>\n",
       "      <td>...</td>\n",
       "      <td>...</td>\n",
       "      <td>...</td>\n",
       "      <td>...</td>\n",
       "      <td>...</td>\n",
       "      <td>...</td>\n",
       "      <td>...</td>\n",
       "      <td>...</td>\n",
       "      <td>...</td>\n",
       "      <td>...</td>\n",
       "      <td>...</td>\n",
       "      <td>...</td>\n",
       "      <td>...</td>\n",
       "      <td>...</td>\n",
       "      <td>...</td>\n",
       "      <td>...</td>\n",
       "      <td>...</td>\n",
       "      <td>...</td>\n",
       "      <td>...</td>\n",
       "    </tr>\n",
       "    <tr>\n",
       "      <th>43394</th>\n",
       "      <td>43395</td>\n",
       "      <td>5.0</td>\n",
       "      <td>3</td>\n",
       "      <td>8.0</td>\n",
       "      <td>2.0</td>\n",
       "      <td>0.0</td>\n",
       "      <td>0.0</td>\n",
       "      <td>92.0</td>\n",
       "      <td>0.0</td>\n",
       "      <td>92.0</td>\n",
       "      <td>...</td>\n",
       "      <td>92</td>\n",
       "      <td>92</td>\n",
       "      <td>92</td>\n",
       "      <td>92</td>\n",
       "      <td>0.0</td>\n",
       "      <td>0.0</td>\n",
       "      <td>0</td>\n",
       "      <td>0.0</td>\n",
       "      <td>0.0</td>\n",
       "      <td>0.0</td>\n",
       "    </tr>\n",
       "    <tr>\n",
       "      <th>43395</th>\n",
       "      <td>43396</td>\n",
       "      <td>5.0</td>\n",
       "      <td>3</td>\n",
       "      <td>6.0</td>\n",
       "      <td>1.0</td>\n",
       "      <td>91.0</td>\n",
       "      <td>0.0</td>\n",
       "      <td>92.0</td>\n",
       "      <td>0.0</td>\n",
       "      <td>92.0</td>\n",
       "      <td>...</td>\n",
       "      <td>92</td>\n",
       "      <td>92</td>\n",
       "      <td>92</td>\n",
       "      <td>92</td>\n",
       "      <td>0.0</td>\n",
       "      <td>0.0</td>\n",
       "      <td>0</td>\n",
       "      <td>0.0</td>\n",
       "      <td>0.0</td>\n",
       "      <td>0.0</td>\n",
       "    </tr>\n",
       "    <tr>\n",
       "      <th>43396</th>\n",
       "      <td>43397</td>\n",
       "      <td>5.0</td>\n",
       "      <td>3</td>\n",
       "      <td>7.0</td>\n",
       "      <td>1.0</td>\n",
       "      <td>0.0</td>\n",
       "      <td>0.0</td>\n",
       "      <td>92.0</td>\n",
       "      <td>0.0</td>\n",
       "      <td>92.0</td>\n",
       "      <td>...</td>\n",
       "      <td>92</td>\n",
       "      <td>92</td>\n",
       "      <td>92</td>\n",
       "      <td>92</td>\n",
       "      <td>0.0</td>\n",
       "      <td>0.0</td>\n",
       "      <td>0</td>\n",
       "      <td>0.0</td>\n",
       "      <td>0.0</td>\n",
       "      <td>0.0</td>\n",
       "    </tr>\n",
       "    <tr>\n",
       "      <th>43397</th>\n",
       "      <td>43398</td>\n",
       "      <td>5.0</td>\n",
       "      <td>1</td>\n",
       "      <td>8.0</td>\n",
       "      <td>2.0</td>\n",
       "      <td>0.0</td>\n",
       "      <td>0.0</td>\n",
       "      <td>92.0</td>\n",
       "      <td>0.0</td>\n",
       "      <td>92.0</td>\n",
       "      <td>...</td>\n",
       "      <td>92</td>\n",
       "      <td>92</td>\n",
       "      <td>92</td>\n",
       "      <td>92</td>\n",
       "      <td>0.0</td>\n",
       "      <td>0.0</td>\n",
       "      <td>0</td>\n",
       "      <td>0.0</td>\n",
       "      <td>0.0</td>\n",
       "      <td>0.0</td>\n",
       "    </tr>\n",
       "    <tr>\n",
       "      <th>43398</th>\n",
       "      <td>43399</td>\n",
       "      <td>5.0</td>\n",
       "      <td>90</td>\n",
       "      <td>8.0</td>\n",
       "      <td>3.0</td>\n",
       "      <td>0.0</td>\n",
       "      <td>0.0</td>\n",
       "      <td>92.0</td>\n",
       "      <td>0.0</td>\n",
       "      <td>92.0</td>\n",
       "      <td>...</td>\n",
       "      <td>0</td>\n",
       "      <td>0</td>\n",
       "      <td>0</td>\n",
       "      <td>0</td>\n",
       "      <td>0.0</td>\n",
       "      <td>0.0</td>\n",
       "      <td>0</td>\n",
       "      <td>0.0</td>\n",
       "      <td>0.0</td>\n",
       "      <td>0.0</td>\n",
       "    </tr>\n",
       "  </tbody>\n",
       "</table>\n",
       "<p>43399 rows × 125 columns</p>\n",
       "</div>"
      ],
      "text/plain": [
       "       PatNum  EmplType  Certification  InjuryMech  High_impact_InjSev  \\\n",
       "0           1       3.0              3        11.0                 2.0   \n",
       "1           2       5.0              3         8.0                 2.0   \n",
       "2           3       5.0              3         5.0                 2.0   \n",
       "3           4       5.0              3         6.0                 1.0   \n",
       "4           5       3.0              3        12.0                 2.0   \n",
       "...       ...       ...            ...         ...                 ...   \n",
       "43394   43395       5.0              3         8.0                 2.0   \n",
       "43395   43396       5.0              3         6.0                 1.0   \n",
       "43396   43397       5.0              3         7.0                 1.0   \n",
       "43397   43398       5.0              1         8.0                 2.0   \n",
       "43398   43399       5.0             90         8.0                 3.0   \n",
       "\n",
       "       Amnesia_verb  LOCSeparate  LocLen  Seiz  SeizOccur  ...  Finding20  \\\n",
       "0               0.0          0.0    92.0   0.0       92.0  ...         92   \n",
       "1               0.0          0.0    92.0   0.0       92.0  ...          0   \n",
       "2               NaN          NaN    92.0   NaN       92.0  ...          0   \n",
       "3              91.0          0.0    92.0   0.0       92.0  ...         92   \n",
       "4              91.0          0.0    92.0   0.0       92.0  ...          0   \n",
       "...             ...          ...     ...   ...        ...  ...        ...   \n",
       "43394           0.0          0.0    92.0   0.0       92.0  ...         92   \n",
       "43395          91.0          0.0    92.0   0.0       92.0  ...         92   \n",
       "43396           0.0          0.0    92.0   0.0       92.0  ...         92   \n",
       "43397           0.0          0.0    92.0   0.0       92.0  ...         92   \n",
       "43398           0.0          0.0    92.0   0.0       92.0  ...          0   \n",
       "\n",
       "       Finding21  Finding22  Finding23  DeathTBI  HospHead  HospHeadPosCT  \\\n",
       "0             92         92         92       0.0       0.0              0   \n",
       "1              0          0          0       0.0       0.0              0   \n",
       "2              0          0          0       0.0       1.0              0   \n",
       "3             92         92         92       0.0       0.0              0   \n",
       "4              0          0          0       0.0       0.0              0   \n",
       "...          ...        ...        ...       ...       ...            ...   \n",
       "43394         92         92         92       0.0       0.0              0   \n",
       "43395         92         92         92       0.0       0.0              0   \n",
       "43396         92         92         92       0.0       0.0              0   \n",
       "43397         92         92         92       0.0       0.0              0   \n",
       "43398          0          0          0       0.0       0.0              0   \n",
       "\n",
       "       Intub24Head  Neurosurgery  PosIntFinal  \n",
       "0              0.0           0.0          0.0  \n",
       "1              0.0           0.0          0.0  \n",
       "2              0.0           0.0          0.0  \n",
       "3              0.0           0.0          0.0  \n",
       "4              0.0           0.0          0.0  \n",
       "...            ...           ...          ...  \n",
       "43394          0.0           0.0          0.0  \n",
       "43395          0.0           0.0          0.0  \n",
       "43396          0.0           0.0          0.0  \n",
       "43397          0.0           0.0          0.0  \n",
       "43398          0.0           0.0          0.0  \n",
       "\n",
       "[43399 rows x 125 columns]"
      ]
     },
     "execution_count": null,
     "metadata": {},
     "output_type": "execute_result"
    }
   ],
   "source": [
    "data"
   ]
  },
  {
   "cell_type": "markdown",
   "id": "9",
   "metadata": {
    "vscode": {
     "languageId": "raw"
    }
   },
   "source": [
    "## Data Collection\n",
    "\n",
    "Data was collected through standardized forms and follow-up phone surveys."
   ]
  },
  {
   "cell_type": "markdown",
   "id": "10",
   "metadata": {
    "vscode": {
     "languageId": "raw"
    }
   },
   "source": [
    "## Data Cleaning"
   ]
  },
  {
   "cell_type": "markdown",
   "id": "11",
   "metadata": {},
   "source": [
    "First, we will explore general features in categories using common knowledge. Then we can futher analayze specific questions with more features.\n",
    "\n",
    "According to do documentation, I divided the dataset into subgroups with features that attribute to pre-condition, incidence, post-condition, and intervention. Pre-condition is any feature sets that describe about the patient irrelevant to the injury. For example, `Gender` and `Race` are attributes about the patient regardless of the injury. Incidence are variables that describe the injury - incidence that led to this analysis. Similarly, post-condition describes about the condition of patient after the injury. For example, `Seiz`, `Vomit`, `SFxPalp` describes wheter the patient had any post-traumatic seizure, vomit, or any palapble skull fractures after incident. Lastly, intervention is set of features that are written by ED. I grouped these features due to the subjective nature of diagnosis and the ability to self-express.\n",
    "\n",
    "### Pre-Condition (A description of patients before the injury):\n",
    "* AgeTwoPlus\n",
    "* Gender\n",
    "* Ethnicity\n",
    "* Race\n",
    "* Drugs\n",
    "\n",
    "\n",
    "### Incidence (Relating to injury):\n",
    "* InjuryMech\n",
    "* High_impact_InjSev\n",
    "\n",
    "### Post-Condition (A description of patients after the injury):\n",
    "* Amnesia_verb\n",
    "* LOCSeparate\n",
    "* LocLen\n",
    "* Seiz\n",
    "* SeizOccur\n",
    "* SeizLen\n",
    "* Vomit\n",
    "* VomitNbr\n",
    "* SFxPalp\n",
    "* FontBulg\n",
    "* SFxBas\n",
    "* SFxBasHem\n",
    "\n",
    "\n",
    "### Intervention (Due to the subjective nature of ED and ability to self-express, it is necessary to compare differences between preverbal and verbal):\n",
    "* ActNorm\n",
    "* HA_verb\n",
    "* HASeverity\n",
    "* Intubated\n",
    "* Paralyzed\n",
    "* Sedated\n",
    "\n",
    "### Two Groups (Major Head Trauma vs Minor Head Trauma):\n",
    "* GCSGroup\n",
    "\n",
    "### Label to determine the outcome or group by\n",
    "* PosIntFinal"
   ]
  },
  {
   "cell_type": "code",
   "execution_count": null,
   "id": "12",
   "metadata": {},
   "outputs": [],
   "source": [
    "df_incidence = data.loc[:,[\"InjuryMech\",\"High_impact_InjSev\"]]\n",
    "df_pre = data.loc[:, [\"AgeTwoPlus\",\"Gender\",\"Race\"]]\n",
    "df_post = data.loc[:,[\"Amnesia_verb\",\"LOCSeparate\",\"LocLen\",\"Seiz\",\"SeizOccur\",\"SeizLen\",\"Vomit\",\"VomitNbr\",\"SFxPalp\",\"FontBulg\",\"SFxBas\",\"SFxBasHem\"]]\n",
    "df_int = data.loc[:,[\"ActNorm\",\"HA_verb\",\"HASeverity\",\"Intubated\",\"Paralyzed\",\"Sedated\"]]"
   ]
  },
  {
   "cell_type": "code",
   "execution_count": null,
   "id": "13",
   "metadata": {},
   "outputs": [],
   "source": [
    "def bar_plot(df):\n",
    "    fig, ax = plt.subplots()\n",
    "    na_values = []\n",
    "    non_na_values = []\n",
    "    for col in df.columns:\n",
    "        temp = df[col].value_counts(normalize=True, dropna=False)\n",
    "        na_value = sum(temp.loc[np.isnan(temp.index)])\n",
    "        non_na_value = sum(temp.loc[~np.isnan(temp.index)])\n",
    "        na_values.append(na_value)\n",
    "        non_na_values.append(non_na_value)\n",
    "    \n",
    "    bar_width = 0.6\n",
    "    columns = df.columns\n",
    "    ax.barh(columns, non_na_values, label='Non-NaN')\n",
    "    ax.barh(columns, na_values, left=non_na_values, label='NaN', color='orange')\n",
    "    \n",
    "    ax.set_xlabel('Proportion')\n",
    "    ax.set_title('Proportion of NaN Values')\n",
    "    \n",
    "    ax.legend()\n",
    "    plt.show()\n"
   ]
  },
  {
   "cell_type": "code",
   "execution_count": null,
   "id": "14",
   "metadata": {},
   "outputs": [
    {
     "data": {
      "application/pdf": "[encoded data removed]",
      "text/plain": [
       "<Figure size 1650x1050 with 1 Axes>"
      ]
     },
     "metadata": {},
     "output_type": "display_data"
    }
   ],
   "source": [
    "bar_plot(df_pre)"
   ]
  },
  {
   "cell_type": "code",
   "execution_count": null,
   "id": "15",
   "metadata": {},
   "outputs": [
    {
     "data": {
      "application/pdf": "[encoded data removed]",
      "text/plain": [
       "<Figure size 1650x1050 with 1 Axes>"
      ]
     },
     "metadata": {},
     "output_type": "display_data"
    }
   ],
   "source": [
    "bar_plot(df_post)"
   ]
  },
  {
   "cell_type": "code",
   "execution_count": null,
   "id": "16",
   "metadata": {},
   "outputs": [
    {
     "data": {
      "application/pdf": "[encoded data removed]",
      "text/plain": [
       "<Figure size 1650x1050 with 1 Axes>"
      ]
     },
     "metadata": {},
     "output_type": "display_data"
    }
   ],
   "source": [
    "bar_plot(df_incidence)"
   ]
  },
  {
   "cell_type": "code",
   "execution_count": null,
   "id": "17",
   "metadata": {},
   "outputs": [
    {
     "data": {
      "application/pdf": "[encoded data removed]",
      "text/plain": [
       "<Figure size 1650x1050 with 1 Axes>"
      ]
     },
     "metadata": {},
     "output_type": "display_data"
    }
   ],
   "source": [
    "bar_plot(df_int)"
   ]
  },
  {
   "cell_type": "code",
   "execution_count": null,
   "id": "18",
   "metadata": {},
   "outputs": [],
   "source": [
    "plt.figure(figsize=(3, 3))\n",
    "sns.heatmap(data.isnull(), cbar=False, cmap='viridis')\n",
    "plt.title(\"Missing Values Heatmap\")\n",
    "plt.show()"
   ]
  },
  {
   "cell_type": "markdown",
   "id": "19",
   "metadata": {},
   "source": [
    "No columns had any missing values greater than 50% of the values, so instead of removing the whole feature, I decided to replace it using the mode of the feature (most common value). Additionally, I've included correlation values with the `PosIntFinal` which is binary value indicating whether the patient was diagnosed with ciTBIs. From the data report, clinically-important TBI was defined as having at least one of the following: (1) neurosurgical procedure performed, (2)  intubated > 24 hours for head trauma,  (3) death due to TBI or in the ED, (4) hospitalized for >= 2 nights due to head injury and having a TBI on CT.\n",
    "\n",
    "We can see that top 4 correlated values are feature that are known as a result of lab. I've selected subset of features using judgment call (described above) to get a correlation values."
   ]
  },
  {
   "cell_type": "code",
   "execution_count": null,
   "id": "20",
   "metadata": {},
   "outputs": [],
   "source": [
    "df_corr = data.corr()['PosIntFinal'][:-1]"
   ]
  },
  {
   "cell_type": "code",
   "execution_count": null,
   "id": "21",
   "metadata": {},
   "outputs": [
    {
     "name": "stdout",
     "output_type": "stream",
     "text": [
      "These are 4 strongly correlated values:\n",
      "HospHeadPosCT    0.952243\n",
      "HospHead         0.867533\n",
      "Neurosurgery     0.508631\n",
      "GCSTotal        -0.519716\n",
      "Name: PosIntFinal, dtype: float64\n"
     ]
    }
   ],
   "source": [
    "corr_lst = df_corr[abs(df_corr) > 0.5].sort_values(ascending=False)\n",
    "print(\"These are {} strongly correlated values:\\n{}\".format(len(corr_lst), corr_lst))"
   ]
  },
  {
   "cell_type": "code",
   "execution_count": null,
   "id": "22",
   "metadata": {},
   "outputs": [],
   "source": [
    "df2 = data.loc[:,[\"InjuryMech\",\"High_impact_InjSev\", \"AgeTwoPlus\",\"Gender\",\"Race\", \"Amnesia_verb\",\"LOCSeparate\",\"LocLen\",\"Seiz\",\"SeizOccur\",\"SeizLen\",\"Vomit\",\"VomitNbr\",\"SFxPalp\",\"FontBulg\",\"SFxBas\",\"SFxBasHem\", \"ActNorm\",\"HA_verb\",\"HASeverity\",\"Intubated\",\"Paralyzed\",\"Sedated\", 'PosIntFinal']]"
   ]
  },
  {
   "cell_type": "code",
   "execution_count": null,
   "id": "23",
   "metadata": {},
   "outputs": [],
   "source": [
    "df_corr2 = df2.corr()['PosIntFinal'][:-1]"
   ]
  },
  {
   "cell_type": "code",
   "execution_count": null,
   "id": "24",
   "metadata": {},
   "outputs": [
    {
     "name": "stdout",
     "output_type": "stream",
     "text": [
      "These are 23 correlated values in order:\n",
      "Intubated             0.392128\n",
      "Sedated               0.295219\n",
      "Paralyzed             0.270167\n",
      "SFxBas                0.222757\n",
      "SFxPalp               0.157692\n",
      "LOCSeparate           0.152461\n",
      "High_impact_InjSev    0.099557\n",
      "Seiz                  0.086900\n",
      "HA_verb               0.077288\n",
      "Vomit                 0.071679\n",
      "Amnesia_verb          0.071391\n",
      "FontBulg              0.063583\n",
      "HASeverity            0.026814\n",
      "AgeTwoPlus            0.015662\n",
      "Gender               -0.001215\n",
      "Race                 -0.003797\n",
      "InjuryMech           -0.015431\n",
      "VomitNbr             -0.048993\n",
      "SeizLen              -0.049878\n",
      "SeizOccur            -0.062200\n",
      "LocLen               -0.107847\n",
      "ActNorm              -0.167916\n",
      "SFxBasHem            -0.219501\n",
      "Name: PosIntFinal, dtype: float64\n"
     ]
    }
   ],
   "source": [
    "corr_lst2 = df_corr2.sort_values(ascending=False)\n",
    "print(\"These are {} correlated values in order:\\n{}\".format(len(corr_lst2), corr_lst2))"
   ]
  },
  {
   "cell_type": "code",
   "execution_count": null,
   "id": "25",
   "metadata": {},
   "outputs": [],
   "source": [
    "def clean_data(df, outlier='none', fill_na_with='mode', alpha=1.5):\n",
    "    \"\"\"\n",
    "    Cleans a df by handling missing values and trimming outliers.\n",
    "    \"\"\"\n",
    "    # replace NaN with\n",
    "    if fill_na_with == 'mean':\n",
    "        df = df.fillna(df.mean())\n",
    "    elif fill_na_with == 'mode':\n",
    "        for c in df.columns:\n",
    "            mode_val = df[c].mode()[0]\n",
    "            df[c] = df[c].fillna(mode_val)\n",
    "    elif fill_na_with == 'drop':\n",
    "        df = df.dropna()\n",
    "    \n",
    "    # trim outliers\n",
    "    if outlier == 'iqr':\n",
    "        q1 = df.quantile(0.25)\n",
    "        q3 = df.quantile(0.75)\n",
    "        iqr = q3 - q1\n",
    "        df = df[~((df < (q1 - alpha * iqr)) | (df > (q3 + alpha * iqr))).any(axis=1)]\n",
    "    \n",
    "    elif outlier == 'z':\n",
    "        df = df[(np.abs(stats.zscore(df)) < alpha).all(axis=1)]\n",
    "    \n",
    "    return df\n"
   ]
  },
  {
   "cell_type": "code",
   "execution_count": null,
   "id": "26",
   "metadata": {},
   "outputs": [],
   "source": [
    "# Filled missing values without trimming\n",
    "data_new = clean_data(data)\n",
    "\n",
    "# Filled missing values and trimmed with IQR\n",
    "data_new_iqr = clean_data(data, outlier=\"iqr\")\n",
    "\n",
    "# Filled missing values and trimmed with z-score\n",
    "data_new_z = clean_data(data, outlier=\"z\")"
   ]
  },
  {
   "cell_type": "code",
   "execution_count": null,
   "id": "27",
   "metadata": {},
   "outputs": [
    {
     "name": "stdout",
     "output_type": "stream",
     "text": [
      "How much data was reduced after trimming using IQR:  0.7581050254614161\n",
      "How much data was reduced after trimming using z-score:  0.9077858936841863\n"
     ]
    }
   ],
   "source": [
    "# How much data was reduced after trimming using IQR\n",
    "print(\"How much data was reduced after trimming using IQR: \", 1 - (data_new_iqr.shape[0]/data_new.shape[0]))\n",
    "\n",
    "# How much data was reduced after trimming using z-score\n",
    "print(\"How much data was reduced after trimming using z-score: \", 1 - (data_new_z.shape[0]/data_new.shape[0]))"
   ]
  },
  {
   "cell_type": "code",
   "execution_count": null,
   "id": "28",
   "metadata": {},
   "outputs": [],
   "source": [
    "# Filled missing values without trimming\n",
    "df_pre_clean = clean_data(df_pre)\n",
    "\n",
    "# Filled missing values and trimmed with IQR\n",
    "df_pre_iqr = clean_data(df_pre, outlier=\"iqr\")\n",
    "\n",
    "# Filled missing values and trimmed with z-score\n",
    "df_pre_z = clean_data(df_pre, outlier=\"z\")"
   ]
  },
  {
   "cell_type": "code",
   "execution_count": null,
   "id": "29",
   "metadata": {},
   "outputs": [
    {
     "name": "stdout",
     "output_type": "stream",
     "text": [
      "How much data was reduced after trimming using IQR:  0.03412521025830084\n",
      "How much data was reduced after trimming using z-score:  0.272425631927003\n"
     ]
    }
   ],
   "source": [
    "# How much data was reduced after trimming using IQR\n",
    "print(\"How much data was reduced after trimming using IQR: \", 1 - (df_pre_iqr.shape[0]/df_pre.shape[0]))\n",
    "\n",
    "# How much data was reduced after trimming using z-score\n",
    "print(\"How much data was reduced after trimming using z-score: \", 1 - (df_pre_z.shape[0]/df_pre.shape[0]))"
   ]
  },
  {
   "cell_type": "code",
   "execution_count": null,
   "id": "30",
   "metadata": {},
   "outputs": [],
   "source": [
    "# Filled missing values without trimming\n",
    "df_post_clean = clean_data(df_post)\n",
    "\n",
    "# Filled missing values and trimmed with IQR\n",
    "df_post_iqr = clean_data(df_post, outlier=\"iqr\")\n",
    "\n",
    "# Filled missing values and trimmed with z-score\n",
    "df_post_z = clean_data(df_post, outlier=\"z\")"
   ]
  },
  {
   "cell_type": "code",
   "execution_count": null,
   "id": "31",
   "metadata": {},
   "outputs": [
    {
     "name": "stdout",
     "output_type": "stream",
     "text": [
      "How much data was reduced after trimming using IQR:  0.29652756975967187\n",
      "How much data was reduced after trimming using z-score:  0.29652756975967187\n"
     ]
    }
   ],
   "source": [
    "# How much data was reduced after trimming using IQR\n",
    "print(\"How much data was reduced after trimming using IQR: \", 1 - (df_post_iqr.shape[0]/df_post.shape[0]))\n",
    "\n",
    "# How much data was reduced after trimming using z-score\n",
    "print(\"How much data was reduced after trimming using z-score: \", 1 - (df_post_z.shape[0]/df_post.shape[0]))"
   ]
  },
  {
   "cell_type": "code",
   "execution_count": null,
   "id": "32",
   "metadata": {},
   "outputs": [],
   "source": [
    "# Filled missing values without trimming\n",
    "df_incidence_clean = clean_data(df_incidence)\n",
    "\n",
    "# Filled missing values and trimmed with IQR\n",
    "df_incidence_iqr = clean_data(df_incidence, outlier=\"iqr\")\n",
    "\n",
    "# Filled missing values and trimmed with z-score\n",
    "df_incidence_z = clean_data(df_incidence, outlier=\"z\")"
   ]
  },
  {
   "cell_type": "code",
   "execution_count": null,
   "id": "33",
   "metadata": {},
   "outputs": [
    {
     "name": "stdout",
     "output_type": "stream",
     "text": [
      "How much data was reduced after trimming using IQR:  0.39546994170372585\n",
      "How much data was reduced after trimming using z-score:  0.39546994170372585\n"
     ]
    }
   ],
   "source": [
    "# How much data was reduced after trimming using IQR\n",
    "print(\"How much data was reduced after trimming using IQR: \", 1 - (df_incidence_iqr.shape[0]/df_incidence.shape[0]))\n",
    "\n",
    "# How much data was reduced after trimming using z-score\n",
    "print(\"How much data was reduced after trimming using z-score: \", 1 - (df_incidence_z.shape[0]/df_incidence.shape[0]))"
   ]
  },
  {
   "cell_type": "code",
   "execution_count": null,
   "id": "34",
   "metadata": {},
   "outputs": [],
   "source": [
    "# Filled missing values without trimming\n",
    "df_int_clean = clean_data(df_int)\n",
    "\n",
    "# Filled missing values and trimmed with IQR\n",
    "df_int_iqr = clean_data(df_int, outlier=\"iqr\")\n",
    "\n",
    "# Filled missing values and trimmed with z-score\n",
    "df_int_z = clean_data(df_int, outlier=\"z\")"
   ]
  },
  {
   "cell_type": "code",
   "execution_count": null,
   "id": "35",
   "metadata": {},
   "outputs": [
    {
     "name": "stdout",
     "output_type": "stream",
     "text": [
      "How much data was reduced after trimming using IQR:  0.16018802276550148\n",
      "How much data was reduced after trimming using z-score:  0.37523906080785274\n"
     ]
    }
   ],
   "source": [
    "# How much data was reduced after trimming using IQR\n",
    "print(\"How much data was reduced after trimming using IQR: \", 1 - (df_int_iqr.shape[0]/df_int.shape[0]))\n",
    "\n",
    "# How much data was reduced after trimming using z-score\n",
    "print(\"How much data was reduced after trimming using z-score: \", 1 - (df_int_z.shape[0]/df_int.shape[0]))"
   ]
  },
  {
   "cell_type": "markdown",
   "id": "36",
   "metadata": {},
   "source": [
    "In general, if trimmed dataset is reduced by more that 10%, I will not trim the datasets. For any data sets that can be reduced using trimming, IQR trimming reduces less than z-score for the subgroups we've chose so I will use these set of cleaned data sets (replaced with mode and trimmed outlier with IQR).\n",
    "\n",
    "The reason we don't want too much trimming is so that we don't introduce much bias."
   ]
  },
  {
   "cell_type": "markdown",
   "id": "37",
   "metadata": {
    "vscode": {
     "languageId": "raw"
    }
   },
   "source": [
    "## Data Exploration"
   ]
  },
  {
   "cell_type": "code",
   "execution_count": null,
   "id": "38",
   "metadata": {},
   "outputs": [],
   "source": [
    "import seaborn as sns\n",
    "import matplotlib.pyplot as plt\n",
    "\n",
    "def eda(df, trimming = \"None\"):\n",
    "    \"\"\"\n",
    "    Perfoms EDA\n",
    "    \"\"\"\n",
    "    \n",
    "    print(\"Summary Statistics (Before Cleaning):\")\n",
    "    display(df.describe(include='all').T)\n",
    "    \n",
    "    plt.figure(figsize=(5, 3))\n",
    "    sns.heatmap(df.isnull(), cbar=False, cmap='viridis')\n",
    "    plt.title(\"Missing Values Heatmap\")\n",
    "    plt.show()\n",
    "    \n",
    "    cols = df.columns\n",
    "    df[cols].hist(bins=15, figsize=(15, 10), layout=(4, 3))\n",
    "    plt.suptitle(\"Histograms of Columns\")\n",
    "    plt.show()\n",
    "\n",
    "    print(\"Summary Statistics (After Cleaning):\")\n",
    "    df = clean_data(df, outlier=trimming)\n",
    "    display(df.describe(include='all').T)\n",
    "\n",
    "    cols = df.columns\n",
    "    df[cols].hist(bins=15, figsize=(15, 10), layout=(4, 3))\n",
    "    plt.suptitle(\"Histograms of Columns\")\n",
    "    plt.show()\n",
    "    \n",
    "    plt.figure(figsize=(10, 6))\n",
    "    sns.heatmap(df[cols].corr(), annot=True, fmt='.2f')\n",
    "    plt.title(\"Correlation Matrix of Features\")\n",
    "    plt.show()"
   ]
  },
  {
   "cell_type": "code",
   "execution_count": null,
   "id": "39",
   "metadata": {},
   "outputs": [
    {
     "name": "stdout",
     "output_type": "stream",
     "text": [
      "Summary Statistics (Before Cleaning):\n"
     ]
    },
    {
     "data": {
      "text/html": [
       "<div>\n",
       "<style scoped>\n",
       "    .dataframe tbody tr th:only-of-type {\n",
       "        vertical-align: middle;\n",
       "    }\n",
       "\n",
       "    .dataframe tbody tr th {\n",
       "        vertical-align: top;\n",
       "    }\n",
       "\n",
       "    .dataframe thead th {\n",
       "        text-align: right;\n",
       "    }\n",
       "</style>\n",
       "<table border=\"1\" class=\"dataframe\">\n",
       "  <thead>\n",
       "    <tr style=\"text-align: right;\">\n",
       "      <th></th>\n",
       "      <th>count</th>\n",
       "      <th>mean</th>\n",
       "      <th>std</th>\n",
       "      <th>min</th>\n",
       "      <th>25%</th>\n",
       "      <th>50%</th>\n",
       "      <th>75%</th>\n",
       "      <th>max</th>\n",
       "    </tr>\n",
       "  </thead>\n",
       "  <tbody>\n",
       "    <tr>\n",
       "      <th>AgeTwoPlus</th>\n",
       "      <td>43399.0</td>\n",
       "      <td>1.748750</td>\n",
       "      <td>0.433737</td>\n",
       "      <td>1.0</td>\n",
       "      <td>1.0</td>\n",
       "      <td>2.0</td>\n",
       "      <td>2.0</td>\n",
       "      <td>2.0</td>\n",
       "    </tr>\n",
       "    <tr>\n",
       "      <th>Gender</th>\n",
       "      <td>43399.0</td>\n",
       "      <td>1.376529</td>\n",
       "      <td>0.484521</td>\n",
       "      <td>1.0</td>\n",
       "      <td>1.0</td>\n",
       "      <td>1.0</td>\n",
       "      <td>2.0</td>\n",
       "      <td>2.0</td>\n",
       "    </tr>\n",
       "    <tr>\n",
       "      <th>Race</th>\n",
       "      <td>43399.0</td>\n",
       "      <td>4.165718</td>\n",
       "      <td>15.325210</td>\n",
       "      <td>1.0</td>\n",
       "      <td>1.0</td>\n",
       "      <td>1.0</td>\n",
       "      <td>2.0</td>\n",
       "      <td>90.0</td>\n",
       "    </tr>\n",
       "  </tbody>\n",
       "</table>\n",
       "</div>"
      ],
      "text/plain": [
       "              count      mean        std  min  25%  50%  75%   max\n",
       "AgeTwoPlus  43399.0  1.748750   0.433737  1.0  1.0  2.0  2.0   2.0\n",
       "Gender      43399.0  1.376529   0.484521  1.0  1.0  1.0  2.0   2.0\n",
       "Race        43399.0  4.165718  15.325210  1.0  1.0  1.0  2.0  90.0"
      ]
     },
     "metadata": {},
     "output_type": "display_data"
    },
    {
     "data": {
      "application/pdf": "[encoded data removed]",
      "text/plain": [
       "<Figure size 4500x3000 with 12 Axes>"
      ]
     },
     "metadata": {},
     "output_type": "display_data"
    },
    {
     "name": "stdout",
     "output_type": "stream",
     "text": [
      "Summary Statistics (After Cleaning):\n"
     ]
    },
    {
     "data": {
      "text/html": [
       "<div>\n",
       "<style scoped>\n",
       "    .dataframe tbody tr th:only-of-type {\n",
       "        vertical-align: middle;\n",
       "    }\n",
       "\n",
       "    .dataframe tbody tr th {\n",
       "        vertical-align: top;\n",
       "    }\n",
       "\n",
       "    .dataframe thead th {\n",
       "        text-align: right;\n",
       "    }\n",
       "</style>\n",
       "<table border=\"1\" class=\"dataframe\">\n",
       "  <thead>\n",
       "    <tr style=\"text-align: right;\">\n",
       "      <th></th>\n",
       "      <th>count</th>\n",
       "      <th>mean</th>\n",
       "      <th>std</th>\n",
       "      <th>min</th>\n",
       "      <th>25%</th>\n",
       "      <th>50%</th>\n",
       "      <th>75%</th>\n",
       "      <th>max</th>\n",
       "    </tr>\n",
       "  </thead>\n",
       "  <tbody>\n",
       "    <tr>\n",
       "      <th>AgeTwoPlus</th>\n",
       "      <td>41918.0</td>\n",
       "      <td>1.750775</td>\n",
       "      <td>0.432569</td>\n",
       "      <td>1.0</td>\n",
       "      <td>2.0</td>\n",
       "      <td>2.0</td>\n",
       "      <td>2.0</td>\n",
       "      <td>2.0</td>\n",
       "    </tr>\n",
       "    <tr>\n",
       "      <th>Gender</th>\n",
       "      <td>41918.0</td>\n",
       "      <td>1.376235</td>\n",
       "      <td>0.484446</td>\n",
       "      <td>1.0</td>\n",
       "      <td>1.0</td>\n",
       "      <td>1.0</td>\n",
       "      <td>2.0</td>\n",
       "      <td>2.0</td>\n",
       "    </tr>\n",
       "    <tr>\n",
       "      <th>Race</th>\n",
       "      <td>41918.0</td>\n",
       "      <td>1.422587</td>\n",
       "      <td>0.533942</td>\n",
       "      <td>1.0</td>\n",
       "      <td>1.0</td>\n",
       "      <td>1.0</td>\n",
       "      <td>2.0</td>\n",
       "      <td>3.0</td>\n",
       "    </tr>\n",
       "  </tbody>\n",
       "</table>\n",
       "</div>"
      ],
      "text/plain": [
       "              count      mean       std  min  25%  50%  75%  max\n",
       "AgeTwoPlus  41918.0  1.750775  0.432569  1.0  2.0  2.0  2.0  2.0\n",
       "Gender      41918.0  1.376235  0.484446  1.0  1.0  1.0  2.0  2.0\n",
       "Race        41918.0  1.422587  0.533942  1.0  1.0  1.0  2.0  3.0"
      ]
     },
     "metadata": {},
     "output_type": "display_data"
    },
    {
     "data": {
      "application/pdf": "[encoded data removed]",
      "text/plain": [
       "<Figure size 4500x3000 with 12 Axes>"
      ]
     },
     "metadata": {},
     "output_type": "display_data"
    },
    {
     "data": {
      "application/pdf": "[encoded data removed]",
      "text/plain": [
       "<Figure size 3000x1800 with 2 Axes>"
      ]
     },
     "metadata": {},
     "output_type": "display_data"
    }
   ],
   "source": [
    "eda(df_pre, \"iqr\")"
   ]
  },
  {
   "cell_type": "code",
   "execution_count": null,
   "id": "40",
   "metadata": {},
   "outputs": [
    {
     "name": "stdout",
     "output_type": "stream",
     "text": [
      "Summary Statistics (Before Cleaning):\n"
     ]
    },
    {
     "data": {
      "text/html": [
       "<div>\n",
       "<style scoped>\n",
       "    .dataframe tbody tr th:only-of-type {\n",
       "        vertical-align: middle;\n",
       "    }\n",
       "\n",
       "    .dataframe tbody tr th {\n",
       "        vertical-align: top;\n",
       "    }\n",
       "\n",
       "    .dataframe thead th {\n",
       "        text-align: right;\n",
       "    }\n",
       "</style>\n",
       "<table border=\"1\" class=\"dataframe\">\n",
       "  <thead>\n",
       "    <tr style=\"text-align: right;\">\n",
       "      <th></th>\n",
       "      <th>count</th>\n",
       "      <th>mean</th>\n",
       "      <th>std</th>\n",
       "      <th>min</th>\n",
       "      <th>25%</th>\n",
       "      <th>50%</th>\n",
       "      <th>75%</th>\n",
       "      <th>max</th>\n",
       "    </tr>\n",
       "  </thead>\n",
       "  <tbody>\n",
       "    <tr>\n",
       "      <th>Amnesia_verb</th>\n",
       "      <td>43399.0</td>\n",
       "      <td>31.148229</td>\n",
       "      <td>43.068433</td>\n",
       "      <td>0.0</td>\n",
       "      <td>0.0</td>\n",
       "      <td>0.0</td>\n",
       "      <td>91.0</td>\n",
       "      <td>91.0</td>\n",
       "    </tr>\n",
       "    <tr>\n",
       "      <th>LOCSeparate</th>\n",
       "      <td>43399.0</td>\n",
       "      <td>0.204014</td>\n",
       "      <td>0.505093</td>\n",
       "      <td>0.0</td>\n",
       "      <td>0.0</td>\n",
       "      <td>0.0</td>\n",
       "      <td>0.0</td>\n",
       "      <td>2.0</td>\n",
       "    </tr>\n",
       "    <tr>\n",
       "      <th>LocLen</th>\n",
       "      <td>43399.0</td>\n",
       "      <td>83.133413</td>\n",
       "      <td>26.786687</td>\n",
       "      <td>1.0</td>\n",
       "      <td>92.0</td>\n",
       "      <td>92.0</td>\n",
       "      <td>92.0</td>\n",
       "      <td>92.0</td>\n",
       "    </tr>\n",
       "    <tr>\n",
       "      <th>Seiz</th>\n",
       "      <td>43399.0</td>\n",
       "      <td>0.013894</td>\n",
       "      <td>0.117054</td>\n",
       "      <td>0.0</td>\n",
       "      <td>0.0</td>\n",
       "      <td>0.0</td>\n",
       "      <td>0.0</td>\n",
       "      <td>1.0</td>\n",
       "    </tr>\n",
       "    <tr>\n",
       "      <th>SeizOccur</th>\n",
       "      <td>43399.0</td>\n",
       "      <td>90.892509</td>\n",
       "      <td>9.941777</td>\n",
       "      <td>1.0</td>\n",
       "      <td>92.0</td>\n",
       "      <td>92.0</td>\n",
       "      <td>92.0</td>\n",
       "      <td>92.0</td>\n",
       "    </tr>\n",
       "    <tr>\n",
       "      <th>SeizLen</th>\n",
       "      <td>43399.0</td>\n",
       "      <td>90.987673</td>\n",
       "      <td>9.513010</td>\n",
       "      <td>1.0</td>\n",
       "      <td>92.0</td>\n",
       "      <td>92.0</td>\n",
       "      <td>92.0</td>\n",
       "      <td>92.0</td>\n",
       "    </tr>\n",
       "    <tr>\n",
       "      <th>Vomit</th>\n",
       "      <td>43399.0</td>\n",
       "      <td>0.133736</td>\n",
       "      <td>0.340372</td>\n",
       "      <td>0.0</td>\n",
       "      <td>0.0</td>\n",
       "      <td>0.0</td>\n",
       "      <td>0.0</td>\n",
       "      <td>1.0</td>\n",
       "    </tr>\n",
       "    <tr>\n",
       "      <th>VomitNbr</th>\n",
       "      <td>43399.0</td>\n",
       "      <td>80.579322</td>\n",
       "      <td>29.959698</td>\n",
       "      <td>1.0</td>\n",
       "      <td>92.0</td>\n",
       "      <td>92.0</td>\n",
       "      <td>92.0</td>\n",
       "      <td>92.0</td>\n",
       "    </tr>\n",
       "    <tr>\n",
       "      <th>SFxPalp</th>\n",
       "      <td>43399.0</td>\n",
       "      <td>0.050185</td>\n",
       "      <td>0.304455</td>\n",
       "      <td>0.0</td>\n",
       "      <td>0.0</td>\n",
       "      <td>0.0</td>\n",
       "      <td>0.0</td>\n",
       "      <td>2.0</td>\n",
       "    </tr>\n",
       "    <tr>\n",
       "      <th>FontBulg</th>\n",
       "      <td>43399.0</td>\n",
       "      <td>0.000830</td>\n",
       "      <td>0.028790</td>\n",
       "      <td>0.0</td>\n",
       "      <td>0.0</td>\n",
       "      <td>0.0</td>\n",
       "      <td>0.0</td>\n",
       "      <td>1.0</td>\n",
       "    </tr>\n",
       "    <tr>\n",
       "      <th>SFxBas</th>\n",
       "      <td>43399.0</td>\n",
       "      <td>0.009125</td>\n",
       "      <td>0.095087</td>\n",
       "      <td>0.0</td>\n",
       "      <td>0.0</td>\n",
       "      <td>0.0</td>\n",
       "      <td>0.0</td>\n",
       "      <td>1.0</td>\n",
       "    </tr>\n",
       "    <tr>\n",
       "      <th>SFxBasHem</th>\n",
       "      <td>43399.0</td>\n",
       "      <td>91.165419</td>\n",
       "      <td>8.697251</td>\n",
       "      <td>0.0</td>\n",
       "      <td>92.0</td>\n",
       "      <td>92.0</td>\n",
       "      <td>92.0</td>\n",
       "      <td>92.0</td>\n",
       "    </tr>\n",
       "  </tbody>\n",
       "</table>\n",
       "</div>"
      ],
      "text/plain": [
       "                count       mean        std  min   25%   50%   75%   max\n",
       "Amnesia_verb  43399.0  31.148229  43.068433  0.0   0.0   0.0  91.0  91.0\n",
       "LOCSeparate   43399.0   0.204014   0.505093  0.0   0.0   0.0   0.0   2.0\n",
       "LocLen        43399.0  83.133413  26.786687  1.0  92.0  92.0  92.0  92.0\n",
       "Seiz          43399.0   0.013894   0.117054  0.0   0.0   0.0   0.0   1.0\n",
       "SeizOccur     43399.0  90.892509   9.941777  1.0  92.0  92.0  92.0  92.0\n",
       "SeizLen       43399.0  90.987673   9.513010  1.0  92.0  92.0  92.0  92.0\n",
       "Vomit         43399.0   0.133736   0.340372  0.0   0.0   0.0   0.0   1.0\n",
       "VomitNbr      43399.0  80.579322  29.959698  1.0  92.0  92.0  92.0  92.0\n",
       "SFxPalp       43399.0   0.050185   0.304455  0.0   0.0   0.0   0.0   2.0\n",
       "FontBulg      43399.0   0.000830   0.028790  0.0   0.0   0.0   0.0   1.0\n",
       "SFxBas        43399.0   0.009125   0.095087  0.0   0.0   0.0   0.0   1.0\n",
       "SFxBasHem     43399.0  91.165419   8.697251  0.0  92.0  92.0  92.0  92.0"
      ]
     },
     "metadata": {},
     "output_type": "display_data"
    },
    {
     "data": {
      "application/pdf": "[encoded data removed]",
      "text/plain": [
       "<Figure size 4500x3000 with 12 Axes>"
      ]
     },
     "metadata": {},
     "output_type": "display_data"
    },
    {
     "name": "stdout",
     "output_type": "stream",
     "text": [
      "Summary Statistics (After Cleaning):\n"
     ]
    },
    {
     "data": {
      "text/html": [
       "<div>\n",
       "<style scoped>\n",
       "    .dataframe tbody tr th:only-of-type {\n",
       "        vertical-align: middle;\n",
       "    }\n",
       "\n",
       "    .dataframe tbody tr th {\n",
       "        vertical-align: top;\n",
       "    }\n",
       "\n",
       "    .dataframe thead th {\n",
       "        text-align: right;\n",
       "    }\n",
       "</style>\n",
       "<table border=\"1\" class=\"dataframe\">\n",
       "  <thead>\n",
       "    <tr style=\"text-align: right;\">\n",
       "      <th></th>\n",
       "      <th>count</th>\n",
       "      <th>mean</th>\n",
       "      <th>std</th>\n",
       "      <th>min</th>\n",
       "      <th>25%</th>\n",
       "      <th>50%</th>\n",
       "      <th>75%</th>\n",
       "      <th>max</th>\n",
       "    </tr>\n",
       "  </thead>\n",
       "  <tbody>\n",
       "    <tr>\n",
       "      <th>Amnesia_verb</th>\n",
       "      <td>43399.0</td>\n",
       "      <td>31.148229</td>\n",
       "      <td>43.068433</td>\n",
       "      <td>0.0</td>\n",
       "      <td>0.0</td>\n",
       "      <td>0.0</td>\n",
       "      <td>91.0</td>\n",
       "      <td>91.0</td>\n",
       "    </tr>\n",
       "    <tr>\n",
       "      <th>LOCSeparate</th>\n",
       "      <td>43399.0</td>\n",
       "      <td>0.204014</td>\n",
       "      <td>0.505093</td>\n",
       "      <td>0.0</td>\n",
       "      <td>0.0</td>\n",
       "      <td>0.0</td>\n",
       "      <td>0.0</td>\n",
       "      <td>2.0</td>\n",
       "    </tr>\n",
       "    <tr>\n",
       "      <th>LocLen</th>\n",
       "      <td>43399.0</td>\n",
       "      <td>83.133413</td>\n",
       "      <td>26.786687</td>\n",
       "      <td>1.0</td>\n",
       "      <td>92.0</td>\n",
       "      <td>92.0</td>\n",
       "      <td>92.0</td>\n",
       "      <td>92.0</td>\n",
       "    </tr>\n",
       "    <tr>\n",
       "      <th>Seiz</th>\n",
       "      <td>43399.0</td>\n",
       "      <td>0.013894</td>\n",
       "      <td>0.117054</td>\n",
       "      <td>0.0</td>\n",
       "      <td>0.0</td>\n",
       "      <td>0.0</td>\n",
       "      <td>0.0</td>\n",
       "      <td>1.0</td>\n",
       "    </tr>\n",
       "    <tr>\n",
       "      <th>SeizOccur</th>\n",
       "      <td>43399.0</td>\n",
       "      <td>90.892509</td>\n",
       "      <td>9.941777</td>\n",
       "      <td>1.0</td>\n",
       "      <td>92.0</td>\n",
       "      <td>92.0</td>\n",
       "      <td>92.0</td>\n",
       "      <td>92.0</td>\n",
       "    </tr>\n",
       "    <tr>\n",
       "      <th>SeizLen</th>\n",
       "      <td>43399.0</td>\n",
       "      <td>90.987673</td>\n",
       "      <td>9.513010</td>\n",
       "      <td>1.0</td>\n",
       "      <td>92.0</td>\n",
       "      <td>92.0</td>\n",
       "      <td>92.0</td>\n",
       "      <td>92.0</td>\n",
       "    </tr>\n",
       "    <tr>\n",
       "      <th>Vomit</th>\n",
       "      <td>43399.0</td>\n",
       "      <td>0.133736</td>\n",
       "      <td>0.340372</td>\n",
       "      <td>0.0</td>\n",
       "      <td>0.0</td>\n",
       "      <td>0.0</td>\n",
       "      <td>0.0</td>\n",
       "      <td>1.0</td>\n",
       "    </tr>\n",
       "    <tr>\n",
       "      <th>VomitNbr</th>\n",
       "      <td>43399.0</td>\n",
       "      <td>80.579322</td>\n",
       "      <td>29.959698</td>\n",
       "      <td>1.0</td>\n",
       "      <td>92.0</td>\n",
       "      <td>92.0</td>\n",
       "      <td>92.0</td>\n",
       "      <td>92.0</td>\n",
       "    </tr>\n",
       "    <tr>\n",
       "      <th>SFxPalp</th>\n",
       "      <td>43399.0</td>\n",
       "      <td>0.050185</td>\n",
       "      <td>0.304455</td>\n",
       "      <td>0.0</td>\n",
       "      <td>0.0</td>\n",
       "      <td>0.0</td>\n",
       "      <td>0.0</td>\n",
       "      <td>2.0</td>\n",
       "    </tr>\n",
       "    <tr>\n",
       "      <th>FontBulg</th>\n",
       "      <td>43399.0</td>\n",
       "      <td>0.000830</td>\n",
       "      <td>0.028790</td>\n",
       "      <td>0.0</td>\n",
       "      <td>0.0</td>\n",
       "      <td>0.0</td>\n",
       "      <td>0.0</td>\n",
       "      <td>1.0</td>\n",
       "    </tr>\n",
       "    <tr>\n",
       "      <th>SFxBas</th>\n",
       "      <td>43399.0</td>\n",
       "      <td>0.009125</td>\n",
       "      <td>0.095087</td>\n",
       "      <td>0.0</td>\n",
       "      <td>0.0</td>\n",
       "      <td>0.0</td>\n",
       "      <td>0.0</td>\n",
       "      <td>1.0</td>\n",
       "    </tr>\n",
       "    <tr>\n",
       "      <th>SFxBasHem</th>\n",
       "      <td>43399.0</td>\n",
       "      <td>91.165419</td>\n",
       "      <td>8.697251</td>\n",
       "      <td>0.0</td>\n",
       "      <td>92.0</td>\n",
       "      <td>92.0</td>\n",
       "      <td>92.0</td>\n",
       "      <td>92.0</td>\n",
       "    </tr>\n",
       "  </tbody>\n",
       "</table>\n",
       "</div>"
      ],
      "text/plain": [
       "                count       mean        std  min   25%   50%   75%   max\n",
       "Amnesia_verb  43399.0  31.148229  43.068433  0.0   0.0   0.0  91.0  91.0\n",
       "LOCSeparate   43399.0   0.204014   0.505093  0.0   0.0   0.0   0.0   2.0\n",
       "LocLen        43399.0  83.133413  26.786687  1.0  92.0  92.0  92.0  92.0\n",
       "Seiz          43399.0   0.013894   0.117054  0.0   0.0   0.0   0.0   1.0\n",
       "SeizOccur     43399.0  90.892509   9.941777  1.0  92.0  92.0  92.0  92.0\n",
       "SeizLen       43399.0  90.987673   9.513010  1.0  92.0  92.0  92.0  92.0\n",
       "Vomit         43399.0   0.133736   0.340372  0.0   0.0   0.0   0.0   1.0\n",
       "VomitNbr      43399.0  80.579322  29.959698  1.0  92.0  92.0  92.0  92.0\n",
       "SFxPalp       43399.0   0.050185   0.304455  0.0   0.0   0.0   0.0   2.0\n",
       "FontBulg      43399.0   0.000830   0.028790  0.0   0.0   0.0   0.0   1.0\n",
       "SFxBas        43399.0   0.009125   0.095087  0.0   0.0   0.0   0.0   1.0\n",
       "SFxBasHem     43399.0  91.165419   8.697251  0.0  92.0  92.0  92.0  92.0"
      ]
     },
     "metadata": {},
     "output_type": "display_data"
    },
    {
     "data": {
      "application/pdf": "[encoded data removed]",
      "text/plain": [
       "<Figure size 4500x3000 with 12 Axes>"
      ]
     },
     "metadata": {},
     "output_type": "display_data"
    },
    {
     "data": {
      "application/pdf": "[encoded data removed]",
      "text/plain": [
       "<Figure size 3000x1800 with 2 Axes>"
      ]
     },
     "metadata": {},
     "output_type": "display_data"
    }
   ],
   "source": [
    "eda(df_post)"
   ]
  },
  {
   "cell_type": "code",
   "execution_count": null,
   "id": "41",
   "metadata": {},
   "outputs": [
    {
     "name": "stdout",
     "output_type": "stream",
     "text": [
      "Summary Statistics (Before Cleaning):\n"
     ]
    },
    {
     "data": {
      "text/html": [
       "<div>\n",
       "<style scoped>\n",
       "    .dataframe tbody tr th:only-of-type {\n",
       "        vertical-align: middle;\n",
       "    }\n",
       "\n",
       "    .dataframe tbody tr th {\n",
       "        vertical-align: top;\n",
       "    }\n",
       "\n",
       "    .dataframe thead th {\n",
       "        text-align: right;\n",
       "    }\n",
       "</style>\n",
       "<table border=\"1\" class=\"dataframe\">\n",
       "  <thead>\n",
       "    <tr style=\"text-align: right;\">\n",
       "      <th></th>\n",
       "      <th>count</th>\n",
       "      <th>mean</th>\n",
       "      <th>std</th>\n",
       "      <th>min</th>\n",
       "      <th>25%</th>\n",
       "      <th>50%</th>\n",
       "      <th>75%</th>\n",
       "      <th>max</th>\n",
       "    </tr>\n",
       "  </thead>\n",
       "  <tbody>\n",
       "    <tr>\n",
       "      <th>InjuryMech</th>\n",
       "      <td>43399.0</td>\n",
       "      <td>13.864190</td>\n",
       "      <td>22.623717</td>\n",
       "      <td>1.0</td>\n",
       "      <td>6.0</td>\n",
       "      <td>8.0</td>\n",
       "      <td>10.0</td>\n",
       "      <td>90.0</td>\n",
       "    </tr>\n",
       "    <tr>\n",
       "      <th>High_impact_InjSev</th>\n",
       "      <td>43399.0</td>\n",
       "      <td>1.986659</td>\n",
       "      <td>0.563684</td>\n",
       "      <td>1.0</td>\n",
       "      <td>2.0</td>\n",
       "      <td>2.0</td>\n",
       "      <td>2.0</td>\n",
       "      <td>3.0</td>\n",
       "    </tr>\n",
       "  </tbody>\n",
       "</table>\n",
       "</div>"
      ],
      "text/plain": [
       "                      count       mean        std  min  25%  50%   75%   max\n",
       "InjuryMech          43399.0  13.864190  22.623717  1.0  6.0  8.0  10.0  90.0\n",
       "High_impact_InjSev  43399.0   1.986659   0.563684  1.0  2.0  2.0   2.0   3.0"
      ]
     },
     "metadata": {},
     "output_type": "display_data"
    },
    {
     "data": {
      "application/pdf": "[encoded data removed]",
      "text/plain": [
       "<Figure size 4500x3000 with 12 Axes>"
      ]
     },
     "metadata": {},
     "output_type": "display_data"
    },
    {
     "name": "stdout",
     "output_type": "stream",
     "text": [
      "Summary Statistics (After Cleaning):\n"
     ]
    },
    {
     "data": {
      "text/html": [
       "<div>\n",
       "<style scoped>\n",
       "    .dataframe tbody tr th:only-of-type {\n",
       "        vertical-align: middle;\n",
       "    }\n",
       "\n",
       "    .dataframe tbody tr th {\n",
       "        vertical-align: top;\n",
       "    }\n",
       "\n",
       "    .dataframe thead th {\n",
       "        text-align: right;\n",
       "    }\n",
       "</style>\n",
       "<table border=\"1\" class=\"dataframe\">\n",
       "  <thead>\n",
       "    <tr style=\"text-align: right;\">\n",
       "      <th></th>\n",
       "      <th>count</th>\n",
       "      <th>mean</th>\n",
       "      <th>std</th>\n",
       "      <th>min</th>\n",
       "      <th>25%</th>\n",
       "      <th>50%</th>\n",
       "      <th>75%</th>\n",
       "      <th>max</th>\n",
       "    </tr>\n",
       "  </thead>\n",
       "  <tbody>\n",
       "    <tr>\n",
       "      <th>InjuryMech</th>\n",
       "      <td>43399.0</td>\n",
       "      <td>13.864190</td>\n",
       "      <td>22.623717</td>\n",
       "      <td>1.0</td>\n",
       "      <td>6.0</td>\n",
       "      <td>8.0</td>\n",
       "      <td>10.0</td>\n",
       "      <td>90.0</td>\n",
       "    </tr>\n",
       "    <tr>\n",
       "      <th>High_impact_InjSev</th>\n",
       "      <td>43399.0</td>\n",
       "      <td>1.986659</td>\n",
       "      <td>0.563684</td>\n",
       "      <td>1.0</td>\n",
       "      <td>2.0</td>\n",
       "      <td>2.0</td>\n",
       "      <td>2.0</td>\n",
       "      <td>3.0</td>\n",
       "    </tr>\n",
       "  </tbody>\n",
       "</table>\n",
       "</div>"
      ],
      "text/plain": [
       "                      count       mean        std  min  25%  50%   75%   max\n",
       "InjuryMech          43399.0  13.864190  22.623717  1.0  6.0  8.0  10.0  90.0\n",
       "High_impact_InjSev  43399.0   1.986659   0.563684  1.0  2.0  2.0   2.0   3.0"
      ]
     },
     "metadata": {},
     "output_type": "display_data"
    },
    {
     "data": {
      "application/pdf": "[encoded data removed]",
      "text/plain": [
       "<Figure size 4500x3000 with 12 Axes>"
      ]
     },
     "metadata": {},
     "output_type": "display_data"
    },
    {
     "data": {
      "application/pdf": "[encoded data removed]",
      "text/plain": [
       "<Figure size 3000x1800 with 2 Axes>"
      ]
     },
     "metadata": {},
     "output_type": "display_data"
    }
   ],
   "source": [
    "eda(df_incidence)"
   ]
  },
  {
   "cell_type": "code",
   "execution_count": null,
   "id": "42",
   "metadata": {},
   "outputs": [
    {
     "name": "stdout",
     "output_type": "stream",
     "text": [
      "Summary Statistics (Before Cleaning):\n"
     ]
    },
    {
     "data": {
      "text/html": [
       "<div>\n",
       "<style scoped>\n",
       "    .dataframe tbody tr th:only-of-type {\n",
       "        vertical-align: middle;\n",
       "    }\n",
       "\n",
       "    .dataframe tbody tr th {\n",
       "        vertical-align: top;\n",
       "    }\n",
       "\n",
       "    .dataframe thead th {\n",
       "        text-align: right;\n",
       "    }\n",
       "</style>\n",
       "<table border=\"1\" class=\"dataframe\">\n",
       "  <thead>\n",
       "    <tr style=\"text-align: right;\">\n",
       "      <th></th>\n",
       "      <th>count</th>\n",
       "      <th>mean</th>\n",
       "      <th>std</th>\n",
       "      <th>min</th>\n",
       "      <th>25%</th>\n",
       "      <th>50%</th>\n",
       "      <th>75%</th>\n",
       "      <th>max</th>\n",
       "    </tr>\n",
       "  </thead>\n",
       "  <tbody>\n",
       "    <tr>\n",
       "      <th>ActNorm</th>\n",
       "      <td>43399.0</td>\n",
       "      <td>0.843430</td>\n",
       "      <td>0.363399</td>\n",
       "      <td>0.0</td>\n",
       "      <td>1.0</td>\n",
       "      <td>1.0</td>\n",
       "      <td>1.0</td>\n",
       "      <td>1.0</td>\n",
       "    </tr>\n",
       "    <tr>\n",
       "      <th>HA_verb</th>\n",
       "      <td>43399.0</td>\n",
       "      <td>29.776400</td>\n",
       "      <td>42.385174</td>\n",
       "      <td>0.0</td>\n",
       "      <td>0.0</td>\n",
       "      <td>1.0</td>\n",
       "      <td>91.0</td>\n",
       "      <td>91.0</td>\n",
       "    </tr>\n",
       "    <tr>\n",
       "      <th>HASeverity</th>\n",
       "      <td>43399.0</td>\n",
       "      <td>67.505864</td>\n",
       "      <td>40.173334</td>\n",
       "      <td>1.0</td>\n",
       "      <td>2.0</td>\n",
       "      <td>92.0</td>\n",
       "      <td>92.0</td>\n",
       "      <td>92.0</td>\n",
       "    </tr>\n",
       "    <tr>\n",
       "      <th>Intubated</th>\n",
       "      <td>43399.0</td>\n",
       "      <td>0.005023</td>\n",
       "      <td>0.070697</td>\n",
       "      <td>0.0</td>\n",
       "      <td>0.0</td>\n",
       "      <td>0.0</td>\n",
       "      <td>0.0</td>\n",
       "      <td>1.0</td>\n",
       "    </tr>\n",
       "    <tr>\n",
       "      <th>Paralyzed</th>\n",
       "      <td>43399.0</td>\n",
       "      <td>0.003134</td>\n",
       "      <td>0.055892</td>\n",
       "      <td>0.0</td>\n",
       "      <td>0.0</td>\n",
       "      <td>0.0</td>\n",
       "      <td>0.0</td>\n",
       "      <td>1.0</td>\n",
       "    </tr>\n",
       "    <tr>\n",
       "      <th>Sedated</th>\n",
       "      <td>43399.0</td>\n",
       "      <td>0.004931</td>\n",
       "      <td>0.070048</td>\n",
       "      <td>0.0</td>\n",
       "      <td>0.0</td>\n",
       "      <td>0.0</td>\n",
       "      <td>0.0</td>\n",
       "      <td>1.0</td>\n",
       "    </tr>\n",
       "  </tbody>\n",
       "</table>\n",
       "</div>"
      ],
      "text/plain": [
       "              count       mean        std  min  25%   50%   75%   max\n",
       "ActNorm     43399.0   0.843430   0.363399  0.0  1.0   1.0   1.0   1.0\n",
       "HA_verb     43399.0  29.776400  42.385174  0.0  0.0   1.0  91.0  91.0\n",
       "HASeverity  43399.0  67.505864  40.173334  1.0  2.0  92.0  92.0  92.0\n",
       "Intubated   43399.0   0.005023   0.070697  0.0  0.0   0.0   0.0   1.0\n",
       "Paralyzed   43399.0   0.003134   0.055892  0.0  0.0   0.0   0.0   1.0\n",
       "Sedated     43399.0   0.004931   0.070048  0.0  0.0   0.0   0.0   1.0"
      ]
     },
     "metadata": {},
     "output_type": "display_data"
    },
    {
     "data": {
      "application/pdf": "[encoded data removed]",
      "text/plain": [
       "<Figure size 4500x3000 with 12 Axes>"
      ]
     },
     "metadata": {},
     "output_type": "display_data"
    },
    {
     "name": "stdout",
     "output_type": "stream",
     "text": [
      "Summary Statistics (After Cleaning):\n"
     ]
    },
    {
     "data": {
      "text/html": [
       "<div>\n",
       "<style scoped>\n",
       "    .dataframe tbody tr th:only-of-type {\n",
       "        vertical-align: middle;\n",
       "    }\n",
       "\n",
       "    .dataframe tbody tr th {\n",
       "        vertical-align: top;\n",
       "    }\n",
       "\n",
       "    .dataframe thead th {\n",
       "        text-align: right;\n",
       "    }\n",
       "</style>\n",
       "<table border=\"1\" class=\"dataframe\">\n",
       "  <thead>\n",
       "    <tr style=\"text-align: right;\">\n",
       "      <th></th>\n",
       "      <th>count</th>\n",
       "      <th>mean</th>\n",
       "      <th>std</th>\n",
       "      <th>min</th>\n",
       "      <th>25%</th>\n",
       "      <th>50%</th>\n",
       "      <th>75%</th>\n",
       "      <th>max</th>\n",
       "    </tr>\n",
       "  </thead>\n",
       "  <tbody>\n",
       "    <tr>\n",
       "      <th>ActNorm</th>\n",
       "      <td>43399.0</td>\n",
       "      <td>0.843430</td>\n",
       "      <td>0.363399</td>\n",
       "      <td>0.0</td>\n",
       "      <td>1.0</td>\n",
       "      <td>1.0</td>\n",
       "      <td>1.0</td>\n",
       "      <td>1.0</td>\n",
       "    </tr>\n",
       "    <tr>\n",
       "      <th>HA_verb</th>\n",
       "      <td>43399.0</td>\n",
       "      <td>29.776400</td>\n",
       "      <td>42.385174</td>\n",
       "      <td>0.0</td>\n",
       "      <td>0.0</td>\n",
       "      <td>1.0</td>\n",
       "      <td>91.0</td>\n",
       "      <td>91.0</td>\n",
       "    </tr>\n",
       "    <tr>\n",
       "      <th>HASeverity</th>\n",
       "      <td>43399.0</td>\n",
       "      <td>67.505864</td>\n",
       "      <td>40.173334</td>\n",
       "      <td>1.0</td>\n",
       "      <td>2.0</td>\n",
       "      <td>92.0</td>\n",
       "      <td>92.0</td>\n",
       "      <td>92.0</td>\n",
       "    </tr>\n",
       "    <tr>\n",
       "      <th>Intubated</th>\n",
       "      <td>43399.0</td>\n",
       "      <td>0.005023</td>\n",
       "      <td>0.070697</td>\n",
       "      <td>0.0</td>\n",
       "      <td>0.0</td>\n",
       "      <td>0.0</td>\n",
       "      <td>0.0</td>\n",
       "      <td>1.0</td>\n",
       "    </tr>\n",
       "    <tr>\n",
       "      <th>Paralyzed</th>\n",
       "      <td>43399.0</td>\n",
       "      <td>0.003134</td>\n",
       "      <td>0.055892</td>\n",
       "      <td>0.0</td>\n",
       "      <td>0.0</td>\n",
       "      <td>0.0</td>\n",
       "      <td>0.0</td>\n",
       "      <td>1.0</td>\n",
       "    </tr>\n",
       "    <tr>\n",
       "      <th>Sedated</th>\n",
       "      <td>43399.0</td>\n",
       "      <td>0.004931</td>\n",
       "      <td>0.070048</td>\n",
       "      <td>0.0</td>\n",
       "      <td>0.0</td>\n",
       "      <td>0.0</td>\n",
       "      <td>0.0</td>\n",
       "      <td>1.0</td>\n",
       "    </tr>\n",
       "  </tbody>\n",
       "</table>\n",
       "</div>"
      ],
      "text/plain": [
       "              count       mean        std  min  25%   50%   75%   max\n",
       "ActNorm     43399.0   0.843430   0.363399  0.0  1.0   1.0   1.0   1.0\n",
       "HA_verb     43399.0  29.776400  42.385174  0.0  0.0   1.0  91.0  91.0\n",
       "HASeverity  43399.0  67.505864  40.173334  1.0  2.0  92.0  92.0  92.0\n",
       "Intubated   43399.0   0.005023   0.070697  0.0  0.0   0.0   0.0   1.0\n",
       "Paralyzed   43399.0   0.003134   0.055892  0.0  0.0   0.0   0.0   1.0\n",
       "Sedated     43399.0   0.004931   0.070048  0.0  0.0   0.0   0.0   1.0"
      ]
     },
     "metadata": {},
     "output_type": "display_data"
    },
    {
     "data": {
      "application/pdf": "[encoded data removed]",
      "text/plain": [
       "<Figure size 4500x3000 with 12 Axes>"
      ]
     },
     "metadata": {},
     "output_type": "display_data"
    },
    {
     "data": {
      "application/pdf": "[encoded data removed]",
      "text/plain": [
       "<Figure size 3000x1800 with 2 Axes>"
      ]
     },
     "metadata": {},
     "output_type": "display_data"
    }
   ],
   "source": [
    "eda(df_int)"
   ]
  },
  {
   "cell_type": "markdown",
   "id": "43",
   "metadata": {
    "vscode": {
     "languageId": "raw"
    }
   },
   "source": [
    "# Findings"
   ]
  },
  {
   "cell_type": "markdown",
   "id": "44",
   "metadata": {
    "vscode": {
     "languageId": "raw"
    }
   },
   "source": [
    "## First finding\n",
    "\n",
    "Can we predict ciTBI (`PosIntFinal`) based on injury mechanism and injury severity? A chi-squared test is a statistical hypothesis test used in the analysis of contingency tables. I used chi-square contignece function to compute the chi-square statistic and p-value for the hypothesis test of independence of the observed frequencies in the contingency table observed. If the p-value is less than 0.05, we say that it is statistically significant and can asumme that the two observed frequencies are not independet. Higher values indicate that there are more relationships."
   ]
  },
  {
   "cell_type": "code",
   "execution_count": null,
   "id": "45",
   "metadata": {},
   "outputs": [],
   "source": [
    "from scipy.stats import chi2_contingency\n",
    "\n",
    "def chi(df):\n",
    "    plt.figure(figsize=(8, 6))\n",
    "    sns.countplot(data=df, x='AgeTwoPlus', hue='PosIntFinal')\n",
    "    plt.title(\"Age (<2 years or >=2 years) vs. ciTBI\")\n",
    "    plt.show()\n",
    "    \n",
    "    plt.figure(figsize=(8, 6))\n",
    "    sns.countplot(data=df, x='Gender', hue='PosIntFinal')\n",
    "    plt.title(\"Gender vs. ciTBI\")\n",
    "    plt.show()\n",
    "    \n",
    "    plt.figure(figsize=(8, 6))\n",
    "    sns.countplot(data=df, x='Drugs', hue='PosIntFinal')\n",
    "    plt.title(\"Drug Intoxication vs. ciTBI\")\n",
    "    plt.show()\n",
    "    \n",
    "    ct_age = pd.crosstab(df['AgeTwoPlus'], df['PosIntFinal'])\n",
    "    ct_gender = pd.crosstab(df['Gender'], df['PosIntFinal'])\n",
    "    ct_drugs = pd.crosstab(df['Drugs'], df['PosIntFinal'])\n",
    "    \n",
    "    chi2_age, p_age, _, _ = chi2_contingency(ct_age)\n",
    "    chi2_gender, p_gender, _, _ = chi2_contingency(ct_gender)\n",
    "    chi2_drugs, p_drugs, _, _ = chi2_contingency(ct_drugs)\n",
    "    print(f\"Chi-square test for AgeTwoPlus vs ciTBI: chi2 = {chi2_age}, p-value = {p_age}\")\n",
    "    print(f\"Chi-square test for Gender vs ciTBI: chi2 = {chi2_gender}, p-value = {p_gender}\")\n",
    "    print(f\"Chi-square test for Drugs vs ciTBI: chi2 = {chi2_drugs}, p-value = {p_drugs}\")\n"
   ]
  },
  {
   "cell_type": "code",
   "execution_count": null,
   "id": "46",
   "metadata": {},
   "outputs": [
    {
     "data": {
      "application/pdf": "[encoded data removed]",
      "text/plain": [
       "<Figure size 2400x1800 with 1 Axes>"
      ]
     },
     "metadata": {},
     "output_type": "display_data"
    },
    {
     "data": {
      "application/pdf": "[encoded data removed]",
      "text/plain": [
       "<Figure size 2400x1800 with 1 Axes>"
      ]
     },
     "metadata": {},
     "output_type": "display_data"
    },
    {
     "data": {
      "application/pdf": "[encoded data removed]",
      "text/plain": [
       "<Figure size 2400x1800 with 1 Axes>"
      ]
     },
     "metadata": {},
     "output_type": "display_data"
    },
    {
     "name": "stdout",
     "output_type": "stream",
     "text": [
      "Chi-square test for AgeTwoPlus vs ciTBI: chi2 = 10.350189010132969, p-value = 0.0012946142872781068\n",
      "Chi-square test for Gender vs ciTBI: chi2 = 0.04429724363595672, p-value = 0.8333015632206818\n",
      "Chi-square test for Drugs vs ciTBI: chi2 = 43.030281799667264, p-value = 5.389911598157804e-11\n"
     ]
    }
   ],
   "source": [
    "chi(data_new)"
   ]
  },
  {
   "cell_type": "markdown",
   "id": "47",
   "metadata": {},
   "source": [
    "Thus, according to this test, we found that for pre-condition, use of drug is more correlated to ciTBIs."
   ]
  },
  {
   "cell_type": "markdown",
   "id": "48",
   "metadata": {
    "vscode": {
     "languageId": "raw"
    }
   },
   "source": [
    "## Second finding\n",
    "\n",
    "Which inury mechanism and severity correlate to higher chance of ciTBIs?"
   ]
  },
  {
   "cell_type": "code",
   "execution_count": null,
   "id": "49",
   "metadata": {},
   "outputs": [],
   "source": [
    "def injury(df):\n",
    "    ct_injury_mech = pd.crosstab(df['InjuryMech'], df['PosIntFinal'])\n",
    "    display(ct_injury_mech)\n",
    "    \n",
    "    ct_injury_severity = pd.crosstab(df['High_impact_InjSev'], df['PosIntFinal'])\n",
    "    display(ct_injury_severity)\n",
    "    \n",
    "    plt.figure(figsize=(12, 6))\n",
    "    sns.countplot(data=df, x='InjuryMech', hue='PosIntFinal')\n",
    "    plt.title(\"Injury Mechanism vs. ciTBI\")\n",
    "    plt.xticks(rotation=45)\n",
    "    plt.show()\n",
    "    \n",
    "    plt.figure(figsize=(8, 6))\n",
    "    sns.countplot(data=df, x='High_impact_InjSev', hue='PosIntFinal')\n",
    "    plt.title(\"Injury Severity vs. ciTBI\")\n",
    "    plt.show()\n",
    "    \n",
    "    print(df.groupby('InjuryMech')['PosIntFinal'].mean())\n",
    "    print(df.groupby('High_impact_InjSev')['PosIntFinal'].mean())\n"
   ]
  },
  {
   "cell_type": "code",
   "execution_count": null,
   "id": "50",
   "metadata": {},
   "outputs": [
    {
     "data": {
      "text/html": [
       "<div>\n",
       "<style scoped>\n",
       "    .dataframe tbody tr th:only-of-type {\n",
       "        vertical-align: middle;\n",
       "    }\n",
       "\n",
       "    .dataframe tbody tr th {\n",
       "        vertical-align: top;\n",
       "    }\n",
       "\n",
       "    .dataframe thead th {\n",
       "        text-align: right;\n",
       "    }\n",
       "</style>\n",
       "<table border=\"1\" class=\"dataframe\">\n",
       "  <thead>\n",
       "    <tr style=\"text-align: right;\">\n",
       "      <th>PosIntFinal</th>\n",
       "      <th>0.0</th>\n",
       "      <th>1.0</th>\n",
       "    </tr>\n",
       "    <tr>\n",
       "      <th>InjuryMech</th>\n",
       "      <th></th>\n",
       "      <th></th>\n",
       "    </tr>\n",
       "  </thead>\n",
       "  <tbody>\n",
       "    <tr>\n",
       "      <th>1.0</th>\n",
       "      <td>3747</td>\n",
       "      <td>163</td>\n",
       "    </tr>\n",
       "    <tr>\n",
       "      <th>2.0</th>\n",
       "      <td>1326</td>\n",
       "      <td>107</td>\n",
       "    </tr>\n",
       "    <tr>\n",
       "      <th>3.0</th>\n",
       "      <td>518</td>\n",
       "      <td>38</td>\n",
       "    </tr>\n",
       "    <tr>\n",
       "      <th>4.0</th>\n",
       "      <td>1671</td>\n",
       "      <td>30</td>\n",
       "    </tr>\n",
       "    <tr>\n",
       "      <th>5.0</th>\n",
       "      <td>853</td>\n",
       "      <td>48</td>\n",
       "    </tr>\n",
       "    <tr>\n",
       "      <th>6.0</th>\n",
       "      <td>4710</td>\n",
       "      <td>23</td>\n",
       "    </tr>\n",
       "    <tr>\n",
       "      <th>7.0</th>\n",
       "      <td>2451</td>\n",
       "      <td>4</td>\n",
       "    </tr>\n",
       "    <tr>\n",
       "      <th>8.0</th>\n",
       "      <td>11998</td>\n",
       "      <td>186</td>\n",
       "    </tr>\n",
       "    <tr>\n",
       "      <th>9.0</th>\n",
       "      <td>2891</td>\n",
       "      <td>17</td>\n",
       "    </tr>\n",
       "    <tr>\n",
       "      <th>10.0</th>\n",
       "      <td>2950</td>\n",
       "      <td>29</td>\n",
       "    </tr>\n",
       "    <tr>\n",
       "      <th>11.0</th>\n",
       "      <td>2991</td>\n",
       "      <td>25</td>\n",
       "    </tr>\n",
       "    <tr>\n",
       "      <th>12.0</th>\n",
       "      <td>3119</td>\n",
       "      <td>39</td>\n",
       "    </tr>\n",
       "    <tr>\n",
       "      <th>90.0</th>\n",
       "      <td>3411</td>\n",
       "      <td>54</td>\n",
       "    </tr>\n",
       "  </tbody>\n",
       "</table>\n",
       "</div>"
      ],
      "text/plain": [
       "PosIntFinal    0.0  1.0\n",
       "InjuryMech             \n",
       "1.0           3747  163\n",
       "2.0           1326  107\n",
       "3.0            518   38\n",
       "4.0           1671   30\n",
       "5.0            853   48\n",
       "6.0           4710   23\n",
       "7.0           2451    4\n",
       "8.0          11998  186\n",
       "9.0           2891   17\n",
       "10.0          2950   29\n",
       "11.0          2991   25\n",
       "12.0          3119   39\n",
       "90.0          3411   54"
      ]
     },
     "metadata": {},
     "output_type": "display_data"
    },
    {
     "data": {
      "text/html": [
       "<div>\n",
       "<style scoped>\n",
       "    .dataframe tbody tr th:only-of-type {\n",
       "        vertical-align: middle;\n",
       "    }\n",
       "\n",
       "    .dataframe tbody tr th {\n",
       "        vertical-align: top;\n",
       "    }\n",
       "\n",
       "    .dataframe thead th {\n",
       "        text-align: right;\n",
       "    }\n",
       "</style>\n",
       "<table border=\"1\" class=\"dataframe\">\n",
       "  <thead>\n",
       "    <tr style=\"text-align: right;\">\n",
       "      <th>PosIntFinal</th>\n",
       "      <th>0.0</th>\n",
       "      <th>1.0</th>\n",
       "    </tr>\n",
       "    <tr>\n",
       "      <th>High_impact_InjSev</th>\n",
       "      <th></th>\n",
       "      <th></th>\n",
       "    </tr>\n",
       "  </thead>\n",
       "  <tbody>\n",
       "    <tr>\n",
       "      <th>1.0</th>\n",
       "      <td>7161</td>\n",
       "      <td>27</td>\n",
       "    </tr>\n",
       "    <tr>\n",
       "      <th>2.0</th>\n",
       "      <td>29199</td>\n",
       "      <td>403</td>\n",
       "    </tr>\n",
       "    <tr>\n",
       "      <th>3.0</th>\n",
       "      <td>6276</td>\n",
       "      <td>333</td>\n",
       "    </tr>\n",
       "  </tbody>\n",
       "</table>\n",
       "</div>"
      ],
      "text/plain": [
       "PosIntFinal           0.0  1.0\n",
       "High_impact_InjSev            \n",
       "1.0                  7161   27\n",
       "2.0                 29199  403\n",
       "3.0                  6276  333"
      ]
     },
     "metadata": {},
     "output_type": "display_data"
    },
    {
     "data": {
      "application/pdf": "[encoded data removed]",
      "text/plain": [
       "<Figure size 3600x1800 with 1 Axes>"
      ]
     },
     "metadata": {},
     "output_type": "display_data"
    },
    {
     "data": {
      "application/pdf": "[encoded data removed]",
      "text/plain": [
       "<Figure size 2400x1800 with 1 Axes>"
      ]
     },
     "metadata": {},
     "output_type": "display_data"
    },
    {
     "name": "stdout",
     "output_type": "stream",
     "text": [
      "InjuryMech\n",
      "1.0     0.041688\n",
      "2.0     0.074669\n",
      "3.0     0.068345\n",
      "4.0     0.017637\n",
      "5.0     0.053274\n",
      "6.0     0.004859\n",
      "7.0     0.001629\n",
      "8.0     0.015266\n",
      "9.0     0.005846\n",
      "10.0    0.009735\n",
      "11.0    0.008289\n",
      "12.0    0.012350\n",
      "90.0    0.015584\n",
      "Name: PosIntFinal, dtype: float64\n",
      "High_impact_InjSev\n",
      "1.0    0.003756\n",
      "2.0    0.013614\n",
      "3.0    0.050386\n",
      "Name: PosIntFinal, dtype: float64\n"
     ]
    }
   ],
   "source": [
    "injury(data_new)"
   ]
  },
  {
   "cell_type": "markdown",
   "id": "51",
   "metadata": {},
   "source": [
    "In this finding, inury mechanism 2 (Pedestrian struck by moving vehicle) and severity 3 (High) accounts for most ciTBI patients."
   ]
  },
  {
   "cell_type": "markdown",
   "id": "52",
   "metadata": {
    "vscode": {
     "languageId": "raw"
    }
   },
   "source": [
    "## Third finding\n",
    "\n",
    "From the post-condition features, can we accurately predict the outcome of ciTBIs? In other words, we want to see what feature sets can accurately discern the potential of having ciTBIs."
   ]
  },
  {
   "cell_type": "code",
   "execution_count": null,
   "id": "53",
   "metadata": {},
   "outputs": [
    {
     "data": {
      "text/html": [
       "<div>\n",
       "<style scoped>\n",
       "    .dataframe tbody tr th:only-of-type {\n",
       "        vertical-align: middle;\n",
       "    }\n",
       "\n",
       "    .dataframe tbody tr th {\n",
       "        vertical-align: top;\n",
       "    }\n",
       "\n",
       "    .dataframe thead th {\n",
       "        text-align: right;\n",
       "    }\n",
       "</style>\n",
       "<table border=\"1\" class=\"dataframe\">\n",
       "  <thead>\n",
       "    <tr style=\"text-align: right;\">\n",
       "      <th></th>\n",
       "      <th>Amnesia_verb</th>\n",
       "      <th>LOCSeparate</th>\n",
       "      <th>LocLen</th>\n",
       "      <th>Seiz</th>\n",
       "      <th>SeizOccur</th>\n",
       "      <th>SeizLen</th>\n",
       "      <th>Vomit</th>\n",
       "      <th>VomitNbr</th>\n",
       "      <th>SFxPalp</th>\n",
       "      <th>FontBulg</th>\n",
       "      <th>SFxBas</th>\n",
       "      <th>SFxBasHem</th>\n",
       "    </tr>\n",
       "  </thead>\n",
       "  <tbody>\n",
       "    <tr>\n",
       "      <th>0</th>\n",
       "      <td>0.0</td>\n",
       "      <td>0.0</td>\n",
       "      <td>92.0</td>\n",
       "      <td>0.0</td>\n",
       "      <td>92.0</td>\n",
       "      <td>92.0</td>\n",
       "      <td>0.0</td>\n",
       "      <td>92.0</td>\n",
       "      <td>0.0</td>\n",
       "      <td>0.0</td>\n",
       "      <td>0.0</td>\n",
       "      <td>92</td>\n",
       "    </tr>\n",
       "    <tr>\n",
       "      <th>1</th>\n",
       "      <td>0.0</td>\n",
       "      <td>0.0</td>\n",
       "      <td>92.0</td>\n",
       "      <td>0.0</td>\n",
       "      <td>92.0</td>\n",
       "      <td>92.0</td>\n",
       "      <td>1.0</td>\n",
       "      <td>3.0</td>\n",
       "      <td>0.0</td>\n",
       "      <td>0.0</td>\n",
       "      <td>0.0</td>\n",
       "      <td>92</td>\n",
       "    </tr>\n",
       "    <tr>\n",
       "      <th>2</th>\n",
       "      <td>0.0</td>\n",
       "      <td>0.0</td>\n",
       "      <td>92.0</td>\n",
       "      <td>0.0</td>\n",
       "      <td>92.0</td>\n",
       "      <td>92.0</td>\n",
       "      <td>0.0</td>\n",
       "      <td>92.0</td>\n",
       "      <td>1.0</td>\n",
       "      <td>0.0</td>\n",
       "      <td>1.0</td>\n",
       "      <td>0</td>\n",
       "    </tr>\n",
       "    <tr>\n",
       "      <th>3</th>\n",
       "      <td>91.0</td>\n",
       "      <td>0.0</td>\n",
       "      <td>92.0</td>\n",
       "      <td>0.0</td>\n",
       "      <td>92.0</td>\n",
       "      <td>92.0</td>\n",
       "      <td>0.0</td>\n",
       "      <td>92.0</td>\n",
       "      <td>0.0</td>\n",
       "      <td>0.0</td>\n",
       "      <td>0.0</td>\n",
       "      <td>92</td>\n",
       "    </tr>\n",
       "    <tr>\n",
       "      <th>4</th>\n",
       "      <td>91.0</td>\n",
       "      <td>0.0</td>\n",
       "      <td>92.0</td>\n",
       "      <td>0.0</td>\n",
       "      <td>92.0</td>\n",
       "      <td>92.0</td>\n",
       "      <td>1.0</td>\n",
       "      <td>1.0</td>\n",
       "      <td>0.0</td>\n",
       "      <td>0.0</td>\n",
       "      <td>0.0</td>\n",
       "      <td>92</td>\n",
       "    </tr>\n",
       "    <tr>\n",
       "      <th>...</th>\n",
       "      <td>...</td>\n",
       "      <td>...</td>\n",
       "      <td>...</td>\n",
       "      <td>...</td>\n",
       "      <td>...</td>\n",
       "      <td>...</td>\n",
       "      <td>...</td>\n",
       "      <td>...</td>\n",
       "      <td>...</td>\n",
       "      <td>...</td>\n",
       "      <td>...</td>\n",
       "      <td>...</td>\n",
       "    </tr>\n",
       "    <tr>\n",
       "      <th>43394</th>\n",
       "      <td>0.0</td>\n",
       "      <td>0.0</td>\n",
       "      <td>92.0</td>\n",
       "      <td>0.0</td>\n",
       "      <td>92.0</td>\n",
       "      <td>92.0</td>\n",
       "      <td>0.0</td>\n",
       "      <td>92.0</td>\n",
       "      <td>0.0</td>\n",
       "      <td>0.0</td>\n",
       "      <td>0.0</td>\n",
       "      <td>92</td>\n",
       "    </tr>\n",
       "    <tr>\n",
       "      <th>43395</th>\n",
       "      <td>91.0</td>\n",
       "      <td>0.0</td>\n",
       "      <td>92.0</td>\n",
       "      <td>0.0</td>\n",
       "      <td>92.0</td>\n",
       "      <td>92.0</td>\n",
       "      <td>0.0</td>\n",
       "      <td>92.0</td>\n",
       "      <td>0.0</td>\n",
       "      <td>0.0</td>\n",
       "      <td>0.0</td>\n",
       "      <td>92</td>\n",
       "    </tr>\n",
       "    <tr>\n",
       "      <th>43396</th>\n",
       "      <td>0.0</td>\n",
       "      <td>0.0</td>\n",
       "      <td>92.0</td>\n",
       "      <td>0.0</td>\n",
       "      <td>92.0</td>\n",
       "      <td>92.0</td>\n",
       "      <td>0.0</td>\n",
       "      <td>92.0</td>\n",
       "      <td>0.0</td>\n",
       "      <td>0.0</td>\n",
       "      <td>0.0</td>\n",
       "      <td>92</td>\n",
       "    </tr>\n",
       "    <tr>\n",
       "      <th>43397</th>\n",
       "      <td>0.0</td>\n",
       "      <td>0.0</td>\n",
       "      <td>92.0</td>\n",
       "      <td>0.0</td>\n",
       "      <td>92.0</td>\n",
       "      <td>92.0</td>\n",
       "      <td>0.0</td>\n",
       "      <td>92.0</td>\n",
       "      <td>0.0</td>\n",
       "      <td>0.0</td>\n",
       "      <td>0.0</td>\n",
       "      <td>92</td>\n",
       "    </tr>\n",
       "    <tr>\n",
       "      <th>43398</th>\n",
       "      <td>0.0</td>\n",
       "      <td>0.0</td>\n",
       "      <td>92.0</td>\n",
       "      <td>0.0</td>\n",
       "      <td>92.0</td>\n",
       "      <td>92.0</td>\n",
       "      <td>0.0</td>\n",
       "      <td>92.0</td>\n",
       "      <td>0.0</td>\n",
       "      <td>0.0</td>\n",
       "      <td>0.0</td>\n",
       "      <td>92</td>\n",
       "    </tr>\n",
       "  </tbody>\n",
       "</table>\n",
       "<p>43399 rows × 12 columns</p>\n",
       "</div>"
      ],
      "text/plain": [
       "       Amnesia_verb  LOCSeparate  LocLen  Seiz  SeizOccur  SeizLen  Vomit  \\\n",
       "0               0.0          0.0    92.0   0.0       92.0     92.0    0.0   \n",
       "1               0.0          0.0    92.0   0.0       92.0     92.0    1.0   \n",
       "2               0.0          0.0    92.0   0.0       92.0     92.0    0.0   \n",
       "3              91.0          0.0    92.0   0.0       92.0     92.0    0.0   \n",
       "4              91.0          0.0    92.0   0.0       92.0     92.0    1.0   \n",
       "...             ...          ...     ...   ...        ...      ...    ...   \n",
       "43394           0.0          0.0    92.0   0.0       92.0     92.0    0.0   \n",
       "43395          91.0          0.0    92.0   0.0       92.0     92.0    0.0   \n",
       "43396           0.0          0.0    92.0   0.0       92.0     92.0    0.0   \n",
       "43397           0.0          0.0    92.0   0.0       92.0     92.0    0.0   \n",
       "43398           0.0          0.0    92.0   0.0       92.0     92.0    0.0   \n",
       "\n",
       "       VomitNbr  SFxPalp  FontBulg  SFxBas  SFxBasHem  \n",
       "0          92.0      0.0       0.0     0.0         92  \n",
       "1           3.0      0.0       0.0     0.0         92  \n",
       "2          92.0      1.0       0.0     1.0          0  \n",
       "3          92.0      0.0       0.0     0.0         92  \n",
       "4           1.0      0.0       0.0     0.0         92  \n",
       "...         ...      ...       ...     ...        ...  \n",
       "43394      92.0      0.0       0.0     0.0         92  \n",
       "43395      92.0      0.0       0.0     0.0         92  \n",
       "43396      92.0      0.0       0.0     0.0         92  \n",
       "43397      92.0      0.0       0.0     0.0         92  \n",
       "43398      92.0      0.0       0.0     0.0         92  \n",
       "\n",
       "[43399 rows x 12 columns]"
      ]
     },
     "execution_count": null,
     "metadata": {},
     "output_type": "execute_result"
    }
   ],
   "source": [
    "df_post"
   ]
  },
  {
   "cell_type": "code",
   "execution_count": null,
   "id": "54",
   "metadata": {},
   "outputs": [],
   "source": [
    "def post(df):\n",
    "    plt.figure(figsize=(8, 6))\n",
    "    sns.countplot(data=df, x='LOCSeparate', hue='PosIntFinal')\n",
    "    plt.title(\"Loss of Consciousness (LOC) vs. ciTBI\")\n",
    "    plt.show()\n",
    "    \n",
    "    plt.figure(figsize=(8, 6))\n",
    "    sns.countplot(data=df, x='Vomit', hue='PosIntFinal')\n",
    "    plt.title(\"Vomiting vs. ciTBI\")\n",
    "    plt.show()\n",
    "    \n",
    "    plt.figure(figsize=(8, 6))\n",
    "    sns.countplot(data=df, x='SFxPalp', hue='PosIntFinal')\n",
    "    plt.title(\"Palpable Skull Fracture vs. ciTBI\")\n",
    "    plt.show()\n",
    "    \n",
    "    plt.figure(figsize=(8, 6))\n",
    "    sns.countplot(data=df, x='Seiz', hue='PosIntFinal')\n",
    "    plt.title(\"Post-Traumatic Seizure vs. ciTBI\")\n",
    "    plt.show()\n",
    "    \n",
    "\n",
    "from sklearn.model_selection import train_test_split\n",
    "from sklearn.linear_model import LogisticRegression\n",
    "from sklearn.metrics import classification_report\n",
    "\n",
    "def model(df):\n",
    "    X = df[['LOCSeparate', 'Vomit', 'SFxPalp', 'Seiz']]\n",
    "    y = df['PosIntFinal']\n",
    "    \n",
    "    X_train, X_test, y_train, y_test = train_test_split(X, y, test_size=0.3, random_state=42)\n",
    "    \n",
    "    reg = LogisticRegression()\n",
    "    reg.fit(X_train, y_train)\n",
    "    y_pred = reg.predict(X_test)\n",
    "    print(classification_report(y_test, y_pred))\n",
    "    coefficients = pd.DataFrame(reg.coef_.flatten(), index=X.columns, columns=['Coefficient'])\n",
    "    print(coefficients)"
   ]
  },
  {
   "cell_type": "code",
   "execution_count": null,
   "id": "55",
   "metadata": {},
   "outputs": [
    {
     "data": {
      "application/pdf": "[encoded data removed]",
      "text/plain": [
       "<Figure size 2400x1800 with 1 Axes>"
      ]
     },
     "metadata": {},
     "output_type": "display_data"
    },
    {
     "data": {
      "application/pdf": "[encoded data removed]",
      "text/plain": [
       "<Figure size 2400x1800 with 1 Axes>"
      ]
     },
     "metadata": {},
     "output_type": "display_data"
    },
    {
     "data": {
      "application/pdf": "[encoded data removed]",
      "text/plain": [
       "<Figure size 2400x1800 with 1 Axes>"
      ]
     },
     "metadata": {},
     "output_type": "display_data"
    },
    {
     "data": {
      "application/pdf": "[encoded data removed]",
      "text/plain": [
       "<Figure size 2400x1800 with 1 Axes>"
      ]
     },
     "metadata": {},
     "output_type": "display_data"
    }
   ],
   "source": [
    "post(data_new)"
   ]
  },
  {
   "cell_type": "code",
   "execution_count": null,
   "id": "56",
   "metadata": {},
   "outputs": [
    {
     "name": "stdout",
     "output_type": "stream",
     "text": [
      "              precision    recall  f1-score   support\n",
      "\n",
      "         0.0       0.98      1.00      0.99     12779\n",
      "         1.0       0.20      0.00      0.01       241\n",
      "\n",
      "    accuracy                           0.98     13020\n",
      "   macro avg       0.59      0.50      0.50     13020\n",
      "weighted avg       0.97      0.98      0.97     13020\n",
      "\n",
      "             Coefficient\n",
      "LOCSeparate     1.088662\n",
      "Vomit           0.991379\n",
      "SFxPalp         1.303787\n",
      "Seiz            1.125431\n"
     ]
    }
   ],
   "source": [
    "model(data_new)"
   ]
  },
  {
   "cell_type": "markdown",
   "id": "57",
   "metadata": {
    "vscode": {
     "languageId": "raw"
    }
   },
   "source": [
    "## Reality Check\n",
    "\n",
    "-   Do a reality check. What reality could you compare your cleaned data\n",
    "    to?\n",
    "\n",
    "-   Clearly state your assumptions and explain why this reality check is\n",
    "    useful.\n",
    "\n",
    "-   Does your cleaned data pass the reality check or are there issues?\n",
    "    Discuss."
   ]
  },
  {
   "cell_type": "markdown",
   "id": "58",
   "metadata": {
    "vscode": {
     "languageId": "raw"
    }
   },
   "source": [
    "## Stability Check\n",
    "\n",
    "Take one of your findings and present a perturbed version. How does this\n",
    "affect your finding? Add a before and after plot here."
   ]
  },
  {
   "cell_type": "markdown",
   "id": "59",
   "metadata": {
    "vscode": {
     "languageId": "raw"
    }
   },
   "source": [
    "# Discussion\n",
    "\n",
    "-   Did the data size restrict you in any way? Discuss some challenges\n",
    "    that you faced as a result of the data size.\n",
    "\n",
    "-   Address the three realms: data / reality, algorithms / models, and\n",
    "    future data / reality.\n",
    "\n",
    "-   Where do the parts of the lab fit into those three realms?\n",
    "\n",
    "-   Do you think there is a one-to-one correspondence of the data and\n",
    "    reality?\n",
    "\n",
    "-   What about reality and data visualization?"
   ]
  },
  {
   "cell_type": "markdown",
   "id": "60",
   "metadata": {
    "vscode": {
     "languageId": "raw"
    }
   },
   "source": [
    "# Conclusion\n",
    "\n",
    "-   You should make attempts to connect your findings/analysis back to\n",
    "    the domain problem in every section of this report, but here in the\n",
    "    conclusion, you can reiterate your main points and provide\n",
    "    overarching remarks on the PECARN data as it relates to the domain\n",
    "    problem"
   ]
  },
  {
   "cell_type": "markdown",
   "id": "61",
   "metadata": {
    "vscode": {
     "languageId": "raw"
    }
   },
   "source": [
    "# Academic honesty statement\n",
    "\n",
    "Please address to Bin."
   ]
  },
  {
   "cell_type": "markdown",
   "id": "62",
   "metadata": {
    "vscode": {
     "languageId": "raw"
    }
   },
   "source": [
    "# Collaborators"
   ]
  },
  {
   "cell_type": "markdown",
   "id": "63",
   "metadata": {
    "vscode": {
     "languageId": "raw"
    }
   },
   "source": [
    "# Bibliography"
   ]
  }
 ],
 "metadata": {
  "kernelspec": {
   "display_name": "Python 3 (ipykernel)",
   "language": "python",
   "name": "python3"
  },
  "language_info": {
   "codemirror_mode": {
    "name": "ipython",
    "version": 3
   },
   "file_extension": ".py",
   "mimetype": "text/x-python",
   "name": "python",
   "nbconvert_exporter": "python",
   "pygments_lexer": "ipython3",
   "version": "3.12.5"
  }
 },
 "nbformat": 4,
 "nbformat_minor": 5
}
