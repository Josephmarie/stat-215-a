{
 "cells": [
  {
   "cell_type": "raw",
   "metadata": {
    "vscode": {
     "languageId": "raw"
    }
   },
   "source": [
    "---\n",
    "title: Lab 1 - PECARN TBI Data, Stat 215A, Fall 2024\n",
    "date: today\n",
    "execute:\n",
    "    echo: false\n",
    "format:\n",
    "    pdf:\n",
    "        geometry: margin=1in\n",
    "        documentclass: article\n",
    "        fontsize: 10pt\n",
    "---"
   ]
  },
  {
   "cell_type": "markdown",
   "metadata": {
    "vscode": {
     "languageId": "raw"
    }
   },
   "source": [
    "Please use this structure for your report, but you do not have to\n",
    "slavishly follow this template. All bullet points are merely suggestions\n",
    "and potential points to discuss in your writeup. Your report should be\n",
    "no more than 12 pages, including figures. Do not include *any* code or\n",
    "code output in your report. Indicate your informal collaborators on the\n",
    "assignment, if you had any."
   ]
  },
  {
   "cell_type": "markdown",
   "metadata": {
    "vscode": {
     "languageId": "raw"
    }
   },
   "source": [
    "# Introduction\n",
    "\n",
    "Things to potentially include in your introduction:\n",
    "\n",
    "-   Describe the premise of your exploratory data analysis and put your\n",
    "    analysis in the domain context\n",
    "\n",
    "-   Explain why studying the TBI data is interesting and/or important\n",
    "\n",
    "-   What are the implications of better understanding this data?\n",
    "\n",
    "-   What is the purpose of your exploratory data analysis?\n",
    "\n",
    "-   Outline what you will be doing in the rest of the report/analysis\n"
   ]
  },
  {
   "cell_type": "markdown",
   "metadata": {
    "vscode": {
     "languageId": "raw"
    }
   },
   "source": [
    "# Data\n",
    "\n",
    "-   What is the data that you will be looking at?\n",
    "\n",
    "-   Provide a brief overview of the data\n",
    "\n",
    "-   How is this data relevant to the problem of interest? In other\n",
    "    words, make the link between the data and the domain problem"
   ]
  },
  {
   "cell_type": "markdown",
   "metadata": {
    "vscode": {
     "languageId": "raw"
    }
   },
   "source": [
    "## Data Collection\n",
    "\n",
    "-   How was the data generated?\n",
    "\n",
    "-   Discuss how the measurements of each variable in the data vary\n"
   ]
  },
  {
   "cell_type": "markdown",
   "metadata": {
    "vscode": {
     "languageId": "raw"
    }
   },
   "source": [
    "## Data Cleaning\n",
    "\n",
    "-   Discuss all inconsistencies, problems, oddities in the data\n",
    "    (e.g. missing data, errors in data, outliers, etc)\n",
    "\n",
    "-   What steps did you take to clean the data, and why did you clean the\n",
    "    data in that way?\n",
    "\n",
    "-   Record your preprocessing steps in a way such that if someone else\n",
    "    were to reproduce your analysis, they could easily replicate and\n",
    "    understand your preprocessing\n",
    "\n",
    "-   You may find it helpful to include relevant plots that help to\n",
    "    explain the choices you made when cleaning the data\n",
    "\n",
    "-   Be transparent! This allows for others to read your work and make\n",
    "    their own educated decisions on how best to preprocess the data.\n"
   ]
  },
  {
   "cell_type": "markdown",
   "metadata": {
    "vscode": {
     "languageId": "raw"
    }
   },
   "source": [
    "## Data Exploration\n",
    "\n",
    "-   The main goal of this section is to give the reader a feel for what\n",
    "    the data \"looks like' ' at a basic level\n",
    "\n",
    "-   Think about plots that summarize the data, plots that convey some\n",
    "    smaller findings which ultimately motivate your main findings\n",
    "\n",
    "-   A good report will tie everything together so that there is a reason\n",
    "    for every figure in the story"
   ]
  },
  {
   "cell_type": "markdown",
   "metadata": {
    "vscode": {
     "languageId": "raw"
    }
   },
   "source": [
    "# Findings\n",
    "\n",
    "-   Present three interesting findings and produce a publication quality\n",
    "    graphic for each along with a short caption of what each shows.\n",
    "\n",
    "-   Don't forget to appropriate label axes, titles\n",
    "\n",
    "-   Think carefully about use of color, labeling, shading, transparency,\n",
    "    etc.\n",
    "\n",
    "-   Also interpret and provide an insightful discussion of what your\n",
    "    figures show"
   ]
  },
  {
   "cell_type": "markdown",
   "metadata": {
    "vscode": {
     "languageId": "raw"
    }
   },
   "source": [
    "## First finding\n",
    "\n",
    "Describe it and place a figure here"
   ]
  },
  {
   "cell_type": "markdown",
   "metadata": {
    "vscode": {
     "languageId": "raw"
    }
   },
   "source": [
    "## Second finding\n",
    "\n",
    "Describe it and place a figure here"
   ]
  },
  {
   "cell_type": "markdown",
   "metadata": {
    "vscode": {
     "languageId": "raw"
    }
   },
   "source": [
    "## Third finding\n",
    "\n",
    "Describe it and place a figure here"
   ]
  },
  {
   "cell_type": "markdown",
   "metadata": {
    "vscode": {
     "languageId": "raw"
    }
   },
   "source": [
    "## Reality Check\n",
    "\n",
    "-   Do a reality check. What reality could you compare your cleaned data\n",
    "    to?\n",
    "\n",
    "-   Clearly state your assumptions and explain why this reality check is\n",
    "    useful.\n",
    "\n",
    "-   Does your cleaned data pass the reality check or are there issues?\n",
    "    Discuss."
   ]
  },
  {
   "cell_type": "markdown",
   "metadata": {
    "vscode": {
     "languageId": "raw"
    }
   },
   "source": [
    "## Stability Check\n",
    "\n",
    "Take one of your findings and present a perturbed version. How does this\n",
    "affect your finding? Add a before and after plot here."
   ]
  },
  {
   "cell_type": "markdown",
   "metadata": {
    "vscode": {
     "languageId": "raw"
    }
   },
   "source": [
    "# Discussion\n",
    "\n",
    "-   Did the data size restrict you in any way? Discuss some challenges\n",
    "    that you faced as a result of the data size.\n",
    "\n",
    "-   Address the three realms: data / reality, algorithms / models, and\n",
    "    future data / reality.\n",
    "\n",
    "-   Where do the parts of the lab fit into those three realms?\n",
    "\n",
    "-   Do you think there is a one-to-one correspondence of the data and\n",
    "    reality?\n",
    "\n",
    "-   What about reality and data visualization?"
   ]
  },
  {
   "cell_type": "markdown",
   "metadata": {
    "vscode": {
     "languageId": "raw"
    }
   },
   "source": [
    "# Conclusion\n",
    "\n",
    "-   You should make attempts to connect your findings/analysis back to\n",
    "    the domain problem in every section of this report, but here in the\n",
    "    conclusion, you can reiterate your main points and provide\n",
    "    overarching remarks on the PECARN data as it relates to the domain\n",
    "    problem"
   ]
  },
  {
   "cell_type": "markdown",
   "metadata": {
    "vscode": {
     "languageId": "raw"
    }
   },
   "source": [
    "# Academic honesty statement\n",
    "\n",
    "Please address to Bin."
   ]
  },
  {
   "cell_type": "markdown",
   "metadata": {
    "vscode": {
     "languageId": "raw"
    }
   },
   "source": [
    "# Collaborators"
   ]
  },
  {
   "cell_type": "markdown",
   "metadata": {
    "vscode": {
     "languageId": "raw"
    }
   },
   "source": [
    "# Bibliography"
   ]
  }
 ],
 "metadata": {
  "kernelspec": {
   "display_name": "Python 3 (ipykernel)",
   "language": "python",
   "name": "python3"
  },
  "language_info": {
   "codemirror_mode": {
    "name": "ipython",
    "version": 3
   },
   "file_extension": ".py",
   "mimetype": "text/x-python",
   "name": "python",
   "nbconvert_exporter": "python",
   "pygments_lexer": "ipython3",
   "version": "3.12.5"
  }
 },
 "nbformat": 4,
 "nbformat_minor": 4
}
