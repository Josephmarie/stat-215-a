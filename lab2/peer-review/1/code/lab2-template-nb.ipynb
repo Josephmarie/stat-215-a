{
 "cells": [
  {
   "cell_type": "raw",
   "metadata": {
    "vscode": {
     "languageId": "raw"
    }
   },
   "source": [
    "---\n",
    "title: Lab 2 - Linguistics Data, Stat 215A, Fall 2024\n",
    "date: today\n",
    "execute:\n",
    "    echo: false\n",
    "format:\n",
    "    pdf:\n",
    "        geometry: margin=1in\n",
    "        documentclass: article\n",
    "        fontsize: 10pt\n",
    "---"
   ]
  },
  {
   "cell_type": "markdown",
   "metadata": {
    "vscode": {
     "languageId": "raw"
    }
   },
   "source": [
    "Please use this structure for your report, but you do not have to\n",
    "slavishly follow this template. All bullet points are merely suggestions\n",
    "and potential points to discuss in your writeup. Your report should be\n",
    "no more than 12 pages, including figures. Do not include *any* code or\n",
    "code output in your report. Indicate your informal collaborators on the\n",
    "assignment, if you had any."
   ]
  },
  {
   "cell_type": "markdown",
   "metadata": {},
   "source": [
    "# Introduction\n",
    "\n",
    "Things to potentially include in your introduction:\n",
    "\n",
    "-   Describe the problem of interest and put your analysis in the domain\n",
    "    context. Read the introduction of the two Nerbonne and Kertzschmar\n",
    "    papers for some help here.\n",
    "\n",
    "-   What do you aim to learn from this data?\n",
    "\n",
    "-   Outline what you will be doing in the rest of the report/analysis"
   ]
  },
  {
   "cell_type": "markdown",
   "metadata": {},
   "source": [
    "# The Data {#data}\n",
    "\n",
    "-   What is the data that you will be looking at?\n",
    "\n",
    "-   Provide a brief overview of the data\n",
    "\n",
    "-   How is this data relevant to the problem of interest? In other\n",
    "    words, make the link between the data and the domain problem"
   ]
  },
  {
   "cell_type": "code",
   "execution_count": null,
   "metadata": {},
   "outputs": [
    {
     "name": "stdout",
     "output_type": "stream",
     "text": [
      "Requirement already satisfied: numpy in /Users/lloydconnelly/miniconda3/envs/215a/lib/python3.12/site-packages (2.1.1)\n",
      "Requirement already satisfied: scipy in /Users/lloydconnelly/miniconda3/envs/215a/lib/python3.12/site-packages (1.14.1)\n",
      "Requirement already satisfied: seaborn in /Users/lloydconnelly/miniconda3/envs/215a/lib/python3.12/site-packages (0.13.2)\n",
      "Requirement already satisfied: matplotlib in /Users/lloydconnelly/miniconda3/envs/215a/lib/python3.12/site-packages (3.9.2)\n",
      "Requirement already satisfied: pandas>=1.2 in /Users/lloydconnelly/miniconda3/envs/215a/lib/python3.12/site-packages (from seaborn) (2.2.2)\n",
      "Requirement already satisfied: contourpy>=1.0.1 in /Users/lloydconnelly/miniconda3/envs/215a/lib/python3.12/site-packages (from matplotlib) (1.2.0)\n",
      "Requirement already satisfied: cycler>=0.10 in /Users/lloydconnelly/miniconda3/envs/215a/lib/python3.12/site-packages (from matplotlib) (0.11.0)\n",
      "Requirement already satisfied: fonttools>=4.22.0 in /Users/lloydconnelly/miniconda3/envs/215a/lib/python3.12/site-packages (from matplotlib) (4.51.0)\n",
      "Requirement already satisfied: kiwisolver>=1.3.1 in /Users/lloydconnelly/miniconda3/envs/215a/lib/python3.12/site-packages (from matplotlib) (1.4.5)\n",
      "Requirement already satisfied: packaging>=20.0 in /Users/lloydconnelly/miniconda3/envs/215a/lib/python3.12/site-packages (from matplotlib) (24.1)\n",
      "Requirement already satisfied: pillow>=8 in /Users/lloydconnelly/miniconda3/envs/215a/lib/python3.12/site-packages (from matplotlib) (10.4.0)\n",
      "Requirement already satisfied: pyparsing>=2.3.1 in /Users/lloydconnelly/miniconda3/envs/215a/lib/python3.12/site-packages (from matplotlib) (3.1.4)\n",
      "Requirement already satisfied: python-dateutil>=2.7 in /Users/lloydconnelly/miniconda3/envs/215a/lib/python3.12/site-packages (from matplotlib) (2.9.0)\n",
      "Collecting numpy\n",
      "  Downloading numpy-1.26.4-cp312-cp312-macosx_11_0_arm64.whl.metadata (61 kB)\n",
      "Requirement already satisfied: pytz>=2020.1 in /Users/lloydconnelly/miniconda3/envs/215a/lib/python3.12/site-packages (from pandas>=1.2->seaborn) (2024.1)\n",
      "Requirement already satisfied: tzdata>=2022.7 in /Users/lloydconnelly/miniconda3/envs/215a/lib/python3.12/site-packages (from pandas>=1.2->seaborn) (2024.1)\n",
      "Requirement already satisfied: six>=1.5 in /Users/lloydconnelly/miniconda3/envs/215a/lib/python3.12/site-packages (from python-dateutil>=2.7->matplotlib) (1.16.0)\n",
      "Downloading numpy-1.26.4-cp312-cp312-macosx_11_0_arm64.whl (13.7 MB)\n",
      "\u001b[2K   \u001b[90m━━━━━━━━━━━━━━━━━━━━━━━━━━━━━━━━━━━━━━━━\u001b[0m \u001b[32m13.7/13.7 MB\u001b[0m \u001b[31m59.7 MB/s\u001b[0m eta \u001b[36m0:00:00\u001b[0ma \u001b[36m0:00:01\u001b[0m\n",
      "\u001b[?25hInstalling collected packages: numpy\n",
      "  Attempting uninstall: numpy\n",
      "    Found existing installation: numpy 2.1.1\n",
      "    Uninstalling numpy-2.1.1:\n",
      "      Successfully uninstalled numpy-2.1.1\n",
      "Successfully installed numpy-1.26.4\n",
      "Note: you may need to restart the kernel to use updated packages.\n"
     ]
    }
   ],
   "source": [
    "pip install --upgrade numpy scipy seaborn matplotlib\n"
   ]
  },
  {
   "cell_type": "code",
   "execution_count": null,
   "metadata": {},
   "outputs": [],
   "source": [
    "import pandas as pd\n",
    "import geopandas as gpd\n",
    "import matplotlib.pyplot as plt\n",
    "import seaborn as sns\n",
    "from pyreadr import read_r\n",
    "import numpy as np\n",
    "\n",
    "# Load the data\n",
    "ling_data = pd.read_csv('../data/lingData.txt', sep='\\\\s+')\n",
    "ling_location = pd.read_csv('../data/lingLocation.txt', sep='\\\\s+')\n",
    "\n",
    "# ling_data has a column for each question, and ling_location has a column\n",
    "# for each question x answer.  Sorry the columns in ling_location are not usefully named,\n",
    "# but it's not too tricky to figure out which is which.\n",
    "# Note that you still need to clean this data (check for NA's, missing location data, etc.)\n",
    "\n",
    "# Load the question_data which contains quest.mat, quest.use, ans.---\n",
    "question_data = read_r('../data/question_data.RData')"
   ]
  },
  {
   "cell_type": "code",
   "execution_count": null,
   "metadata": {},
   "outputs": [
    {
     "name": "stdout",
     "output_type": "stream",
     "text": [
      "Index(['ID', 'CITY', 'STATE', 'ZIP', 'Q050', 'Q051', 'Q052', 'Q053', 'Q054',\n",
      "       'Q055', 'Q056', 'Q057', 'Q058', 'Q059', 'Q060', 'Q061', 'Q062', 'Q063',\n",
      "       'Q064', 'Q065', 'Q066', 'Q067', 'Q068', 'Q069', 'Q070', 'Q071', 'Q072',\n",
      "       'Q073', 'Q074', 'Q075', 'Q076', 'Q077', 'Q078', 'Q079', 'Q080', 'Q081',\n",
      "       'Q082', 'Q083', 'Q084', 'Q085', 'Q086', 'Q087', 'Q088', 'Q089', 'Q090',\n",
      "       'Q091', 'Q092', 'Q093', 'Q094', 'Q095', 'Q096', 'Q097', 'Q098', 'Q099',\n",
      "       'Q100', 'Q101', 'Q102', 'Q103', 'Q104', 'Q105', 'Q106', 'Q107', 'Q109',\n",
      "       'Q110', 'Q111', 'Q115', 'Q117', 'Q118', 'Q119', 'Q120', 'Q121', 'lat',\n",
      "       'long'],\n",
      "      dtype='object')\n",
      "Index(['Number of people in cell', 'Latitude', 'Longitude', 'V4', 'V5', 'V6',\n",
      "       'V7', 'V8', 'V9', 'V10',\n",
      "       ...\n",
      "       'V462', 'V463', 'V464', 'V465', 'V466', 'V467', 'V468', 'V469', 'V470',\n",
      "       'V471'],\n",
      "      dtype='object', length=471)\n"
     ]
    }
   ],
   "source": [
    "# Inspect column names\n",
    "print(ling_data.columns)\n",
    "print(ling_location.columns)\n",
    "\n",
    "# Load state geometries\n",
    "state_df = gpd.read_file('../data/shapefiles')\n",
    "state_df = state_df[state_df['iso_a2'] == 'US']  # Filter to only US"
   ]
  },
  {
   "cell_type": "code",
   "execution_count": null,
   "metadata": {},
   "outputs": [],
   "source": []
  },
  {
   "cell_type": "code",
   "execution_count": null,
   "metadata": {},
   "outputs": [],
   "source": []
  },
  {
   "cell_type": "markdown",
   "metadata": {},
   "source": [
    "## Data Cleaning\n",
    "\n",
    "-   This dataset isn't as bad as the TBI data, but there are still some\n",
    "    issues. You should discuss them here and describe your strategies\n",
    "    for dealing with them.\n",
    "\n",
    "-   Remember to record your preprocessing steps and to be transparent!"
   ]
  },
  {
   "cell_type": "markdown",
   "metadata": {},
   "source": [
    "## Exploratory Data Analysis {#data-exploration}\n",
    "\n",
    "-   This is where you compare pairs of questions with discussion and\n",
    "    plots."
   ]
  },
  {
   "cell_type": "markdown",
   "metadata": {},
   "source": [
    "# Dimension Reduction\n",
    "\n",
    "-   This is where you discuss and show plots about the results of\n",
    "    whatever dimension reduction techniques you tried---PCA, variants of\n",
    "    PCA, t-SNE, NMF, random projections, etc.\n",
    "\n",
    "-   What do you learn from your dimension reduction outputs\n",
    "\n",
    "-   Discuss centering and scaling decisions"
   ]
  },
  {
   "cell_type": "markdown",
   "metadata": {},
   "source": [
    "# Clustering\n",
    "\n",
    "-   This is where you discuss and show plots about the results of\n",
    "    whatever clustering methods you tried---k-means, hierarchical\n",
    "    clustering, NMF, etc."
   ]
  },
  {
   "cell_type": "markdown",
   "metadata": {},
   "source": [
    "# Stability of findings to perturbation\n",
    "\n",
    "-   What happens to your clusters when you perturb the data set?\n",
    "\n",
    "-   What happens when you re-run the algorithm with different starting\n",
    "    points?"
   ]
  },
  {
   "cell_type": "markdown",
   "metadata": {},
   "source": [
    "# Conclusion\n",
    "\n",
    "-   Discuss the three realms of data science by answering the questions\n",
    "    in the instructions pdf.\n",
    "\n",
    "-   Come up with a reality check that would help you to verify your\n",
    "    clustering. You do not necessarily have to perform this reality\n",
    "    check, but you can if doable.\n",
    "\n",
    "-   What are the main takeaways from your\n",
    "    exploration/clustering/stability analysis?"
   ]
  },
  {
   "cell_type": "markdown",
   "metadata": {},
   "source": [
    "# Academic Honesty {#academic-integrity-statement}\n",
    "\n",
    "## Statement\n",
    "\n",
    "Please include your academic honesty statement here. Do NOT include your\n",
    "name.\n",
    "\n",
    "## LLM Usage\n",
    "\n",
    "If, in accordance with the policy in `lab2-instructions.pdf`, you used\n",
    "the one exception to the LLM ban to help complete the lab, please see\n",
    "the instructions for what to write here.\n",
    "\n",
    "## Collaborators\n",
    "\n",
    "List your collaborators here."
   ]
  },
  {
   "cell_type": "markdown",
   "metadata": {},
   "source": [
    "\n",
    "# Bibliography\n",
    "\n",
    "Include any references you used in your report here."
   ]
  }
 ],
 "metadata": {
  "kernelspec": {
   "display_name": "215a",
   "language": "python",
   "name": "python3"
  },
  "language_info": {
   "codemirror_mode": {
    "name": "ipython",
    "version": 3
   },
   "file_extension": ".py",
   "mimetype": "text/x-python",
   "name": "python",
   "nbconvert_exporter": "python",
   "pygments_lexer": "ipython3",
   "version": "3.12.2"
  }
 },
 "nbformat": 4,
 "nbformat_minor": 2
}
