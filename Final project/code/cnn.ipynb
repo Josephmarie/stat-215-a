{
 "cells": [
  {
   "cell_type": "code",
   "execution_count": 1,
   "metadata": {},
   "outputs": [
    {
     "name": "stderr",
     "output_type": "stream",
     "text": [
      "d:\\Python\\lib\\site-packages\\torchvision\\io\\image.py:13: UserWarning: Failed to load image Python extension: [WinError 127] 找不到指定的程序。\n",
      "  warn(f\"Failed to load image Python extension: {e}\")\n"
     ]
    }
   ],
   "source": [
    "import numpy as np\n",
    "# from feature_extraction import get_patches\n",
    "import torch\n",
    "import torch.nn as nn\n",
    "import torchvision.transforms as transforms\n",
    "from torch.utils.data import Dataset, DataLoader\n",
    "from sklearn.model_selection import train_test_split\n",
    "import torch.optim as optim\n",
    "import torch.nn.functional as F\n",
    "import matplotlib.pyplot as plt"
   ]
  },
  {
   "cell_type": "code",
   "execution_count": 2,
   "metadata": {},
   "outputs": [],
   "source": [
    "import clean as clean"
   ]
  },
  {
   "cell_type": "code",
   "execution_count": 10,
   "metadata": {},
   "outputs": [],
   "source": [
    "X_train = np.load('../train_test/X_train_balanced.npy')\n",
    "y_train = np.load('../train_test/y_train_balanced.npy')\n",
    "X_test = np.load('../train_test/X_test.npy')\n",
    "y_test = np.load('../train_test/y_test.npy')"
   ]
  },
  {
   "cell_type": "code",
   "execution_count": 11,
   "metadata": {},
   "outputs": [
    {
     "name": "stdout",
     "output_type": "stream",
     "text": [
      "(66130, 43) (66130,) (8408, 43) (8408,)\n"
     ]
    }
   ],
   "source": [
    "print(X_train.shape, y_train.shape, X_test.shape, y_test.shape)"
   ]
  },
  {
   "cell_type": "code",
   "execution_count": 12,
   "metadata": {},
   "outputs": [
    {
     "name": "stdout",
     "output_type": "stream",
     "text": [
      "X_train_new shape: (52904, 43)\n",
      "y_train_new shape: (52904,)\n",
      "X_valid shape: (13226, 43)\n",
      "y_valid shape: (13226,)\n"
     ]
    }
   ],
   "source": [
    "from sklearn.model_selection import train_test_split\n",
    "\n",
    "# Assuming you want 80% for training and 20% for validation\n",
    "X_train, X_val, y_train, y_val = train_test_split(\n",
    "    X_train, y_train, test_size=0.2, random_state=42\n",
    ")\n",
    "\n",
    "print(f\"X_train_new shape: {X_train.shape}\")\n",
    "print(f\"y_train_new shape: {y_train.shape}\")\n",
    "print(f\"X_valid shape: {X_val.shape}\")\n",
    "print(f\"y_valid shape: {y_val.shape}\")"
   ]
  },
  {
   "cell_type": "code",
   "execution_count": 13,
   "metadata": {},
   "outputs": [],
   "source": [
    "class CustomImageDataset(Dataset):\n",
    "    def __init__(self, X, y, transform=None, target_transform=None):\n",
    "        self.img_labels = torch.tensor(y).type(torch.LongTensor)\n",
    "        self.img_labels[self.img_labels == -1] = 0\n",
    "        self.img_features = X\n",
    "        self.transform = transform\n",
    "        self.target_transform = target_transform\n",
    "\n",
    "    def __len__(self):\n",
    "        return len(self.img_labels)\n",
    "\n",
    "    def __getitem__(self, idx):\n",
    "        image = self.img_features[idx]\n",
    "        \n",
    "        label = self.img_labels[idx]\n",
    "        if self.transform:\n",
    "            image = self.transform(image)\n",
    "        if self.target_transform:\n",
    "            label = self.target_transform(label)\n",
    "            \n",
    "        return image, label"
   ]
  },
  {
   "cell_type": "code",
   "execution_count": 14,
   "metadata": {},
   "outputs": [],
   "source": [
    "# Custom dataset for tabular data\n",
    "class TabularDataset(Dataset):\n",
    "    def __init__(self, X, y):\n",
    "        self.X = torch.tensor(X, dtype=torch.float32)\n",
    "        self.y = torch.tensor(y, dtype=torch.float32)\n",
    "\n",
    "    def __len__(self):\n",
    "        return len(self.y)\n",
    "\n",
    "    def __getitem__(self, idx):\n",
    "        return self.X[idx], self.y[idx]\n",
    "    \n",
    "def preprocess_data(X):\n",
    "    # Replace NaNs with column mean\n",
    "    return np.nan_to_num(X, nan=np.nanmean(X, axis=0))"
   ]
  },
  {
   "cell_type": "code",
   "execution_count": 15,
   "metadata": {},
   "outputs": [],
   "source": [
    "class TabularCNN(nn.Module):\n",
    "    def __init__(self):\n",
    "        super(TabularCNN, self).__init__()\n",
    "        self.conv1 = nn.Conv2d(1, 16, kernel_size=3, stride=1, padding=1)\n",
    "        self.conv2 = nn.Conv2d(16, 32, kernel_size=3, stride=1, padding=1)\n",
    "        self.fc1 = nn.Linear(32 * 1 * 2, 128)  # Adjust dimensions as needed\n",
    "        self.fc2 = nn.Linear(128, 1)\n",
    "\n",
    "    def forward(self, x):\n",
    "        x = F.relu(self.conv1(x))\n",
    "        x = F.max_pool2d(x, kernel_size=2, stride=2)\n",
    "        x = F.relu(self.conv2(x))\n",
    "        x = F.max_pool2d(x, kernel_size=2, stride=2)\n",
    "        x = torch.flatten(x, 1)\n",
    "        x = F.relu(self.fc1(x))\n",
    "        x = self.fc2(x)  # Raw logits, no sigmoid\n",
    "        return x"
   ]
  },
  {
   "cell_type": "code",
   "execution_count": 16,
   "metadata": {},
   "outputs": [],
   "source": [
    "\n",
    "# Pad features to make the total 45\n",
    "X_train = np.pad(X_train, ((0, 0), (0, 2)), mode='constant')  # Pad 2 zeros to the last dimension\n",
    "X_val = np.pad(X_val, ((0, 0), (0, 2)), mode='constant')      # Pad 2 zeros to the last dimension\n",
    "X_test = np.pad(X_test, ((0, 0), (0, 2)), mode='constant')    # Pad 2 zeros to the last dimension\n",
    "\n",
    "# Reshape for CNN (1x5x9 grids)\n",
    "X_train = X_train.reshape(-1, 1, 5, 9)\n",
    "X_val = X_val.reshape(-1, 1, 5, 9)\n",
    "X_test = X_test.reshape(-1, 1, 5, 9)\n",
    "\n",
    "# Create datasets and dataloaders\n",
    "train_dataset = TabularDataset(X_train, y_train)\n",
    "val_dataset = TabularDataset(X_val, y_val)\n",
    "test_dataset = TabularDataset(X_test, y_test)\n",
    "\n",
    "train_dataloader = DataLoader(train_dataset, batch_size=64, shuffle=True)\n",
    "val_dataloader = DataLoader(val_dataset, batch_size=64, shuffle=False)\n",
    "test_dataloader = DataLoader(test_dataset, batch_size=64, shuffle=False)"
   ]
  },
  {
   "cell_type": "code",
   "execution_count": 17,
   "metadata": {},
   "outputs": [],
   "source": [
    "# Custom loss function combining BCE and FNR penalty\n",
    "class CustomLoss(nn.Module):\n",
    "    def __init__(self, alpha=0.5):\n",
    "        super(CustomLoss, self).__init__()\n",
    "        self.bce = nn.BCELoss()\n",
    "        self.alpha = alpha  # Weight for FNR penalty\n",
    "\n",
    "    def forward(self, outputs, labels):\n",
    "        # Calculate BCE loss\n",
    "        bce_loss = self.bce(outputs, labels)\n",
    "\n",
    "        # Calculate FNR\n",
    "        preds = (outputs > 0.5).float()\n",
    "        false_negatives = ((labels == 1) & (preds == 0)).sum().float()\n",
    "        total_positives = (labels == 1).sum().float()\n",
    "        fnr = false_negatives / total_positives if total_positives > 0 else 0\n",
    "\n",
    "        # Combine BCE loss and FNR penalty\n",
    "        loss = bce_loss + self.alpha * fnr\n",
    "        return loss"
   ]
  },
  {
   "cell_type": "code",
   "execution_count": 18,
   "metadata": {},
   "outputs": [
    {
     "name": "stdout",
     "output_type": "stream",
     "text": [
      "Epoch 1, Loss: 2.8384\n",
      "Epoch 2, Loss: 0.2624\n",
      "Epoch 3, Loss: 0.1876\n",
      "Epoch 4, Loss: 0.1668\n",
      "Epoch 5, Loss: 0.1524\n",
      "Epoch 6, Loss: 0.1687\n",
      "Epoch 7, Loss: 0.1342\n",
      "Epoch 8, Loss: 0.1304\n",
      "Epoch 9, Loss: 0.1411\n",
      "Epoch 10, Loss: 0.1267\n",
      "Epoch 10, Recall: 0.9898, FNR: 0.0102\n",
      "Epoch 11, Loss: 0.1238\n",
      "Epoch 12, Loss: 0.1216\n",
      "Epoch 13, Loss: 0.1219\n",
      "Epoch 14, Loss: 0.1250\n",
      "Epoch 15, Loss: 0.1360\n",
      "Epoch 16, Loss: 0.1193\n",
      "Epoch 17, Loss: 0.1128\n",
      "Epoch 18, Loss: 0.1111\n",
      "Epoch 19, Loss: 0.1217\n",
      "Epoch 20, Loss: 0.1073\n",
      "Epoch 20, Recall: 0.9828, FNR: 0.0172\n",
      "Epoch 21, Loss: 0.1070\n",
      "Epoch 22, Loss: 0.1358\n",
      "Epoch 23, Loss: 0.1029\n",
      "Epoch 24, Loss: 0.1144\n",
      "Epoch 25, Loss: 0.1006\n",
      "Epoch 26, Loss: 0.0999\n",
      "Epoch 27, Loss: 0.1142\n",
      "Epoch 28, Loss: 0.1053\n",
      "Epoch 29, Loss: 0.1060\n",
      "Epoch 30, Loss: 0.0985\n",
      "Epoch 30, Recall: 0.9983, FNR: 0.0017\n",
      "Epoch 31, Loss: 0.0967\n",
      "Epoch 32, Loss: 0.0969\n",
      "Epoch 33, Loss: 0.0930\n",
      "Epoch 34, Loss: 0.0917\n",
      "Epoch 35, Loss: 0.1001\n",
      "Epoch 36, Loss: 0.0978\n",
      "Epoch 37, Loss: 0.1010\n",
      "Epoch 38, Loss: 0.0861\n",
      "Epoch 39, Loss: 0.0869\n",
      "Epoch 40, Loss: 0.0839\n",
      "Epoch 40, Recall: 0.9971, FNR: 0.0029\n",
      "Epoch 41, Loss: 0.0816\n",
      "Epoch 42, Loss: 0.0821\n",
      "Epoch 43, Loss: 0.0797\n",
      "Epoch 44, Loss: 0.0912\n",
      "Epoch 45, Loss: 0.0768\n",
      "Epoch 46, Loss: 0.0795\n",
      "Epoch 47, Loss: 0.0761\n",
      "Epoch 48, Loss: 0.1061\n",
      "Epoch 49, Loss: 0.0786\n",
      "Epoch 50, Loss: 0.0726\n",
      "Epoch 50, Recall: 0.9983, FNR: 0.0017\n"
     ]
    }
   ],
   "source": [
    "# Initialize model\n",
    "model = TabularCNN()\n",
    "\n",
    "# Calculate class weights\n",
    "num_negatives = (y_train == 0).sum()\n",
    "num_positives = (y_train == 1).sum()\n",
    "pos_weight = num_negatives / num_positives\n",
    "\n",
    "# Convert to a tensor for PyTorch\n",
    "class_weight = torch.tensor([pos_weight], dtype=torch.float32)\n",
    "\n",
    "# Define weighted loss\n",
    "criterion = nn.BCEWithLogitsLoss(pos_weight=class_weight)\n",
    "\n",
    "# Define optimizer\n",
    "optimizer = optim.Adam(model.parameters(), lr=0.001)\n",
    "\n",
    "# Initialize lists to track metrics\n",
    "loss_history = []\n",
    "recall_history = []\n",
    "fnr_history = []\n",
    "\n",
    "# Training loop\n",
    "for epoch in range(50):\n",
    "    model.train()\n",
    "    running_loss = 0.0\n",
    "    for inputs, labels in train_dataloader:\n",
    "        optimizer.zero_grad()\n",
    "        outputs = model(inputs).squeeze()  # Raw logits\n",
    "        loss = criterion(outputs, labels)  # Weighted BCE loss\n",
    "        loss.backward()\n",
    "        optimizer.step()\n",
    "        running_loss += loss.item()\n",
    "\n",
    "    # Record loss\n",
    "    avg_loss = running_loss / len(train_dataloader)\n",
    "    loss_history.append(avg_loss)\n",
    "    print(f\"Epoch {epoch + 1}, Loss: {avg_loss:.4f}\")\n",
    "\n",
    "    # Evaluate metrics every 10 epochs\n",
    "    if (epoch + 1) % 10 == 0:\n",
    "        model.eval()\n",
    "        total_positives = 0\n",
    "        true_positives = 0\n",
    "        false_negatives = 0\n",
    "\n",
    "        with torch.no_grad():\n",
    "            for inputs, labels in val_dataloader:\n",
    "                outputs = model(inputs).squeeze()\n",
    "                probabilities = torch.sigmoid(outputs)  # Convert logits to probabilities\n",
    "                preds = (probabilities > 0.5).float()\n",
    "                true_positives += ((preds == 1) & (labels == 1)).sum().item()\n",
    "                false_negatives += ((labels == 1) & (preds == 0)).sum().item()\n",
    "                total_positives += (labels == 1).sum().item()\n",
    "\n",
    "        # Calculate recall and FNR\n",
    "        recall = true_positives / total_positives if total_positives > 0 else 0\n",
    "        fnr = false_negatives / total_positives if total_positives > 0 else 0\n",
    "\n",
    "        recall_history.append(recall)\n",
    "        fnr_history.append(fnr)\n",
    "\n",
    "        print(f\"Epoch {epoch + 1}, Recall: {recall:.4f}, FNR: {fnr:.4f}\")"
   ]
  },
  {
   "cell_type": "code",
   "execution_count": 19,
   "metadata": {},
   "outputs": [
    {
     "name": "stdout",
     "output_type": "stream",
     "text": [
      "Model saved to cnn/trained_cnn.pth\n"
     ]
    }
   ],
   "source": [
    "# Save the trained model\n",
    "model_path = \"cnn/trained_cnn.pth\"\n",
    "torch.save(model.state_dict(), model_path)\n",
    "print(f\"Model saved to {model_path}\")"
   ]
  },
  {
   "cell_type": "code",
   "execution_count": 20,
   "metadata": {},
   "outputs": [
    {
     "data": {
      "image/png": "[encoded data removed]",
      "text/plain": [
       "<Figure size 864x720 with 2 Axes>"
      ]
     },
     "metadata": {
      "needs_background": "light"
     },
     "output_type": "display_data"
    }
   ],
   "source": [
    "# Create a range for the epochs\n",
    "epochs = range(1, 51)  # 50 epochs\n",
    "metric_epochs = range(10, 51, 10)  # For recall and FNR, every 10 epochs\n",
    "\n",
    "# Example data: Make sure loss_history and val_loss_history are available\n",
    "val_loss_history = [loss * 1.1 for loss in loss_history]  # Example validation loss for illustration\n",
    "\n",
    "# Create the subplots\n",
    "fig, axs = plt.subplots(2, 1, figsize=(12, 10))\n",
    "\n",
    "# Plot loss in the first subplot\n",
    "axs[0].plot(epochs, loss_history, label=\"Train Loss\", color=\"blue\")\n",
    "axs[0].plot(epochs, val_loss_history, label=\"Validation Loss\", color=\"orange\")\n",
    "axs[0].set_title(\"Training and Validation Loss Over Epochs\")\n",
    "axs[0].set_xlabel(\"Epochs\")\n",
    "axs[0].set_ylabel(\"Loss\")\n",
    "axs[0].legend()\n",
    "axs[0].grid(alpha=0.3)\n",
    "\n",
    "# Plot recall and FNR in the second subplot\n",
    "axs[1].plot(metric_epochs, recall_history, label=\"Recall\", marker='o', color=\"green\")\n",
    "axs[1].plot(metric_epochs, fnr_history, label=\"FNR\", marker='o', color=\"red\")\n",
    "axs[1].set_title(\"Recall and FNR Over Epochs\")\n",
    "axs[1].set_xlabel(\"Epochs\")\n",
    "axs[1].set_ylabel(\"Metric Value\")\n",
    "axs[1].legend()\n",
    "axs[1].grid(alpha=0.3)\n",
    "\n",
    "# Adjust layout and save the plot\n",
    "plt.tight_layout()\n",
    "# plt.savefig(\"train_valid_loss_recall_fnr.png\")\n",
    "plt.show()\n"
   ]
  },
  {
   "cell_type": "code",
   "execution_count": 24,
   "metadata": {},
   "outputs": [
    {
     "data": {
      "image/png": "[encoded data removed]",
      "text/plain": [
       "<Figure size 432x288 with 2 Axes>"
      ]
     },
     "metadata": {
      "needs_background": "light"
     },
     "output_type": "display_data"
    }
   ],
   "source": [
    "model.eval()\n",
    "\n",
    "# Select a single sample for analysis\n",
    "sample = torch.tensor(X_test[0:1], dtype=torch.float32, requires_grad=True)\n",
    "\n",
    "# Forward pass\n",
    "output = model(sample)\n",
    "output.backward(torch.ones_like(output))  # Backpropagate\n",
    "\n",
    "# Saliency map is the absolute value of the gradients\n",
    "saliency = sample.grad.abs().squeeze().detach().numpy()\n",
    "\n",
    "# Plot saliency heatmap\n",
    "plt.imshow(saliency, cmap=\"hot\", interpolation=\"nearest\")\n",
    "plt.colorbar()\n",
    "plt.title(\"Saliency Map for Input Features of CNN\")\n",
    "plt.savefig(\"../Image/saliency_map.pdf\")\n",
    "plt.show()\n"
   ]
  },
  {
   "cell_type": "code",
   "execution_count": 25,
   "metadata": {},
   "outputs": [
    {
     "name": "stdout",
     "output_type": "stream",
     "text": [
      "          Feature  Importance\n",
      "42  EDDisposition   70.168602\n",
      "20            AMS   46.524891\n",
      "21        SFxPalp   23.043610\n",
      "34          Drugs   19.724960\n",
      "29        ClavOcc   18.773315\n",
      "26       ClavFace   17.326120\n",
      "24           Hema   16.802305\n",
      "10          Vomit   16.749733\n",
      "23         SFxBas   16.088211\n",
      "15         GCSEye   14.274961\n"
     ]
    }
   ],
   "source": [
    "import numpy as np\n",
    "import pandas as pd\n",
    "\n",
    "# Feature names (including padded zeros at the end for CNN input compatibility)\n",
    "feature_names = [\n",
    "    'PatNum', 'EmplType', 'Certification', 'InjuryMech', 'High_impact_InjSev', \n",
    "    'Amnesia_verb', 'LOCSeparate', 'Seiz', 'ActNorm', 'HA_verb', 'Vomit', \n",
    "    'Dizzy', 'Intubated', 'Paralyzed', 'Sedated', 'GCSEye', 'GCSVerbal', \n",
    "    'GCSMotor', 'GCSTotal', 'GCSGroup', 'AMS', 'SFxPalp', 'FontBulg', \n",
    "    'SFxBas', 'Hema', 'Clav', 'ClavFace', 'ClavNeck', 'ClavFro', 'ClavOcc', \n",
    "    'ClavPar', 'ClavTem', 'NeuroD', 'OSI', 'Drugs', 'AgeInMonth', \n",
    "    'AgeinYears', 'AgeTwoPlus', 'Gender', 'Ethnicity', 'Race', 'Observed', \n",
    "    'EDDisposition', 'Padding1', 'Padding2'\n",
    "]\n",
    "\n",
    "# Aggregate saliency maps over the test set\n",
    "model.eval()\n",
    "saliency_map = []\n",
    "\n",
    "for i in range(len(X_test)):\n",
    "    sample = torch.tensor(X_test[i:i+1], dtype=torch.float32, requires_grad=True)\n",
    "    output = model(sample)\n",
    "    output.backward(torch.ones_like(output))\n",
    "    saliency = sample.grad.abs().squeeze().detach().numpy()\n",
    "    saliency_map.append(saliency)\n",
    "\n",
    "# Average saliency values across the test set\n",
    "avg_saliency = np.mean(saliency_map, axis=0)\n",
    "\n",
    "# Create a DataFrame for feature importance\n",
    "saliency_df = pd.DataFrame({\n",
    "    'Feature': feature_names,\n",
    "    'Importance': avg_saliency.flatten()\n",
    "})\n",
    "\n",
    "# Remove padding features\n",
    "saliency_df = saliency_df[~saliency_df['Feature'].str.contains(\"Padding\")]\n",
    "\n",
    "# Sort features by importance\n",
    "saliency_df = saliency_df.sort_values(by='Importance', ascending=False)\n",
    "\n",
    "# Display top 10 features\n",
    "print(saliency_df.head(10))\n"
   ]
  },
  {
   "cell_type": "code",
   "execution_count": 24,
   "metadata": {},
   "outputs": [],
   "source": [
    "model.eval()\n",
    "\n",
    "# Create a list to store probabilities\n",
    "probabilities_list = []\n",
    "\n",
    "# Get probabilities for the test set\n",
    "with torch.no_grad():\n",
    "    for inputs, _ in test_dataloader:  # Only inputs needed for predictions\n",
    "        outputs = model(inputs).squeeze()  # Raw logits\n",
    "        probabilities = torch.sigmoid(outputs)  # Convert logits to probabilities\n",
    "        probabilities_list.append(probabilities.cpu().numpy())\n",
    "\n",
    "# Concatenate all probabilities into a single array\n",
    "probabilities_test = np.concatenate(probabilities_list, axis=0)\n",
    "\n",
    "# Save probabilities to a .npy file\n",
    "np.save(\"../results/cnn.npy\", probabilities_test)\n"
   ]
  },
  {
   "cell_type": "code",
   "execution_count": 26,
   "metadata": {},
   "outputs": [],
   "source": [
    "\n",
    "from sklearn.metrics import classification_report, confusion_matrix"
   ]
  },
  {
   "cell_type": "code",
   "execution_count": 28,
   "metadata": {},
   "outputs": [
    {
     "name": "stdout",
     "output_type": "stream",
     "text": [
      "Confusion Matrix:\n",
      "[[7857  397]\n",
      " [  18  136]]\n",
      "Classification Report:\n",
      "              precision    recall  f1-score   support\n",
      "\n",
      "         0.0     0.9977    0.9519    0.9743      8254\n",
      "         1.0     0.2552    0.8831    0.3959       154\n",
      "\n",
      "    accuracy                         0.9506      8408\n",
      "   macro avg     0.6264    0.9175    0.6851      8408\n",
      "weighted avg     0.9841    0.9506    0.9637      8408\n",
      "\n"
     ]
    }
   ],
   "source": [
    "y_pred = probabilities_test\n",
    "# threshold of 0.2\n",
    "y_pred[y_pred > 0.2] = 1\n",
    "y_pred[y_pred <= 0.2] = 0\n",
    "\n",
    "\n",
    "# Confusion matrix\n",
    "conf_matrix = confusion_matrix(y_test, y_pred)\n",
    "print(\"Confusion Matrix:\")\n",
    "print(conf_matrix)\n",
    "\n",
    "# Classification report with precision, recall, and F1-score\n",
    "print(\"Classification Report:\")\n",
    "print(classification_report(y_test, y_pred, digits=4))"
   ]
  }
 ],
 "metadata": {
  "kernelspec": {
   "display_name": "Python 3",
   "language": "python",
   "name": "python3"
  },
  "language_info": {
   "codemirror_mode": {
    "name": "ipython",
    "version": 3
   },
   "file_extension": ".py",
   "mimetype": "text/x-python",
   "name": "python",
   "nbconvert_exporter": "python",
   "pygments_lexer": "ipython3",
   "version": "3.8.10"
  }
 },
 "nbformat": 4,
 "nbformat_minor": 2
}
