{
 "cells": [
  {
   "cell_type": "code",
   "execution_count": 17,
   "metadata": {},
   "outputs": [
    {
     "name": "stdout",
     "output_type": "stream",
     "text": [
      "The autoreload extension is already loaded. To reload it, use:\n",
      "  %reload_ext autoreload\n"
     ]
    }
   ],
   "source": [
    "%load_ext autoreload\n",
    "%autoreload 2\n"
   ]
  },
  {
   "cell_type": "code",
   "execution_count": 18,
   "metadata": {},
   "outputs": [],
   "source": [
    "import pandas as pd\n",
    "import numpy as np\n",
    "import copy\n",
    "from sklearn.ensemble import RandomForestClassifier\n",
    "from sklearn.model_selection import train_test_split\n",
    "from sklearn.metrics import classification_report, confusion_matrix, roc_auc_score\n",
    "from sklearn.metrics import accuracy_score\n",
    "from sklearn.discriminant_analysis import LinearDiscriminantAnalysis, QuadraticDiscriminantAnalysis\n",
    "from sklearn.metrics import confusion_matrix, classification_report, roc_auc_score, roc_curve\n",
    "import matplotlib.pyplot as plt\n",
    "from sklearn.impute import SimpleImputer\n",
    "import clean as clean\n",
    "from sklearn.utils import resample"
   ]
  },
  {
   "cell_type": "code",
   "execution_count": 19,
   "metadata": {},
   "outputs": [],
   "source": [
    "# Helper function to calculate False Negative Rate\n",
    "def evaluate_fnr(y_true, y_pred):\n",
    "    cm = confusion_matrix(y_true, y_pred)\n",
    "    fn = cm[1, 0]\n",
    "    tp = cm[1, 1]\n",
    "    return fn / (fn + tp)"
   ]
  },
  {
   "cell_type": "code",
   "execution_count": 20,
   "metadata": {},
   "outputs": [],
   "source": [
    "# Load the raw data\n",
    "dt_raw = pd.read_csv('../data/TBI PUD 10-08-2013.csv')\n",
    "dt_clean = clean.clean_data('../data/TBI PUD 10-08-2013.csv', remove_feats_after_ct=True, remove_TBI_rows_with_nan=True,threshold=0.5,rm_feats=True,remove_GCS_total_mismatch=True)"
   ]
  },
  {
   "cell_type": "code",
   "execution_count": 21,
   "metadata": {},
   "outputs": [],
   "source": [
    "# train and test load\n",
    "X_train_balanced = np.load('../train_test/X_train_balanced.npy')\n",
    "y_train_balanced = np.load('../train_test/y_train_balanced.npy')\n",
    "X_test = np.load('../train_test/X_test.npy')\n",
    "y_test = np.load('../train_test/y_test.npy')"
   ]
  },
  {
   "cell_type": "code",
   "execution_count": 22,
   "metadata": {},
   "outputs": [
    {
     "name": "stderr",
     "output_type": "stream",
     "text": [
      "/Users/vidhisinha/Downloads/ENTER/envs/215a/lib/python3.11/site-packages/sklearn/discriminant_analysis.py:947: UserWarning: Variables are collinear\n",
      "  warnings.warn(\"Variables are collinear\")\n"
     ]
    }
   ],
   "source": [
    "# QDA\n",
    "# Initialize model\n",
    "qda_model = QuadraticDiscriminantAnalysis()\n",
    "qda_model.fit(X_train_balanced, y_train_balanced)\n",
    "# Predictions for QDA\n",
    "y_pred_qda = qda_model.predict(X_test)\n",
    "y_proba_qda = qda_model.predict_proba(X_test)[:, 1]  # Probabilities for the positive class\n",
    "# save the model in results folder\n",
    "np.save('../results/qda.npy', y_proba_qda)"
   ]
  },
  {
   "cell_type": "code",
   "execution_count": 23,
   "metadata": {},
   "outputs": [
    {
     "name": "stdout",
     "output_type": "stream",
     "text": [
      "False Negative Rate for LDA: 0.2987012987012987\n"
     ]
    }
   ],
   "source": [
    "# False negative rate for LDA\n",
    "fnr_qda = evaluate_fnr(y_test, y_pred_qda)\n",
    "print(f'False Negative Rate for LDA: {fnr_qda}')"
   ]
  },
  {
   "cell_type": "code",
   "execution_count": 24,
   "metadata": {},
   "outputs": [
    {
     "name": "stdout",
     "output_type": "stream",
     "text": [
      "=== LDA Evaluation ===\n",
      "Confusion Matrix:\n",
      "[[7644  610]\n",
      " [  46  108]]\n",
      "\n",
      "Classification Report:\n",
      "              precision    recall  f1-score   support\n",
      "\n",
      "         0.0       0.99      0.93      0.96      8254\n",
      "         1.0       0.15      0.70      0.25       154\n",
      "\n",
      "    accuracy                           0.92      8408\n",
      "   macro avg       0.57      0.81      0.60      8408\n",
      "weighted avg       0.98      0.92      0.95      8408\n",
      "\n",
      "\n",
      "ROC AUC Score:\n",
      "0.9202527542726235\n"
     ]
    }
   ],
   "source": [
    "# Evaluation Metrics for LDA\n",
    "print(\"=== LDA Evaluation ===\")\n",
    "print(\"Confusion Matrix:\")\n",
    "print(confusion_matrix(y_test, y_pred_qda))\n",
    "print(\"\\nClassification Report:\")\n",
    "print(classification_report(y_test, y_pred_qda))\n",
    "print(\"\\nROC AUC Score:\")\n",
    "print(roc_auc_score(y_test, y_proba_qda))"
   ]
  }
 ],
 "metadata": {
  "kernelspec": {
   "display_name": "215a",
   "language": "python",
   "name": "python3"
  },
  "language_info": {
   "codemirror_mode": {
    "name": "ipython",
    "version": 3
   },
   "file_extension": ".py",
   "mimetype": "text/x-python",
   "name": "python",
   "nbconvert_exporter": "python",
   "pygments_lexer": "ipython3",
   "version": "3.11.8"
  }
 },
 "nbformat": 4,
 "nbformat_minor": 2
}
