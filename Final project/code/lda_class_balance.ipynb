{
 "cells": [
  {
   "cell_type": "code",
   "execution_count": 19,
   "metadata": {},
   "outputs": [
    {
     "name": "stdout",
     "output_type": "stream",
     "text": [
      "The autoreload extension is already loaded. To reload it, use:\n",
      "  %reload_ext autoreload\n"
     ]
    }
   ],
   "source": [
    "%load_ext autoreload\n",
    "%autoreload 2\n"
   ]
  },
  {
   "cell_type": "code",
   "execution_count": 20,
   "metadata": {},
   "outputs": [],
   "source": [
    "import numpy as np\n",
    "import pandas as pd\n",
    "from sklearn.discriminant_analysis import LinearDiscriminantAnalysis\n",
    "from sklearn.model_selection import train_test_split\n",
    "from sklearn.metrics import confusion_matrix, roc_curve, auc, classification_report, roc_auc_score\n",
    "from imblearn.over_sampling import SMOTE\n",
    "from imblearn.under_sampling import RandomUnderSampler\n",
    "import matplotlib.pyplot as plt\n",
    "import clean as clean\n",
    "from sklearn.impute import SimpleImputer\n",
    "from sklearn.utils import resample"
   ]
  },
  {
   "cell_type": "code",
   "execution_count": 21,
   "metadata": {},
   "outputs": [],
   "source": [
    "# Helper function to calculate False Negative Rate\n",
    "def evaluate_fnr(y_true, y_pred):\n",
    "    cm = confusion_matrix(y_true, y_pred)\n",
    "    fn = cm[1, 0]\n",
    "    tp = cm[1, 1]\n",
    "    return fn / (fn + tp)"
   ]
  },
  {
   "cell_type": "code",
   "execution_count": 22,
   "metadata": {},
   "outputs": [],
   "source": [
    "# Load the raw data\n",
    "dt_raw = pd.read_csv('../data/TBI PUD 10-08-2013.csv')\n",
    "dt_clean = clean.clean_data('../data/TBI PUD 10-08-2013.csv', remove_feats_after_ct=True, remove_TBI_rows_with_nan=True,threshold=0.5,rm_feats=True,remove_GCS_total_mismatch=True)"
   ]
  },
  {
   "cell_type": "code",
   "execution_count": 23,
   "metadata": {},
   "outputs": [],
   "source": [
    "# Sample dataset (replace this with your actual data)\n",
    "X = dt_clean.drop(columns=[\"PosIntFinal\"])  # Features\n",
    "y = dt_clean[\"PosIntFinal\"]  # Target\n",
    "\n",
    "# Split the data into train and test\n",
    "X_train, X_test, y_train, y_test = train_test_split(X, y, test_size=0.2, random_state=42)\n",
    "\n",
    "# Handle missing values\n",
    "imputer = SimpleImputer(strategy='mean')  # Replace NaN with mean\n",
    "X_train = imputer.fit_transform(X_train)\n",
    "X_test = imputer.transform(X_test)"
   ]
  },
  {
   "cell_type": "code",
   "execution_count": 24,
   "metadata": {},
   "outputs": [],
   "source": [
    "# Oversample the minority class to simulate class weighting, run this is you want to save train test data\n",
    "save = False\n",
    "# Combine X_train and y_train into one dataset\n",
    "train_data = np.hstack((X_train, y_train.values.reshape(-1, 1)))\n",
    "\n",
    "# Separate majority and minority classes\n",
    "majority = train_data[y_train == 0]\n",
    "minority = train_data[y_train == 1]\n",
    "\n",
    "# Oversample the minority class\n",
    "minority_oversampled = resample(minority, replace=True, n_samples=len(majority), random_state=42)\n",
    "\n",
    "# Combine back into a balanced dataset\n",
    "train_balanced = np.vstack((majority, minority_oversampled))\n",
    "np.random.shuffle(train_balanced)  # Shuffle the dataset\n",
    "\n",
    "# Split features and target\n",
    "X_train_balanced = train_balanced[:, :-1]\n",
    "y_train_balanced = train_balanced[:, -1]\n",
    "\n",
    "if save:\n",
    "    # save x_train_balanced, y_train_balanced, x_test, y_test\n",
    "    np.save('../train_test/X_train_balanced.npy', X_train_balanced)\n",
    "    np.save('../train_test/y_train_balanced.npy', y_train_balanced)\n",
    "    np.save('../train_test/X_test.npy', X_test)\n",
    "    np.save('../train_test/y_test.npy', y_test)"
   ]
  },
  {
   "cell_type": "code",
   "execution_count": 25,
   "metadata": {},
   "outputs": [],
   "source": [
    "# LDA\n",
    "# Initialize model\n",
    "lda_model = LinearDiscriminantAnalysis()\n",
    "lda_model.fit(X_train_balanced, y_train_balanced)\n",
    "# Predictions for LDA\n",
    "y_pred_lda = lda_model.predict(X_test)\n",
    "y_proba_lda = lda_model.predict_proba(X_test)[:, 1]  # Probabilities for the positive class\n",
    "np.save('../results/lda.npy', y_proba_lda)"
   ]
  },
  {
   "cell_type": "code",
   "execution_count": 26,
   "metadata": {},
   "outputs": [
    {
     "name": "stdout",
     "output_type": "stream",
     "text": [
      "False Negative Rate for LDA: 0.16233766233766234\n"
     ]
    }
   ],
   "source": [
    "# False negative rate for LDA\n",
    "fnr_lda = evaluate_fnr(y_test, y_pred_lda)\n",
    "print(f'False Negative Rate for LDA: {fnr_lda}')"
   ]
  },
  {
   "cell_type": "code",
   "execution_count": 27,
   "metadata": {},
   "outputs": [
    {
     "name": "stdout",
     "output_type": "stream",
     "text": [
      "=== LDA Evaluation ===\n",
      "Confusion Matrix:\n",
      "[[7339  915]\n",
      " [  25  129]]\n",
      "\n",
      "Classification Report:\n",
      "              precision    recall  f1-score   support\n",
      "\n",
      "         0.0       1.00      0.89      0.94      8254\n",
      "         1.0       0.12      0.84      0.22       154\n",
      "\n",
      "    accuracy                           0.89      8408\n",
      "   macro avg       0.56      0.86      0.58      8408\n",
      "weighted avg       0.98      0.89      0.93      8408\n",
      "\n",
      "\n",
      "ROC AUC Score:\n",
      "0.9380143118330665\n"
     ]
    }
   ],
   "source": [
    "# Evaluation Metrics for LDA\n",
    "print(\"=== LDA Evaluation ===\")\n",
    "print(\"Confusion Matrix:\")\n",
    "print(confusion_matrix(y_test, y_pred_lda))\n",
    "print(\"\\nClassification Report:\")\n",
    "print(classification_report(y_test, y_pred_lda))\n",
    "print(\"\\nROC AUC Score:\")\n",
    "print(roc_auc_score(y_test, y_proba_lda))"
   ]
  }
 ],
 "metadata": {
  "kernelspec": {
   "display_name": "215a",
   "language": "python",
   "name": "python3"
  },
  "language_info": {
   "codemirror_mode": {
    "name": "ipython",
    "version": 3
   },
   "file_extension": ".py",
   "mimetype": "text/x-python",
   "name": "python",
   "nbconvert_exporter": "python",
   "pygments_lexer": "ipython3",
   "version": "3.11.8"
  }
 },
 "nbformat": 4,
 "nbformat_minor": 2
}
