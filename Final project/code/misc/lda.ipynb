{
 "cells": [
  {
   "cell_type": "code",
   "execution_count": 1,
   "metadata": {},
   "outputs": [],
   "source": [
    "%load_ext autoreload\n",
    "%autoreload 2\n"
   ]
  },
  {
   "cell_type": "code",
   "execution_count": 2,
   "metadata": {},
   "outputs": [],
   "source": [
    "import pandas as pd\n",
    "import numpy as np\n",
    "import copy\n",
    "from sklearn.ensemble import RandomForestClassifier\n",
    "from sklearn.model_selection import train_test_split\n",
    "from sklearn.metrics import classification_report, confusion_matrix, roc_auc_score\n",
    "from sklearn.metrics import accuracy_score\n",
    "from sklearn.discriminant_analysis import LinearDiscriminantAnalysis, QuadraticDiscriminantAnalysis\n",
    "from sklearn.metrics import confusion_matrix, classification_report, roc_auc_score, roc_curve\n",
    "import matplotlib.pyplot as plt\n",
    "from sklearn.impute import SimpleImputer\n",
    "import clean as clean"
   ]
  },
  {
   "cell_type": "code",
   "execution_count": 3,
   "metadata": {},
   "outputs": [],
   "source": [
    "# Helper function to calculate False Negative Rate\n",
    "def evaluate_fnr(y_true, y_pred):\n",
    "    cm = confusion_matrix(y_true, y_pred)\n",
    "    fn = cm[1, 0]\n",
    "    tp = cm[1, 1]\n",
    "    return fn / (fn + tp)"
   ]
  },
  {
   "cell_type": "code",
   "execution_count": 4,
   "metadata": {},
   "outputs": [],
   "source": [
    "# Load the raw data\n",
    "dt_raw = pd.read_csv('../data/TBI PUD 10-08-2013.csv')\n",
    "dt_clean = clean.clean_data('../data/TBI PUD 10-08-2013.csv', remove_feats_after_ct=True, remove_TBI_rows_with_nan=True,threshold=0.5,rm_feats=True,remove_GCS_total_mismatch=True)"
   ]
  },
  {
   "cell_type": "code",
   "execution_count": 5,
   "metadata": {},
   "outputs": [],
   "source": [
    "# Split into training and test sets\n",
    "train_df, test_df = train_test_split(dt_clean, test_size=0.2, random_state=42)\n",
    "\n",
    "# Separate features (X) and target (y)\n",
    "y_train = train_df[\"PosIntFinal\"]\n",
    "X_train = train_df.drop(columns=[\"PosIntFinal\"])\n",
    "y_test = test_df[\"PosIntFinal\"]\n",
    "X_test = test_df.drop(columns=[\"PosIntFinal\"])"
   ]
  },
  {
   "cell_type": "code",
   "execution_count": 6,
   "metadata": {},
   "outputs": [],
   "source": [
    "# Impute missing values in X_train and X_test\n",
    "imputer = SimpleImputer(strategy='mean')  # Impute with mean values\n",
    "X_train = imputer.fit_transform(X_train)\n",
    "X_test = imputer.transform(X_test)\n",
    "\n",
    "# Initialize models\n",
    "lda_model = LinearDiscriminantAnalysis()"
   ]
  },
  {
   "cell_type": "code",
   "execution_count": 7,
   "metadata": {},
   "outputs": [],
   "source": [
    "# Train LDA model\n",
    "lda_model.fit(X_train, y_train)\n",
    "\n",
    "# Predictions for LDA\n",
    "y_pred_lda = lda_model.predict(X_test)\n",
    "y_proba_lda = lda_model.predict_proba(X_test)[:, 1]  # Probabilities for the positive class\n",
    "# save the model in results folder\n",
    "np.save('../results/lda.npy', y_proba_lda)"
   ]
  },
  {
   "cell_type": "code",
   "execution_count": 8,
   "metadata": {},
   "outputs": [
    {
     "name": "stdout",
     "output_type": "stream",
     "text": [
      "=== LDA Evaluation ===\n",
      "Confusion Matrix:\n",
      "[[8186   68]\n",
      " [  83   71]]\n",
      "\n",
      "Classification Report:\n",
      "              precision    recall  f1-score   support\n",
      "\n",
      "         0.0       0.99      0.99      0.99      8254\n",
      "         1.0       0.51      0.46      0.48       154\n",
      "\n",
      "    accuracy                           0.98      8408\n",
      "   macro avg       0.75      0.73      0.74      8408\n",
      "weighted avg       0.98      0.98      0.98      8408\n",
      "\n",
      "\n",
      "ROC AUC Score:\n",
      "0.9385831033517004\n"
     ]
    }
   ],
   "source": [
    "# Evaluation Metrics for LDA\n",
    "print(\"=== LDA Evaluation ===\")\n",
    "print(\"Confusion Matrix:\")\n",
    "print(confusion_matrix(y_test, y_pred_lda))\n",
    "print(\"\\nClassification Report:\")\n",
    "print(classification_report(y_test, y_pred_lda))\n",
    "print(\"\\nROC AUC Score:\")\n",
    "print(roc_auc_score(y_test, y_proba_lda))"
   ]
  },
  {
   "cell_type": "code",
   "execution_count": 9,
   "metadata": {},
   "outputs": [
    {
     "name": "stdout",
     "output_type": "stream",
     "text": [
      "False Negative Rate for LDA: 0.538961038961039\n"
     ]
    }
   ],
   "source": [
    "# False negative rate for LDA\n",
    "fnr_lda = evaluate_fnr(y_test, y_pred_lda)\n",
    "print(f'False Negative Rate for LDA: {fnr_lda}')"
   ]
  }
 ],
 "metadata": {
  "kernelspec": {
   "display_name": "215a",
   "language": "python",
   "name": "python3"
  },
  "language_info": {
   "codemirror_mode": {
    "name": "ipython",
    "version": 3
   },
   "file_extension": ".py",
   "mimetype": "text/x-python",
   "name": "python",
   "nbconvert_exporter": "python",
   "pygments_lexer": "ipython3",
   "version": "3.11.8"
  }
 },
 "nbformat": 4,
 "nbformat_minor": 2
}
