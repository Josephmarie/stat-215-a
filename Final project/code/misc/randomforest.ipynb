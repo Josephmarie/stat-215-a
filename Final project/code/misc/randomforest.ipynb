{
 "cells": [
  {
   "cell_type": "code",
   "execution_count": 38,
   "metadata": {},
   "outputs": [
    {
     "name": "stdout",
     "output_type": "stream",
     "text": [
      "The autoreload extension is already loaded. To reload it, use:\n",
      "  %reload_ext autoreload\n"
     ]
    }
   ],
   "source": [
    "%load_ext autoreload\n",
    "%autoreload 2\n"
   ]
  },
  {
   "cell_type": "code",
   "execution_count": 39,
   "metadata": {},
   "outputs": [],
   "source": [
    "import pandas as pd\n",
    "import numpy as np\n",
    "import copy\n",
    "from sklearn.ensemble import RandomForestClassifier\n",
    "from sklearn.model_selection import train_test_split\n",
    "from sklearn.metrics import classification_report, confusion_matrix, roc_auc_score\n",
    "from sklearn.metrics import accuracy_score\n",
    "from sklearn.discriminant_analysis import LinearDiscriminantAnalysis, QuadraticDiscriminantAnalysis\n",
    "from sklearn.metrics import confusion_matrix, classification_report, roc_auc_score, roc_curve\n",
    "import matplotlib.pyplot as plt\n",
    "from sklearn.impute import SimpleImputer\n",
    "import clean as clean"
   ]
  },
  {
   "cell_type": "code",
   "execution_count": 40,
   "metadata": {},
   "outputs": [],
   "source": [
    "# Load the raw data\n",
    "dt_raw = pd.read_csv('../data/TBI PUD 10-08-2013.csv')\n",
    "dt_clean = clean.clean_data('../data/TBI PUD 10-08-2013.csv', remove_feats_after_ct=True, remove_TBI_rows_with_nan=True,threshold=0.5,rm_feats=True,remove_GCS_total_mismatch=True)"
   ]
  },
  {
   "cell_type": "code",
   "execution_count": 41,
   "metadata": {},
   "outputs": [
    {
     "name": "stdout",
     "output_type": "stream",
     "text": [
      "Index(['PatNum', 'EmplType', 'Certification', 'InjuryMech',\n",
      "       'High_impact_InjSev', 'Amnesia_verb', 'LOCSeparate', 'Seiz', 'ActNorm',\n",
      "       'HA_verb', 'Vomit', 'Dizzy', 'Intubated', 'Paralyzed', 'Sedated',\n",
      "       'GCSEye', 'GCSVerbal', 'GCSMotor', 'GCSTotal', 'GCSGroup', 'AMS',\n",
      "       'SFxPalp', 'FontBulg', 'SFxBas', 'Hema', 'Clav', 'ClavFace', 'ClavNeck',\n",
      "       'ClavFro', 'ClavOcc', 'ClavPar', 'ClavTem', 'NeuroD', 'OSI', 'Drugs',\n",
      "       'AgeInMonth', 'AgeinYears', 'AgeTwoPlus', 'Gender', 'Ethnicity', 'Race',\n",
      "       'Observed', 'EDDisposition', 'PosIntFinal'],\n",
      "      dtype='object')\n"
     ]
    }
   ],
   "source": [
    "print(dt_clean.columns)"
   ]
  },
  {
   "cell_type": "code",
   "execution_count": 42,
   "metadata": {},
   "outputs": [],
   "source": [
    "# Split into training and test sets\n",
    "train_df, test_df = train_test_split(dt_clean, test_size=0.2, random_state=42)\n",
    "\n",
    "# Separate features (X) and target (y)\n",
    "y_train = train_df[\"PosIntFinal\"]\n",
    "X_train = train_df.drop(columns=[\"PosIntFinal\"])\n",
    "y_test = test_df[\"PosIntFinal\"]\n",
    "X_test = test_df.drop(columns=[\"PosIntFinal\"])\n",
    "\n",
    "# Train a Random Forest model with class weighting to address imbalance\n",
    "rf_model = RandomForestClassifier(n_estimators=100, random_state=42, class_weight=\"balanced\")\n",
    "rf_model.fit(X_train, y_train)\n",
    "\n",
    "# Predictions\n",
    "y_pred = rf_model.predict(X_test)\n",
    "y_proba = rf_model.predict_proba(X_test)[:, 1]  # Probabilities for the positive class\n",
    "\n",
    "# save the model in results folder\n",
    "np.save('../results/randomforest.npy', y_proba)"
   ]
  },
  {
   "cell_type": "code",
   "execution_count": 43,
   "metadata": {},
   "outputs": [
    {
     "name": "stdout",
     "output_type": "stream",
     "text": [
      "Confusion Matrix:\n",
      "[[8244   10]\n",
      " [ 106   48]]\n",
      "\n",
      "Classification Report:\n",
      "              precision    recall  f1-score   support\n",
      "\n",
      "         0.0       0.99      1.00      0.99      8254\n",
      "         1.0       0.83      0.31      0.45       154\n",
      "\n",
      "    accuracy                           0.99      8408\n",
      "   macro avg       0.91      0.66      0.72      8408\n",
      "weighted avg       0.98      0.99      0.98      8408\n",
      "\n",
      "\n",
      "ROC AUC Score:\n",
      "0.9739771979897981\n",
      "\n",
      "Top 10 Feature Importances:\n",
      "          Feature  Importance\n",
      "42  EDDisposition    0.344443\n",
      "20            AMS    0.077687\n",
      "8         ActNorm    0.062070\n",
      "18       GCSTotal    0.060269\n",
      "16      GCSVerbal    0.057429\n",
      "6     LOCSeparate    0.052580\n",
      "19       GCSGroup    0.024723\n",
      "15         GCSEye    0.024575\n",
      "35     AgeInMonth    0.023595\n",
      "0          PatNum    0.023489\n"
     ]
    }
   ],
   "source": [
    "# Evaluate the model\n",
    "print(\"Confusion Matrix:\")\n",
    "print(confusion_matrix(y_test, y_pred))\n",
    "print(\"\\nClassification Report:\")\n",
    "print(classification_report(y_test, y_pred))\n",
    "print(\"\\nROC AUC Score:\")\n",
    "print(roc_auc_score(y_test, y_proba))\n",
    "\n",
    "# Feature Importance\n",
    "feature_importances = pd.DataFrame({\n",
    "    'Feature': X.columns,\n",
    "    'Importance': rf_model.feature_importances_\n",
    "}).sort_values(by='Importance', ascending=False)\n",
    "\n",
    "print(\"\\nTop 10 Feature Importances:\")\n",
    "print(feature_importances.head(10))"
   ]
  }
 ],
 "metadata": {
  "kernelspec": {
   "display_name": "215a",
   "language": "python",
   "name": "python3"
  },
  "language_info": {
   "codemirror_mode": {
    "name": "ipython",
    "version": 3
   },
   "file_extension": ".py",
   "mimetype": "text/x-python",
   "name": "python",
   "nbconvert_exporter": "python",
   "pygments_lexer": "ipython3",
   "version": "3.11.8"
  }
 },
 "nbformat": 4,
 "nbformat_minor": 2
}
