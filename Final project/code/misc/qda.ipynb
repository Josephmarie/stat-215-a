{
 "cells": [
  {
   "cell_type": "code",
   "execution_count": 3,
   "metadata": {},
   "outputs": [
    {
     "name": "stdout",
     "output_type": "stream",
     "text": [
      "The autoreload extension is already loaded. To reload it, use:\n",
      "  %reload_ext autoreload\n"
     ]
    }
   ],
   "source": [
    "%load_ext autoreload\n",
    "%autoreload 2\n"
   ]
  },
  {
   "cell_type": "code",
   "execution_count": 4,
   "metadata": {},
   "outputs": [],
   "source": [
    "import pandas as pd\n",
    "import numpy as np\n",
    "import copy\n",
    "from sklearn.ensemble import RandomForestClassifier\n",
    "from sklearn.model_selection import train_test_split\n",
    "from sklearn.metrics import classification_report, confusion_matrix, roc_auc_score\n",
    "from sklearn.metrics import accuracy_score\n",
    "from sklearn.discriminant_analysis import LinearDiscriminantAnalysis, QuadraticDiscriminantAnalysis\n",
    "from sklearn.metrics import confusion_matrix, classification_report, roc_auc_score, roc_curve\n",
    "import matplotlib.pyplot as plt\n",
    "from sklearn.impute import SimpleImputer\n",
    "import clean as clean"
   ]
  },
  {
   "cell_type": "code",
   "execution_count": 5,
   "metadata": {},
   "outputs": [],
   "source": [
    "# Load the raw data\n",
    "dt_raw = pd.read_csv('../data/TBI PUD 10-08-2013.csv')\n",
    "dt_clean = clean.clean_data('../data/TBI PUD 10-08-2013.csv', remove_feats_after_ct=True, remove_TBI_rows_with_nan=True,threshold=0.5,rm_feats=True,remove_GCS_total_mismatch=True)"
   ]
  },
  {
   "cell_type": "code",
   "execution_count": 6,
   "metadata": {},
   "outputs": [],
   "source": [
    "# Split into training and test sets\n",
    "train_df, test_df = train_test_split(dt_clean, test_size=0.2, random_state=42)\n",
    "\n",
    "# Separate features (X) and target (y)\n",
    "y_train = train_df[\"PosIntFinal\"]\n",
    "X_train = train_df.drop(columns=[\"PosIntFinal\"])\n",
    "y_test = test_df[\"PosIntFinal\"]\n",
    "X_test = test_df.drop(columns=[\"PosIntFinal\"])"
   ]
  },
  {
   "cell_type": "code",
   "execution_count": 7,
   "metadata": {},
   "outputs": [],
   "source": [
    "# Impute missing values in X_train and X_test\n",
    "imputer = SimpleImputer(strategy='mean')  # Impute with mean values\n",
    "X_train = imputer.fit_transform(X_train)\n",
    "X_test = imputer.transform(X_test)\n",
    "\n",
    "# Initialize models\n",
    "qda_model = QuadraticDiscriminantAnalysis()"
   ]
  },
  {
   "cell_type": "code",
   "execution_count": 8,
   "metadata": {},
   "outputs": [
    {
     "name": "stderr",
     "output_type": "stream",
     "text": [
      "/Users/vidhisinha/Downloads/ENTER/envs/215a/lib/python3.11/site-packages/sklearn/discriminant_analysis.py:947: UserWarning: Variables are collinear\n",
      "  warnings.warn(\"Variables are collinear\")\n"
     ]
    }
   ],
   "source": [
    "# Train QDA model\n",
    "qda_model.fit(X_train, y_train)\n",
    "\n",
    "# Predictions for QDA\n",
    "y_pred_qda = qda_model.predict(X_test)\n",
    "y_proba_qda = qda_model.predict_proba(X_test)[:, 1]  # Probabilities for the positive class\n",
    "# save the model in results folder\n",
    "np.save('../results/qda.npy', y_proba_qda)"
   ]
  },
  {
   "cell_type": "code",
   "execution_count": 9,
   "metadata": {},
   "outputs": [
    {
     "name": "stdout",
     "output_type": "stream",
     "text": [
      "\n",
      "=== QDA Evaluation ===\n",
      "Confusion Matrix:\n",
      "[[7713  541]\n",
      " [  49  105]]\n",
      "\n",
      "Classification Report:\n",
      "              precision    recall  f1-score   support\n",
      "\n",
      "         0.0       0.99      0.93      0.96      8254\n",
      "         1.0       0.16      0.68      0.26       154\n",
      "\n",
      "    accuracy                           0.93      8408\n",
      "   macro avg       0.58      0.81      0.61      8408\n",
      "weighted avg       0.98      0.93      0.95      8408\n",
      "\n",
      "\n",
      "ROC AUC Score:\n",
      "0.9194632905258057\n"
     ]
    }
   ],
   "source": [
    "# Evaluation Metrics for QDA\n",
    "print(\"\\n=== QDA Evaluation ===\")\n",
    "print(\"Confusion Matrix:\")\n",
    "print(confusion_matrix(y_test, y_pred_qda))\n",
    "print(\"\\nClassification Report:\")\n",
    "print(classification_report(y_test, y_pred_qda))\n",
    "print(\"\\nROC AUC Score:\")\n",
    "print(roc_auc_score(y_test, y_proba_qda))"
   ]
  }
 ],
 "metadata": {
  "kernelspec": {
   "display_name": "215a",
   "language": "python",
   "name": "python3"
  },
  "language_info": {
   "codemirror_mode": {
    "name": "ipython",
    "version": 3
   },
   "file_extension": ".py",
   "mimetype": "text/x-python",
   "name": "python",
   "nbconvert_exporter": "python",
   "pygments_lexer": "ipython3",
   "version": "3.11.8"
  }
 },
 "nbformat": 4,
 "nbformat_minor": 2
}
